{
 "cells": [
  {
   "cell_type": "markdown",
   "metadata": {},
   "source": [
    "# Toronto Dwellings Analysis\n",
    "\n",
    "In this assignment, you will perform fundamental analysis for the Toronto dwellings market to allow potential real estate investors to choose rental investment properties."
   ]
  },
  {
   "cell_type": "code",
   "execution_count": 2,
   "metadata": {},
   "outputs": [],
   "source": [
    "# imports\n",
    "import panel as pn\n",
    "pn.extension('plotly')\n",
    "import plotly.express as px\n",
    "import pandas as pd\n",
    "import hvplot.pandas\n",
    "import matplotlib.pyplot as plt\n",
    "import os\n",
    "from pathlib import Path\n",
    "from dotenv import load_dotenv"
   ]
  },
  {
   "cell_type": "code",
   "execution_count": 3,
   "metadata": {},
   "outputs": [],
   "source": [
    "# Read the Mapbox API key\n",
    "load_dotenv()\n",
    "map_box_api = os.getenv(\"mapbox\")"
   ]
  },
  {
   "cell_type": "markdown",
   "metadata": {},
   "source": [
    "## Load Data"
   ]
  },
  {
   "cell_type": "code",
   "execution_count": 5,
   "metadata": {},
   "outputs": [
    {
     "data": {
      "text/html": [
       "<div>\n",
       "<style scoped>\n",
       "    .dataframe tbody tr th:only-of-type {\n",
       "        vertical-align: middle;\n",
       "    }\n",
       "\n",
       "    .dataframe tbody tr th {\n",
       "        vertical-align: top;\n",
       "    }\n",
       "\n",
       "    .dataframe thead th {\n",
       "        text-align: right;\n",
       "    }\n",
       "</style>\n",
       "<table border=\"1\" class=\"dataframe\">\n",
       "  <thead>\n",
       "    <tr style=\"text-align: right;\">\n",
       "      <th></th>\n",
       "      <th>neighbourhood</th>\n",
       "      <th>single_detached_house</th>\n",
       "      <th>apartment_five_storeys_plus</th>\n",
       "      <th>movable_dwelling</th>\n",
       "      <th>semi_detached_house</th>\n",
       "      <th>row_house</th>\n",
       "      <th>duplex</th>\n",
       "      <th>apartment_five_storeys_less</th>\n",
       "      <th>other_house</th>\n",
       "      <th>average_house_value</th>\n",
       "      <th>shelter_costs_owned</th>\n",
       "      <th>shelter_costs_rented</th>\n",
       "    </tr>\n",
       "    <tr>\n",
       "      <th>year</th>\n",
       "      <th></th>\n",
       "      <th></th>\n",
       "      <th></th>\n",
       "      <th></th>\n",
       "      <th></th>\n",
       "      <th></th>\n",
       "      <th></th>\n",
       "      <th></th>\n",
       "      <th></th>\n",
       "      <th></th>\n",
       "      <th></th>\n",
       "      <th></th>\n",
       "    </tr>\n",
       "  </thead>\n",
       "  <tbody>\n",
       "    <tr>\n",
       "      <th>2001</th>\n",
       "      <td>Agincourt North</td>\n",
       "      <td>3715</td>\n",
       "      <td>1480</td>\n",
       "      <td>0</td>\n",
       "      <td>1055</td>\n",
       "      <td>1295</td>\n",
       "      <td>195</td>\n",
       "      <td>185</td>\n",
       "      <td>5</td>\n",
       "      <td>200388</td>\n",
       "      <td>810</td>\n",
       "      <td>870</td>\n",
       "    </tr>\n",
       "    <tr>\n",
       "      <th>2001</th>\n",
       "      <td>Agincourt South-Malvern West</td>\n",
       "      <td>3250</td>\n",
       "      <td>1835</td>\n",
       "      <td>0</td>\n",
       "      <td>545</td>\n",
       "      <td>455</td>\n",
       "      <td>105</td>\n",
       "      <td>425</td>\n",
       "      <td>0</td>\n",
       "      <td>203047</td>\n",
       "      <td>806</td>\n",
       "      <td>892</td>\n",
       "    </tr>\n",
       "    <tr>\n",
       "      <th>2001</th>\n",
       "      <td>Alderwood</td>\n",
       "      <td>3175</td>\n",
       "      <td>315</td>\n",
       "      <td>0</td>\n",
       "      <td>470</td>\n",
       "      <td>50</td>\n",
       "      <td>185</td>\n",
       "      <td>370</td>\n",
       "      <td>0</td>\n",
       "      <td>259998</td>\n",
       "      <td>817</td>\n",
       "      <td>924</td>\n",
       "    </tr>\n",
       "    <tr>\n",
       "      <th>2001</th>\n",
       "      <td>Annex</td>\n",
       "      <td>1060</td>\n",
       "      <td>6090</td>\n",
       "      <td>5</td>\n",
       "      <td>1980</td>\n",
       "      <td>605</td>\n",
       "      <td>275</td>\n",
       "      <td>3710</td>\n",
       "      <td>165</td>\n",
       "      <td>453850</td>\n",
       "      <td>1027</td>\n",
       "      <td>1378</td>\n",
       "    </tr>\n",
       "    <tr>\n",
       "      <th>2001</th>\n",
       "      <td>Banbury-Don Mills</td>\n",
       "      <td>3615</td>\n",
       "      <td>4465</td>\n",
       "      <td>0</td>\n",
       "      <td>240</td>\n",
       "      <td>380</td>\n",
       "      <td>15</td>\n",
       "      <td>1360</td>\n",
       "      <td>0</td>\n",
       "      <td>371864</td>\n",
       "      <td>1007</td>\n",
       "      <td>1163</td>\n",
       "    </tr>\n",
       "  </tbody>\n",
       "</table>\n",
       "</div>"
      ],
      "text/plain": [
       "                     neighbourhood  single_detached_house  \\\n",
       "year                                                        \n",
       "2001               Agincourt North                   3715   \n",
       "2001  Agincourt South-Malvern West                   3250   \n",
       "2001                     Alderwood                   3175   \n",
       "2001                         Annex                   1060   \n",
       "2001             Banbury-Don Mills                   3615   \n",
       "\n",
       "      apartment_five_storeys_plus  movable_dwelling  semi_detached_house  \\\n",
       "year                                                                       \n",
       "2001                         1480                 0                 1055   \n",
       "2001                         1835                 0                  545   \n",
       "2001                          315                 0                  470   \n",
       "2001                         6090                 5                 1980   \n",
       "2001                         4465                 0                  240   \n",
       "\n",
       "      row_house  duplex  apartment_five_storeys_less  other_house  \\\n",
       "year                                                                \n",
       "2001       1295     195                          185            5   \n",
       "2001        455     105                          425            0   \n",
       "2001         50     185                          370            0   \n",
       "2001        605     275                         3710          165   \n",
       "2001        380      15                         1360            0   \n",
       "\n",
       "      average_house_value  shelter_costs_owned  shelter_costs_rented  \n",
       "year                                                                  \n",
       "2001               200388                  810                   870  \n",
       "2001               203047                  806                   892  \n",
       "2001               259998                  817                   924  \n",
       "2001               453850                 1027                  1378  \n",
       "2001               371864                 1007                  1163  "
      ]
     },
     "execution_count": 5,
     "metadata": {},
     "output_type": "execute_result"
    }
   ],
   "source": [
    "# Read the census data into a Pandas DataFrame\n",
    "file_path = Path(\"toronto_neighbourhoods_census_data.csv\")\n",
    "to_data = pd.read_csv(file_path, index_col=\"year\")\n",
    "to_data.head()"
   ]
  },
  {
   "cell_type": "markdown",
   "metadata": {},
   "source": [
    "- - - "
   ]
  },
  {
   "cell_type": "markdown",
   "metadata": {},
   "source": [
    "## Dwelling Types Per Year\n",
    "\n",
    "In this section, you will calculate the number of dwelling types per year. Visualize the results using bar charts and the Pandas plot function. \n",
    "\n",
    "**Hint:** Use the Pandas `groupby` function.\n",
    "\n",
    "**Optional challenge:** Plot each bar chart in a different color."
   ]
  },
  {
   "cell_type": "code",
   "execution_count": 12,
   "metadata": {},
   "outputs": [
    {
     "data": {
      "text/html": [
       "<div>\n",
       "<style scoped>\n",
       "    .dataframe tbody tr th:only-of-type {\n",
       "        vertical-align: middle;\n",
       "    }\n",
       "\n",
       "    .dataframe tbody tr th {\n",
       "        vertical-align: top;\n",
       "    }\n",
       "\n",
       "    .dataframe thead th {\n",
       "        text-align: right;\n",
       "    }\n",
       "</style>\n",
       "<table border=\"1\" class=\"dataframe\">\n",
       "  <thead>\n",
       "    <tr style=\"text-align: right;\">\n",
       "      <th></th>\n",
       "      <th>single_detached_house</th>\n",
       "      <th>apartment_five_storeys_plus</th>\n",
       "      <th>movable_dwelling</th>\n",
       "      <th>semi_detached_house</th>\n",
       "      <th>row_house</th>\n",
       "      <th>duplex</th>\n",
       "      <th>apartment_five_storeys_less</th>\n",
       "      <th>other_house</th>\n",
       "      <th>average_house_value</th>\n",
       "      <th>shelter_costs_owned</th>\n",
       "      <th>shelter_costs_rented</th>\n",
       "    </tr>\n",
       "    <tr>\n",
       "      <th>year</th>\n",
       "      <th></th>\n",
       "      <th></th>\n",
       "      <th></th>\n",
       "      <th></th>\n",
       "      <th></th>\n",
       "      <th></th>\n",
       "      <th></th>\n",
       "      <th></th>\n",
       "      <th></th>\n",
       "      <th></th>\n",
       "      <th></th>\n",
       "    </tr>\n",
       "  </thead>\n",
       "  <tbody>\n",
       "    <tr>\n",
       "      <th>2001</th>\n",
       "      <td>300930</td>\n",
       "      <td>355015</td>\n",
       "      <td>75</td>\n",
       "      <td>90995</td>\n",
       "      <td>52355</td>\n",
       "      <td>23785</td>\n",
       "      <td>116900</td>\n",
       "      <td>3040</td>\n",
       "      <td>40583604</td>\n",
       "      <td>118563</td>\n",
       "      <td>152031</td>\n",
       "    </tr>\n",
       "    <tr>\n",
       "      <th>2006</th>\n",
       "      <td>266860</td>\n",
       "      <td>379400</td>\n",
       "      <td>165</td>\n",
       "      <td>69430</td>\n",
       "      <td>54690</td>\n",
       "      <td>44095</td>\n",
       "      <td>162850</td>\n",
       "      <td>1335</td>\n",
       "      <td>59368353</td>\n",
       "      <td>184352</td>\n",
       "      <td>129558</td>\n",
       "    </tr>\n",
       "    <tr>\n",
       "      <th>2011</th>\n",
       "      <td>274940</td>\n",
       "      <td>429220</td>\n",
       "      <td>100</td>\n",
       "      <td>72480</td>\n",
       "      <td>60355</td>\n",
       "      <td>44750</td>\n",
       "      <td>163895</td>\n",
       "      <td>2165</td>\n",
       "      <td>74259461</td>\n",
       "      <td>202750</td>\n",
       "      <td>142771</td>\n",
       "    </tr>\n",
       "    <tr>\n",
       "      <th>2016</th>\n",
       "      <td>269680</td>\n",
       "      <td>493270</td>\n",
       "      <td>95</td>\n",
       "      <td>71200</td>\n",
       "      <td>61565</td>\n",
       "      <td>48585</td>\n",
       "      <td>165575</td>\n",
       "      <td>2845</td>\n",
       "      <td>92969566</td>\n",
       "      <td>246584</td>\n",
       "      <td>175885</td>\n",
       "    </tr>\n",
       "  </tbody>\n",
       "</table>\n",
       "</div>"
      ],
      "text/plain": [
       "      single_detached_house  apartment_five_storeys_plus  movable_dwelling  \\\n",
       "year                                                                         \n",
       "2001                 300930                       355015                75   \n",
       "2006                 266860                       379400               165   \n",
       "2011                 274940                       429220               100   \n",
       "2016                 269680                       493270                95   \n",
       "\n",
       "      semi_detached_house  row_house  duplex  apartment_five_storeys_less  \\\n",
       "year                                                                        \n",
       "2001                90995      52355   23785                       116900   \n",
       "2006                69430      54690   44095                       162850   \n",
       "2011                72480      60355   44750                       163895   \n",
       "2016                71200      61565   48585                       165575   \n",
       "\n",
       "      other_house  average_house_value  shelter_costs_owned  \\\n",
       "year                                                          \n",
       "2001         3040             40583604               118563   \n",
       "2006         1335             59368353               184352   \n",
       "2011         2165             74259461               202750   \n",
       "2016         2845             92969566               246584   \n",
       "\n",
       "      shelter_costs_rented  \n",
       "year                        \n",
       "2001                152031  \n",
       "2006                129558  \n",
       "2011                142771  \n",
       "2016                175885  "
      ]
     },
     "execution_count": 12,
     "metadata": {},
     "output_type": "execute_result"
    }
   ],
   "source": [
    "# Calculate the sum number of dwelling types units per year (hint: use groupby)\n",
    "\n",
    "to_data.reset_index(inplace=True)\n",
    "\n",
    "to_data_yr = to_data.groupby('year').sum()\n",
    "to_data_yr.head()\n"
   ]
  },
  {
   "cell_type": "code",
   "execution_count": 16,
   "metadata": {},
   "outputs": [
    {
     "data": {
      "text/html": [
       "<div>\n",
       "<style scoped>\n",
       "    .dataframe tbody tr th:only-of-type {\n",
       "        vertical-align: middle;\n",
       "    }\n",
       "\n",
       "    .dataframe tbody tr th {\n",
       "        vertical-align: top;\n",
       "    }\n",
       "\n",
       "    .dataframe thead th {\n",
       "        text-align: right;\n",
       "    }\n",
       "</style>\n",
       "<table border=\"1\" class=\"dataframe\">\n",
       "  <thead>\n",
       "    <tr style=\"text-align: right;\">\n",
       "      <th></th>\n",
       "      <th>single_detached_house</th>\n",
       "      <th>apartment_five_storeys_plus</th>\n",
       "      <th>movable_dwelling</th>\n",
       "      <th>semi_detached_house</th>\n",
       "      <th>row_house</th>\n",
       "      <th>duplex</th>\n",
       "      <th>apartment_five_storeys_less</th>\n",
       "      <th>other_house</th>\n",
       "      <th>average_house_value</th>\n",
       "      <th>shelter_costs_owned</th>\n",
       "      <th>shelter_costs_rented</th>\n",
       "    </tr>\n",
       "    <tr>\n",
       "      <th>year</th>\n",
       "      <th></th>\n",
       "      <th></th>\n",
       "      <th></th>\n",
       "      <th></th>\n",
       "      <th></th>\n",
       "      <th></th>\n",
       "      <th></th>\n",
       "      <th></th>\n",
       "      <th></th>\n",
       "      <th></th>\n",
       "      <th></th>\n",
       "    </tr>\n",
       "  </thead>\n",
       "  <tbody>\n",
       "    <tr>\n",
       "      <th>2001</th>\n",
       "      <td>300930</td>\n",
       "      <td>355015</td>\n",
       "      <td>75</td>\n",
       "      <td>90995</td>\n",
       "      <td>52355</td>\n",
       "      <td>23785</td>\n",
       "      <td>116900</td>\n",
       "      <td>3040</td>\n",
       "      <td>40583604</td>\n",
       "      <td>118563</td>\n",
       "      <td>152031</td>\n",
       "    </tr>\n",
       "    <tr>\n",
       "      <th>2006</th>\n",
       "      <td>266860</td>\n",
       "      <td>379400</td>\n",
       "      <td>165</td>\n",
       "      <td>69430</td>\n",
       "      <td>54690</td>\n",
       "      <td>44095</td>\n",
       "      <td>162850</td>\n",
       "      <td>1335</td>\n",
       "      <td>59368353</td>\n",
       "      <td>184352</td>\n",
       "      <td>129558</td>\n",
       "    </tr>\n",
       "    <tr>\n",
       "      <th>2011</th>\n",
       "      <td>274940</td>\n",
       "      <td>429220</td>\n",
       "      <td>100</td>\n",
       "      <td>72480</td>\n",
       "      <td>60355</td>\n",
       "      <td>44750</td>\n",
       "      <td>163895</td>\n",
       "      <td>2165</td>\n",
       "      <td>74259461</td>\n",
       "      <td>202750</td>\n",
       "      <td>142771</td>\n",
       "    </tr>\n",
       "    <tr>\n",
       "      <th>2016</th>\n",
       "      <td>269680</td>\n",
       "      <td>493270</td>\n",
       "      <td>95</td>\n",
       "      <td>71200</td>\n",
       "      <td>61565</td>\n",
       "      <td>48585</td>\n",
       "      <td>165575</td>\n",
       "      <td>2845</td>\n",
       "      <td>92969566</td>\n",
       "      <td>246584</td>\n",
       "      <td>175885</td>\n",
       "    </tr>\n",
       "  </tbody>\n",
       "</table>\n",
       "</div>"
      ],
      "text/plain": [
       "      single_detached_house  apartment_five_storeys_plus  movable_dwelling  \\\n",
       "year                                                                         \n",
       "2001                 300930                       355015                75   \n",
       "2006                 266860                       379400               165   \n",
       "2011                 274940                       429220               100   \n",
       "2016                 269680                       493270                95   \n",
       "\n",
       "      semi_detached_house  row_house  duplex  apartment_five_storeys_less  \\\n",
       "year                                                                        \n",
       "2001                90995      52355   23785                       116900   \n",
       "2006                69430      54690   44095                       162850   \n",
       "2011                72480      60355   44750                       163895   \n",
       "2016                71200      61565   48585                       165575   \n",
       "\n",
       "      other_house  average_house_value  shelter_costs_owned  \\\n",
       "year                                                          \n",
       "2001         3040             40583604               118563   \n",
       "2006         1335             59368353               184352   \n",
       "2011         2165             74259461               202750   \n",
       "2016         2845             92969566               246584   \n",
       "\n",
       "      shelter_costs_rented  \n",
       "year                        \n",
       "2001                152031  \n",
       "2006                129558  \n",
       "2011                142771  \n",
       "2016                175885  "
      ]
     },
     "execution_count": 16,
     "metadata": {},
     "output_type": "execute_result"
    }
   ],
   "source": [
    "# Save the dataframe as a csv file\n",
    "to_data_yr.to_csv ('dwelling_type_per_year.csv', index = None, header=True) \n",
    "\n",
    "to_data_yr.head()"
   ]
  },
  {
   "cell_type": "code",
   "execution_count": 17,
   "metadata": {},
   "outputs": [
    {
     "data": {
      "text/html": [
       "<div>\n",
       "<style scoped>\n",
       "    .dataframe tbody tr th:only-of-type {\n",
       "        vertical-align: middle;\n",
       "    }\n",
       "\n",
       "    .dataframe tbody tr th {\n",
       "        vertical-align: top;\n",
       "    }\n",
       "\n",
       "    .dataframe thead th {\n",
       "        text-align: right;\n",
       "    }\n",
       "</style>\n",
       "<table border=\"1\" class=\"dataframe\">\n",
       "  <thead>\n",
       "    <tr style=\"text-align: right;\">\n",
       "      <th></th>\n",
       "      <th>single_detached_house</th>\n",
       "      <th>apartment_five_storeys_plus</th>\n",
       "      <th>movable_dwelling</th>\n",
       "      <th>semi_detached_house</th>\n",
       "      <th>row_house</th>\n",
       "      <th>duplex</th>\n",
       "      <th>apartment_five_storeys_less</th>\n",
       "      <th>other_house</th>\n",
       "    </tr>\n",
       "    <tr>\n",
       "      <th>year</th>\n",
       "      <th></th>\n",
       "      <th></th>\n",
       "      <th></th>\n",
       "      <th></th>\n",
       "      <th></th>\n",
       "      <th></th>\n",
       "      <th></th>\n",
       "      <th></th>\n",
       "    </tr>\n",
       "  </thead>\n",
       "  <tbody>\n",
       "    <tr>\n",
       "      <th>2001</th>\n",
       "      <td>300930</td>\n",
       "      <td>355015</td>\n",
       "      <td>75</td>\n",
       "      <td>90995</td>\n",
       "      <td>52355</td>\n",
       "      <td>23785</td>\n",
       "      <td>116900</td>\n",
       "      <td>3040</td>\n",
       "    </tr>\n",
       "    <tr>\n",
       "      <th>2006</th>\n",
       "      <td>266860</td>\n",
       "      <td>379400</td>\n",
       "      <td>165</td>\n",
       "      <td>69430</td>\n",
       "      <td>54690</td>\n",
       "      <td>44095</td>\n",
       "      <td>162850</td>\n",
       "      <td>1335</td>\n",
       "    </tr>\n",
       "    <tr>\n",
       "      <th>2011</th>\n",
       "      <td>274940</td>\n",
       "      <td>429220</td>\n",
       "      <td>100</td>\n",
       "      <td>72480</td>\n",
       "      <td>60355</td>\n",
       "      <td>44750</td>\n",
       "      <td>163895</td>\n",
       "      <td>2165</td>\n",
       "    </tr>\n",
       "    <tr>\n",
       "      <th>2016</th>\n",
       "      <td>269680</td>\n",
       "      <td>493270</td>\n",
       "      <td>95</td>\n",
       "      <td>71200</td>\n",
       "      <td>61565</td>\n",
       "      <td>48585</td>\n",
       "      <td>165575</td>\n",
       "      <td>2845</td>\n",
       "    </tr>\n",
       "  </tbody>\n",
       "</table>\n",
       "</div>"
      ],
      "text/plain": [
       "      single_detached_house  apartment_five_storeys_plus  movable_dwelling  \\\n",
       "year                                                                         \n",
       "2001                 300930                       355015                75   \n",
       "2006                 266860                       379400               165   \n",
       "2011                 274940                       429220               100   \n",
       "2016                 269680                       493270                95   \n",
       "\n",
       "      semi_detached_house  row_house  duplex  apartment_five_storeys_less  \\\n",
       "year                                                                        \n",
       "2001                90995      52355   23785                       116900   \n",
       "2006                69430      54690   44095                       162850   \n",
       "2011                72480      60355   44750                       163895   \n",
       "2016                71200      61565   48585                       165575   \n",
       "\n",
       "      other_house  \n",
       "year               \n",
       "2001         3040  \n",
       "2006         1335  \n",
       "2011         2165  \n",
       "2016         2845  "
      ]
     },
     "execution_count": 17,
     "metadata": {},
     "output_type": "execute_result"
    }
   ],
   "source": [
    "# Drop house value data from data frame\n",
    "dwelling_totals_df = to_data_yr.drop(['average_house_value', 'shelter_costs_owned','shelter_costs_rented'], axis=1)\n",
    "dwelling_totals_df.head()"
   ]
  },
  {
   "cell_type": "code",
   "execution_count": 20,
   "metadata": {},
   "outputs": [],
   "source": [
    "    \n",
    "#def create_bar_chart(dwelling_totals_df, title=\"Dwelling Types Per Year\", xlabel=\"Types Dwellings\", ylabel=\"number\"):\n",
    "    #return dwelling_totals_df.plot.bar()\n",
    "def create_bar_chart(data, title, xlabel, ylabel, color):\n",
    "    data = data.plot(\n",
    "        kind='bar',\n",
    "        rot=90,\n",
    "        title=title,\n",
    "        xlabel=\"Dwelling Type\",\n",
    "        ylabel=\"Number\",\n",
    "        color=color\n",
    "    );\n",
    "    return data\n"
   ]
  },
  {
   "cell_type": "code",
   "execution_count": 21,
   "metadata": {},
   "outputs": [
    {
     "data": {
      "image/png": "[encoded data removed]",
      "text/plain": [
       "<Figure size 432x288 with 1 Axes>"
      ]
     },
     "metadata": {
      "needs_background": "light"
     },
     "output_type": "display_data"
    }
   ],
   "source": [
    "# Create a bar chart per year to show the number of dwelling types\n",
    "\n",
    "# Bar chart for 2001\n",
    "create_bar_chart(dwelling_totals_df.iloc[0],\"Number of Dwelling Types 2001\", 'Dwelling Types', \"Number\", \"b\");\n",
    "\n",
    "# Bar chart for 2006\n",
    "create_bar_chart(dwelling_totals_df.iloc[1],\"Number of Dwelling Types 2006\", 'Dwelling Types', \"Number\", \"r\");\n",
    "\n",
    "# Bar chart for 2011\n",
    "create_bar_chart(dwelling_totals_df.iloc[2],\"Number of Dwelling Types 2011\", 'Dwelling Types', \"Number\", \"g\");\n",
    "\n",
    "# Bar chart for 2016\n",
    "create_bar_chart(dwelling_totals_df.iloc[3],\"Number of Dwelling Types 2016\", 'Dwelling Types', \"Number\", \"y\");"
   ]
  },
  {
   "cell_type": "markdown",
   "metadata": {},
   "source": [
    "- - - "
   ]
  },
  {
   "cell_type": "markdown",
   "metadata": {},
   "source": [
    "## Average Monthly Shelter Costs in Toronto Per Year\n",
    "\n",
    "In this section, you will calculate the average monthly shelter costs for owned and rented dwellings and the average house value for each year. Plot the results as a line chart.\n",
    "\n",
    "**Optional challenge:** Plot each line chart in a different color."
   ]
  },
  {
   "cell_type": "code",
   "execution_count": 22,
   "metadata": {},
   "outputs": [
    {
     "data": {
      "text/html": [
       "<div>\n",
       "<style scoped>\n",
       "    .dataframe tbody tr th:only-of-type {\n",
       "        vertical-align: middle;\n",
       "    }\n",
       "\n",
       "    .dataframe tbody tr th {\n",
       "        vertical-align: top;\n",
       "    }\n",
       "\n",
       "    .dataframe thead th {\n",
       "        text-align: right;\n",
       "    }\n",
       "</style>\n",
       "<table border=\"1\" class=\"dataframe\">\n",
       "  <thead>\n",
       "    <tr style=\"text-align: right;\">\n",
       "      <th></th>\n",
       "      <th>shelter_costs_owned</th>\n",
       "      <th>shelter_costs_rented</th>\n",
       "    </tr>\n",
       "    <tr>\n",
       "      <th>year</th>\n",
       "      <th></th>\n",
       "      <th></th>\n",
       "    </tr>\n",
       "  </thead>\n",
       "  <tbody>\n",
       "    <tr>\n",
       "      <th>2001</th>\n",
       "      <td>846.878571</td>\n",
       "      <td>1085.935714</td>\n",
       "    </tr>\n",
       "    <tr>\n",
       "      <th>2006</th>\n",
       "      <td>1316.800000</td>\n",
       "      <td>925.414286</td>\n",
       "    </tr>\n",
       "    <tr>\n",
       "      <th>2011</th>\n",
       "      <td>1448.214286</td>\n",
       "      <td>1019.792857</td>\n",
       "    </tr>\n",
       "    <tr>\n",
       "      <th>2016</th>\n",
       "      <td>1761.314286</td>\n",
       "      <td>1256.321429</td>\n",
       "    </tr>\n",
       "  </tbody>\n",
       "</table>\n",
       "</div>"
      ],
      "text/plain": [
       "      shelter_costs_owned  shelter_costs_rented\n",
       "year                                           \n",
       "2001           846.878571           1085.935714\n",
       "2006          1316.800000            925.414286\n",
       "2011          1448.214286           1019.792857\n",
       "2016          1761.314286           1256.321429"
      ]
     },
     "execution_count": 22,
     "metadata": {},
     "output_type": "execute_result"
    }
   ],
   "source": [
    "# Calculate the average monthly shelter costs for owned and rented dwellings\n",
    "to_data_yr = to_data.groupby('year').mean()\n",
    "#to_data_yr.head()\n",
    "Cost_average_shelter_df = to_data_yr.drop(['single_detached_house', 'apartment_five_storeys_plus','movable_dwelling', 'semi_detached_house', 'row_house', 'duplex', 'apartment_five_storeys_less', 'other_house','average_house_value'], axis=1)\n",
    "Cost_average_shelter_df.head()"
   ]
  },
  {
   "cell_type": "code",
   "execution_count": 44,
   "metadata": {},
   "outputs": [
    {
     "data": {
      "image/png": "[encoded data removed]",
      "text/plain": [
       "<Figure size 432x288 with 1 Axes>"
      ]
     },
     "metadata": {
      "needs_background": "light"
     },
     "output_type": "display_data"
    }
   ],
   "source": [
    "# Create two line charts, one to plot the monthly shelter costs for owned dwelleing and other for rented dwellings per year\n",
    "\n",
    "# Line chart for owned dwellings\n",
    "create_line_chart(Cost_average_shelter_df[\"shelter_costs_owned\"],\"Average Monthly Shelter Cost for Owned Dwellings in Toronto\", 'Year', \"Avg Monthly Shelter Costs\", \"b\");\n",
    "\n",
    "# Line chart for rented dwellings\n",
    "create_line_chart(Cost_average_shelter_df[\"shelter_costs_rented\"],\"Average Monthly Shelter Cost for rented Dwellings in Toronto\", 'Year', \"Avg Monthly Shelter Costs\", \"g\");"
   ]
  },
  {
   "cell_type": "markdown",
   "metadata": {},
   "source": [
    "## Average House Value per Year\n",
    "\n",
    "In this section, you want to determine the average house value per year. An investor may want to understand better the sales price of the rental property over time. For example, a customer will want to know if they should expect an increase or decrease in the property value over time so they can determine how long to hold the rental property. You will visualize the `average_house_value` per year as a bar chart."
   ]
  },
  {
   "cell_type": "code",
   "execution_count": 26,
   "metadata": {
    "tags": []
   },
   "outputs": [
    {
     "data": {
      "text/html": [
       "<div>\n",
       "<style scoped>\n",
       "    .dataframe tbody tr th:only-of-type {\n",
       "        vertical-align: middle;\n",
       "    }\n",
       "\n",
       "    .dataframe tbody tr th {\n",
       "        vertical-align: top;\n",
       "    }\n",
       "\n",
       "    .dataframe thead th {\n",
       "        text-align: right;\n",
       "    }\n",
       "</style>\n",
       "<table border=\"1\" class=\"dataframe\">\n",
       "  <thead>\n",
       "    <tr style=\"text-align: right;\">\n",
       "      <th></th>\n",
       "      <th>average_house_value</th>\n",
       "    </tr>\n",
       "    <tr>\n",
       "      <th>year</th>\n",
       "      <th></th>\n",
       "    </tr>\n",
       "  </thead>\n",
       "  <tbody>\n",
       "    <tr>\n",
       "      <th>2001</th>\n",
       "      <td>289882.885714</td>\n",
       "    </tr>\n",
       "    <tr>\n",
       "      <th>2006</th>\n",
       "      <td>424059.664286</td>\n",
       "    </tr>\n",
       "    <tr>\n",
       "      <th>2011</th>\n",
       "      <td>530424.721429</td>\n",
       "    </tr>\n",
       "    <tr>\n",
       "      <th>2016</th>\n",
       "      <td>664068.328571</td>\n",
       "    </tr>\n",
       "  </tbody>\n",
       "</table>\n",
       "</div>"
      ],
      "text/plain": [
       "      average_house_value\n",
       "year                     \n",
       "2001        289882.885714\n",
       "2006        424059.664286\n",
       "2011        530424.721429\n",
       "2016        664068.328571"
      ]
     },
     "execution_count": 26,
     "metadata": {},
     "output_type": "execute_result"
    }
   ],
   "source": [
    "# Calculate the average house value per year\n",
    "to_data_yr = to_data.groupby('year').mean()\n",
    "#Single out average_house_value\n",
    "average_house_value_df = to_data_yr.drop(['single_detached_house', 'apartment_five_storeys_plus','movable_dwelling', 'semi_detached_house', 'row_house', 'duplex', 'apartment_five_storeys_less', 'other_house','shelter_costs_owned', 'shelter_costs_rented'], axis=1)\n",
    "average_house_value_df.head()"
   ]
  },
  {
   "cell_type": "code",
   "execution_count": 40,
   "metadata": {
    "tags": []
   },
   "outputs": [
    {
     "data": {
      "image/png": "[encoded data removed]",
      "text/plain": [
       "<Figure size 432x288 with 1 Axes>"
      ]
     },
     "metadata": {
      "needs_background": "light"
     },
     "output_type": "display_data"
    }
   ],
   "source": [
    "# Plot the average house value per year as a line chart\n",
    "create_line_chart(average_house_value_df,\"Number of Dwelling Types 2016\", 'Dwelling Types', \"Number\", \"y\");"
   ]
  },
  {
   "cell_type": "markdown",
   "metadata": {},
   "source": [
    "- - - "
   ]
  },
  {
   "cell_type": "markdown",
   "metadata": {},
   "source": [
    "## Average House Value by Neighbourhood\n",
    "\n",
    "In this section, you will use `hvplot` to create an interactive visualization of the average house value with a dropdown selector for the neighbourhood.\n",
    "\n",
    "**Hint:** It will be easier to create a new DataFrame from grouping the data and calculating the mean house values for each year and neighbourhood."
   ]
  },
  {
   "cell_type": "code",
   "execution_count": 41,
   "metadata": {},
   "outputs": [
    {
     "data": {
      "text/html": [
       "<div>\n",
       "<style scoped>\n",
       "    .dataframe tbody tr th:only-of-type {\n",
       "        vertical-align: middle;\n",
       "    }\n",
       "\n",
       "    .dataframe tbody tr th {\n",
       "        vertical-align: top;\n",
       "    }\n",
       "\n",
       "    .dataframe thead th {\n",
       "        text-align: right;\n",
       "    }\n",
       "</style>\n",
       "<table border=\"1\" class=\"dataframe\">\n",
       "  <thead>\n",
       "    <tr style=\"text-align: right;\">\n",
       "      <th></th>\n",
       "      <th>year</th>\n",
       "      <th>neighbourhood</th>\n",
       "      <th>single_detached_house</th>\n",
       "      <th>apartment_five_storeys_plus</th>\n",
       "      <th>movable_dwelling</th>\n",
       "      <th>semi_detached_house</th>\n",
       "      <th>row_house</th>\n",
       "      <th>duplex</th>\n",
       "      <th>apartment_five_storeys_less</th>\n",
       "      <th>other_house</th>\n",
       "      <th>average_house_value</th>\n",
       "      <th>shelter_costs_owned</th>\n",
       "      <th>shelter_costs_rented</th>\n",
       "    </tr>\n",
       "  </thead>\n",
       "  <tbody>\n",
       "    <tr>\n",
       "      <th>0</th>\n",
       "      <td>2001</td>\n",
       "      <td>Agincourt North</td>\n",
       "      <td>3715</td>\n",
       "      <td>1480</td>\n",
       "      <td>0</td>\n",
       "      <td>1055</td>\n",
       "      <td>1295</td>\n",
       "      <td>195</td>\n",
       "      <td>185</td>\n",
       "      <td>5</td>\n",
       "      <td>200388</td>\n",
       "      <td>810</td>\n",
       "      <td>870</td>\n",
       "    </tr>\n",
       "    <tr>\n",
       "      <th>1</th>\n",
       "      <td>2001</td>\n",
       "      <td>Agincourt South-Malvern West</td>\n",
       "      <td>3250</td>\n",
       "      <td>1835</td>\n",
       "      <td>0</td>\n",
       "      <td>545</td>\n",
       "      <td>455</td>\n",
       "      <td>105</td>\n",
       "      <td>425</td>\n",
       "      <td>0</td>\n",
       "      <td>203047</td>\n",
       "      <td>806</td>\n",
       "      <td>892</td>\n",
       "    </tr>\n",
       "    <tr>\n",
       "      <th>2</th>\n",
       "      <td>2001</td>\n",
       "      <td>Alderwood</td>\n",
       "      <td>3175</td>\n",
       "      <td>315</td>\n",
       "      <td>0</td>\n",
       "      <td>470</td>\n",
       "      <td>50</td>\n",
       "      <td>185</td>\n",
       "      <td>370</td>\n",
       "      <td>0</td>\n",
       "      <td>259998</td>\n",
       "      <td>817</td>\n",
       "      <td>924</td>\n",
       "    </tr>\n",
       "    <tr>\n",
       "      <th>3</th>\n",
       "      <td>2001</td>\n",
       "      <td>Annex</td>\n",
       "      <td>1060</td>\n",
       "      <td>6090</td>\n",
       "      <td>5</td>\n",
       "      <td>1980</td>\n",
       "      <td>605</td>\n",
       "      <td>275</td>\n",
       "      <td>3710</td>\n",
       "      <td>165</td>\n",
       "      <td>453850</td>\n",
       "      <td>1027</td>\n",
       "      <td>1378</td>\n",
       "    </tr>\n",
       "    <tr>\n",
       "      <th>4</th>\n",
       "      <td>2001</td>\n",
       "      <td>Banbury-Don Mills</td>\n",
       "      <td>3615</td>\n",
       "      <td>4465</td>\n",
       "      <td>0</td>\n",
       "      <td>240</td>\n",
       "      <td>380</td>\n",
       "      <td>15</td>\n",
       "      <td>1360</td>\n",
       "      <td>0</td>\n",
       "      <td>371864</td>\n",
       "      <td>1007</td>\n",
       "      <td>1163</td>\n",
       "    </tr>\n",
       "  </tbody>\n",
       "</table>\n",
       "</div>"
      ],
      "text/plain": [
       "   year                 neighbourhood  single_detached_house  \\\n",
       "0  2001               Agincourt North                   3715   \n",
       "1  2001  Agincourt South-Malvern West                   3250   \n",
       "2  2001                     Alderwood                   3175   \n",
       "3  2001                         Annex                   1060   \n",
       "4  2001             Banbury-Don Mills                   3615   \n",
       "\n",
       "   apartment_five_storeys_plus  movable_dwelling  semi_detached_house  \\\n",
       "0                         1480                 0                 1055   \n",
       "1                         1835                 0                  545   \n",
       "2                          315                 0                  470   \n",
       "3                         6090                 5                 1980   \n",
       "4                         4465                 0                  240   \n",
       "\n",
       "   row_house  duplex  apartment_five_storeys_less  other_house  \\\n",
       "0       1295     195                          185            5   \n",
       "1        455     105                          425            0   \n",
       "2         50     185                          370            0   \n",
       "3        605     275                         3710          165   \n",
       "4        380      15                         1360            0   \n",
       "\n",
       "   average_house_value  shelter_costs_owned  shelter_costs_rented  \n",
       "0               200388                  810                   870  \n",
       "1               203047                  806                   892  \n",
       "2               259998                  817                   924  \n",
       "3               453850                 1027                  1378  \n",
       "4               371864                 1007                  1163  "
      ]
     },
     "execution_count": 41,
     "metadata": {},
     "output_type": "execute_result"
    }
   ],
   "source": [
    "to_data.head()"
   ]
  },
  {
   "cell_type": "code",
   "execution_count": 42,
   "metadata": {},
   "outputs": [
    {
     "data": {
      "text/html": [
       "<div>\n",
       "<style scoped>\n",
       "    .dataframe tbody tr th:only-of-type {\n",
       "        vertical-align: middle;\n",
       "    }\n",
       "\n",
       "    .dataframe tbody tr th {\n",
       "        vertical-align: top;\n",
       "    }\n",
       "\n",
       "    .dataframe thead th {\n",
       "        text-align: right;\n",
       "    }\n",
       "</style>\n",
       "<table border=\"1\" class=\"dataframe\">\n",
       "  <thead>\n",
       "    <tr style=\"text-align: right;\">\n",
       "      <th></th>\n",
       "      <th>year</th>\n",
       "      <th>neighbourhood</th>\n",
       "      <th>average_house_value</th>\n",
       "    </tr>\n",
       "  </thead>\n",
       "  <tbody>\n",
       "    <tr>\n",
       "      <th>0</th>\n",
       "      <td>2001</td>\n",
       "      <td>Agincourt North</td>\n",
       "      <td>200388</td>\n",
       "    </tr>\n",
       "    <tr>\n",
       "      <th>1</th>\n",
       "      <td>2001</td>\n",
       "      <td>Agincourt South-Malvern West</td>\n",
       "      <td>203047</td>\n",
       "    </tr>\n",
       "    <tr>\n",
       "      <th>2</th>\n",
       "      <td>2001</td>\n",
       "      <td>Alderwood</td>\n",
       "      <td>259998</td>\n",
       "    </tr>\n",
       "    <tr>\n",
       "      <th>3</th>\n",
       "      <td>2001</td>\n",
       "      <td>Annex</td>\n",
       "      <td>453850</td>\n",
       "    </tr>\n",
       "    <tr>\n",
       "      <th>4</th>\n",
       "      <td>2001</td>\n",
       "      <td>Banbury-Don Mills</td>\n",
       "      <td>371864</td>\n",
       "    </tr>\n",
       "  </tbody>\n",
       "</table>\n",
       "</div>"
      ],
      "text/plain": [
       "   year                 neighbourhood  average_house_value\n",
       "0  2001               Agincourt North               200388\n",
       "1  2001  Agincourt South-Malvern West               203047\n",
       "2  2001                     Alderwood               259998\n",
       "3  2001                         Annex               453850\n",
       "4  2001             Banbury-Don Mills               371864"
      ]
     },
     "execution_count": 42,
     "metadata": {},
     "output_type": "execute_result"
    }
   ],
   "source": [
    "# Create a new DataFrame with the mean house values by neighbourhood per year\n",
    "mean_house_values_by_neighbourhood_df = to_data.groupby([\"neighbourhood\", \"year\"]).mean() \n",
    "mean_house_values_by_neighbourhood_df = to_data.drop(['single_detached_house', 'apartment_five_storeys_plus','movable_dwelling', 'semi_detached_house', 'row_house', 'duplex', 'apartment_five_storeys_less', 'other_house','shelter_costs_owned', 'shelter_costs_rented'], axis=1)\n",
    "mean_house_values_by_neighbourhood_df.head()"
   ]
  },
  {
   "cell_type": "code",
   "execution_count": 51,
   "metadata": {},
   "outputs": [
    {
     "data": {},
     "metadata": {},
     "output_type": "display_data"
    },
    {
     "data": {
      "application/vnd.holoviews_exec.v0+json": "",
      "text/html": [
       "<div id='1690'>\n",
       "\n",
       "\n",
       "\n",
       "\n",
       "\n",
       "  <div class=\"bk-root\" id=\"799b2941-d7c9-4152-8ab0-687ca966e597\" data-root-id=\"1690\"></div>\n",
       "</div>\n",
       "<script type=\"application/javascript\">(function(root) {\n",
       "  function embed_document(root) {\n",
       "    var docs_json = {\"62288aa3-4004-4559-8d90-80659cb418a8\":{\"defs\":[{\"extends\":null,\"module\":null,\"name\":\"ReactiveHTML1\",\"overrides\":[],\"properties\":[]},{\"extends\":null,\"module\":null,\"name\":\"FlexBox1\",\"overrides\":[],\"properties\":[{\"default\":\"flex-start\",\"kind\":null,\"name\":\"align_content\"},{\"default\":\"flex-start\",\"kind\":null,\"name\":\"align_items\"},{\"default\":\"row\",\"kind\":null,\"name\":\"flex_direction\"},{\"default\":\"wrap\",\"kind\":null,\"name\":\"flex_wrap\"},{\"default\":\"flex-start\",\"kind\":null,\"name\":\"justify_content\"}]},{\"extends\":null,\"module\":null,\"name\":\"GridStack1\",\"overrides\":[],\"properties\":[{\"default\":\"warn\",\"kind\":null,\"name\":\"mode\"},{\"default\":null,\"kind\":null,\"name\":\"ncols\"},{\"default\":null,\"kind\":null,\"name\":\"nrows\"},{\"default\":true,\"kind\":null,\"name\":\"allow_resize\"},{\"default\":true,\"kind\":null,\"name\":\"allow_drag\"},{\"default\":[],\"kind\":null,\"name\":\"state\"}]},{\"extends\":null,\"module\":null,\"name\":\"click1\",\"overrides\":[],\"properties\":[{\"default\":\"\",\"kind\":null,\"name\":\"terminal_output\"},{\"default\":\"\",\"kind\":null,\"name\":\"debug_name\"},{\"default\":0,\"kind\":null,\"name\":\"clears\"}]},{\"extends\":null,\"module\":null,\"name\":\"TemplateActions1\",\"overrides\":[],\"properties\":[{\"default\":0,\"kind\":null,\"name\":\"open_modal\"},{\"default\":0,\"kind\":null,\"name\":\"close_modal\"}]},{\"extends\":null,\"module\":null,\"name\":\"MaterialTemplateActions1\",\"overrides\":[],\"properties\":[{\"default\":0,\"kind\":null,\"name\":\"open_modal\"},{\"default\":0,\"kind\":null,\"name\":\"close_modal\"}]}],\"roots\":{\"references\":[{\"attributes\":{},\"id\":\"1702\",\"type\":\"LinearScale\"},{\"attributes\":{\"children\":[{\"id\":\"1770\"}],\"css_classes\":[\"panel-widget-box\"],\"margin\":[5,5,5,5],\"name\":\"WidgetBox03009\"},\"id\":\"1769\",\"type\":\"Column\"},{\"attributes\":{},\"id\":\"1709\",\"type\":\"BasicTicker\"},{\"attributes\":{\"below\":[{\"id\":\"1704\"}],\"center\":[{\"id\":\"1707\"},{\"id\":\"1711\"}],\"height\":300,\"left\":[{\"id\":\"1708\"}],\"margin\":[5,5,5,5],\"min_border_bottom\":10,\"min_border_left\":10,\"min_border_right\":10,\"min_border_top\":10,\"renderers\":[{\"id\":\"1731\"}],\"sizing_mode\":\"fixed\",\"title\":{\"id\":\"1696\"},\"toolbar\":{\"id\":\"1718\"},\"width\":1500,\"x_range\":{\"id\":\"1692\"},\"x_scale\":{\"id\":\"1700\"},\"y_range\":{\"id\":\"1693\"},\"y_scale\":{\"id\":\"1702\"}},\"id\":\"1695\",\"subtype\":\"Figure\",\"type\":\"Plot\"},{\"attributes\":{\"axis\":{\"id\":\"1704\"},\"coordinates\":null,\"grid_line_color\":null,\"group\":null,\"ticker\":null},\"id\":\"1707\",\"type\":\"Grid\"},{\"attributes\":{\"children\":[{\"id\":\"1691\"},{\"id\":\"1695\"},{\"id\":\"1766\"},{\"id\":\"1767\"}],\"margin\":[0,0,0,0],\"name\":\"Row03008\"},\"id\":\"1690\",\"type\":\"Row\"},{\"attributes\":{},\"id\":\"1705\",\"type\":\"BasicTicker\"},{\"attributes\":{\"axis_label\":\"average_house_value\",\"coordinates\":null,\"formatter\":{\"id\":\"1738\"},\"group\":null,\"major_label_policy\":{\"id\":\"1739\"},\"ticker\":{\"id\":\"1709\"}},\"id\":\"1708\",\"type\":\"LinearAxis\"},{\"attributes\":{\"axis_label\":\"year\",\"coordinates\":null,\"formatter\":{\"id\":\"1735\"},\"group\":null,\"major_label_orientation\":1.5707963267948966,\"major_label_policy\":{\"id\":\"1736\"},\"ticker\":{\"id\":\"1705\"}},\"id\":\"1704\",\"type\":\"LinearAxis\"},{\"attributes\":{\"line_color\":\"#30a2da\",\"line_width\":2,\"x\":{\"field\":\"year\"},\"y\":{\"field\":\"average_house_value\"}},\"id\":\"1733\",\"type\":\"Line\"},{\"attributes\":{},\"id\":\"1736\",\"type\":\"AllLabels\"},{\"attributes\":{\"end\":484917.3,\"reset_end\":484917.3,\"reset_start\":174521.7,\"start\":174521.7,\"tags\":[[[\"average_house_value\",\"average_house_value\",null]]]},\"id\":\"1693\",\"type\":\"Range1d\"},{\"attributes\":{\"axis\":{\"id\":\"1708\"},\"coordinates\":null,\"dimension\":1,\"grid_line_color\":null,\"group\":null,\"ticker\":null},\"id\":\"1711\",\"type\":\"Grid\"},{\"attributes\":{\"end\":2016.0,\"reset_end\":2016.0,\"reset_start\":2001.0,\"start\":2001.0,\"tags\":[[[\"year\",\"year\",null]]]},\"id\":\"1692\",\"type\":\"Range1d\"},{\"attributes\":{\"margin\":[20,20,20,20],\"min_width\":250,\"options\":[\"Agincourt North\",\"Agincourt South-Malvern West\",\"Alderwood\",\"Annex\",\"Banbury-Don Mills\",\"Bathurst Manor\",\"Bay Street Corridor\",\"Bayview Village\",\"Bayview Woods-Steeles\",\"Bedford Park-Nortown\",\"Beechborough-Greenbrook\",\"Bendale\",\"Birchcliffe-Cliffside\",\"Black Creek\",\"Blake-Jones\",\"Briar Hill-Belgravia\",\"Bridle Path-Sunnybrook-York Mills\",\"Broadview North\",\"Brookhaven-Amesbury\",\"Cabbagetown-South St.James Town\",\"Caledonia-Fairbank\",\"Casa Loma\",\"Centennial Scarborough\",\"Church-Yonge Corridor\",\"Clairlea-Birchmount\",\"Clanton Park\",\"Cliffcrest\",\"Corso Italia-Davenport\",\"Danforth\",\"Danforth-East York\",\"Don Valley Village\",\"Dorset Park\",\"Dovercourt-Wallace Emerson-Juncti\",\"Downsview-Roding-CFB\",\"Dufferin Grove\",\"East End-Danforth\",\"Edenbridge-Humber Valley\",\"Eglinton East\",\"Elms-Old Rexdale\",\"Englemount-Lawrence\",\"Eringate-Centennial-West Deane\",\"Etobicoke West Mall\",\"Flemingdon Park\",\"Forest Hill North\",\"Forest Hill South\",\"Glenfield-Jane Heights\",\"Greenwood-Coxwell\",\"Guildwood\",\"Henry Farm\",\"High Park North\",\"High Park-Swansea\",\"Highland Creek\",\"Hillcrest Village\",\"Humber Heights-Westmount\",\"Humber Summit\",\"Humbermede\",\"Humewood-Cedarvale\",\"Ionview\",\"Islington-City Centre West\",\"Junction Area\",\"Keelesdale-Eglinton West\",\"Kennedy Park\",\"Kensington-Chinatown\",\"Kingsview Village-The Westway\",\"Kingsway South\",\"L'Amoreaux\",\"Lambton Baby Point\",\"Lansing-Westgate\",\"Lawrence Park North\",\"Lawrence Park South\",\"Leaside-Bennington\",\"Little Portugal\",\"Long Branch\",\"Malvern\",\"Maple Leaf\",\"Markland Wood\",\"Milliken\",\"Mimico\",\"Morningside\",\"Moss Park\",\"Mount Dennis\",\"Mount Olive-Silverstone-Jamestown\",\"Mount Pleasant East\",\"Mount Pleasant West\",\"New Toronto\",\"Newtonbrook East\",\"Newtonbrook West\",\"Niagara\",\"North Riverdale\",\"North St.James Town\",\"O'Connor-Parkview\",\"Oakridge\",\"Oakwood Village\",\"Old East York\",\"Palmerston-Little Italy\",\"Parkwoods-Donalda\",\"Pelmo Park-Humberlea\",\"Playter Estates-Danforth\",\"Pleasant View\",\"Princess-Rosethorn\",\"Regent Park\",\"Rexdale-Kipling\",\"Rockcliffe-Smythe\",\"Roncesvalles\",\"Rosedale-Moore Park\",\"Rouge\",\"Runnymede-Bloor West Village\",\"Rustic\",\"Scarborough Village\",\"South Parkdale\",\"South Riverdale\",\"St.Andrew-Windfields\",\"Steeles\",\"Stonegate-Queensway\",\"Tam O'Shanter-Sullivan\",\"Taylor-Massey\",\"The Beaches\",\"Thistletown-Beaumond Heights\",\"Thorncliffe Park\",\"Trinity-Bellwoods\",\"University\",\"Victoria Village\",\"Waterfront Communities-The Island\",\"West Hill\",\"West Humber-Clairville\",\"Westminster-Branson\",\"Weston\",\"Weston-Pellam Park\",\"Wexford/Maryvale\",\"Willowdale East\",\"Willowdale West\",\"Willowridge-Martingrove-Richview\",\"Woburn\",\"Woodbine Corridor\",\"Woodbine-Lumsden\",\"Wychwood\",\"Yonge-Eglinton\",\"Yonge-St.Clair\",\"York University Heights\",\"Yorkdale-Glen Park\"],\"title\":\"neighbourhood\",\"value\":\"Agincourt North\",\"width\":250},\"id\":\"1770\",\"type\":\"panel.models.widgets.CustomSelect\"},{\"attributes\":{\"client_comm_id\":\"6a424fdc117e4a868914ce350aae3952\",\"comm_id\":\"c49fa91ab8f24d8a9a4a4f330a7242fa\",\"plot_id\":\"1690\"},\"id\":\"1802\",\"type\":\"panel.models.comm_manager.CommManager\"},{\"attributes\":{\"margin\":[5,5,5,5],\"name\":\"VSpacer03014\",\"sizing_mode\":\"stretch_height\"},\"id\":\"1768\",\"type\":\"Spacer\"},{\"attributes\":{\"data\":{\"average_house_value\":[200388,293140,366667,459051],\"year\":[2001,2006,2011,2016]},\"selected\":{\"id\":\"1726\"},\"selection_policy\":{\"id\":\"1753\"}},\"id\":\"1725\",\"type\":\"ColumnDataSource\"},{\"attributes\":{\"coordinates\":null,\"data_source\":{\"id\":\"1725\"},\"glyph\":{\"id\":\"1728\"},\"group\":null,\"hover_glyph\":null,\"muted_glyph\":{\"id\":\"1730\"},\"nonselection_glyph\":{\"id\":\"1729\"},\"selection_glyph\":{\"id\":\"1733\"},\"view\":{\"id\":\"1732\"}},\"id\":\"1731\",\"type\":\"GlyphRenderer\"},{\"attributes\":{\"line_color\":\"#30a2da\",\"line_width\":2,\"x\":{\"field\":\"year\"},\"y\":{\"field\":\"average_house_value\"}},\"id\":\"1728\",\"type\":\"Line\"},{\"attributes\":{\"line_alpha\":0.1,\"line_color\":\"#30a2da\",\"line_width\":2,\"x\":{\"field\":\"year\"},\"y\":{\"field\":\"average_house_value\"}},\"id\":\"1729\",\"type\":\"Line\"},{\"attributes\":{},\"id\":\"1738\",\"type\":\"BasicTickFormatter\"},{\"attributes\":{\"margin\":[5,5,5,5],\"name\":\"VSpacer03015\",\"sizing_mode\":\"stretch_height\"},\"id\":\"1771\",\"type\":\"Spacer\"},{\"attributes\":{\"source\":{\"id\":\"1725\"}},\"id\":\"1732\",\"type\":\"CDSView\"},{\"attributes\":{\"tools\":[{\"id\":\"1694\"},{\"id\":\"1712\"},{\"id\":\"1713\"},{\"id\":\"1714\"},{\"id\":\"1715\"},{\"id\":\"1716\"}]},\"id\":\"1718\",\"type\":\"Toolbar\"},{\"attributes\":{},\"id\":\"1735\",\"type\":\"BasicTickFormatter\"},{\"attributes\":{\"bottom_units\":\"screen\",\"coordinates\":null,\"fill_alpha\":0.5,\"fill_color\":\"lightgrey\",\"group\":null,\"left_units\":\"screen\",\"level\":\"overlay\",\"line_alpha\":1.0,\"line_color\":\"black\",\"line_dash\":[4,4],\"line_width\":2,\"right_units\":\"screen\",\"syncable\":false,\"top_units\":\"screen\"},\"id\":\"1717\",\"type\":\"BoxAnnotation\"},{\"attributes\":{},\"id\":\"1712\",\"type\":\"SaveTool\"},{\"attributes\":{},\"id\":\"1713\",\"type\":\"PanTool\"},{\"attributes\":{},\"id\":\"1753\",\"type\":\"UnionRenderers\"},{\"attributes\":{\"children\":[{\"id\":\"1768\"},{\"id\":\"1769\"},{\"id\":\"1771\"}],\"margin\":[0,0,0,0],\"name\":\"Column03016\"},\"id\":\"1767\",\"type\":\"Column\"},{\"attributes\":{},\"id\":\"1716\",\"type\":\"ResetTool\"},{\"attributes\":{\"margin\":[5,5,5,5],\"name\":\"HSpacer03017\",\"sizing_mode\":\"stretch_width\"},\"id\":\"1691\",\"type\":\"Spacer\"},{\"attributes\":{},\"id\":\"1714\",\"type\":\"WheelZoomTool\"},{\"attributes\":{},\"id\":\"1726\",\"type\":\"Selection\"},{\"attributes\":{\"line_alpha\":0.2,\"line_color\":\"#30a2da\",\"line_width\":2,\"x\":{\"field\":\"year\"},\"y\":{\"field\":\"average_house_value\"}},\"id\":\"1730\",\"type\":\"Line\"},{\"attributes\":{\"overlay\":{\"id\":\"1717\"}},\"id\":\"1715\",\"type\":\"BoxZoomTool\"},{\"attributes\":{\"callback\":null,\"renderers\":[{\"id\":\"1731\"}],\"tags\":[\"hv_created\"],\"tooltips\":[[\"year\",\"@{year}\"],[\"average_house_value\",\"@{average_house_value}\"]]},\"id\":\"1694\",\"type\":\"HoverTool\"},{\"attributes\":{\"margin\":[5,5,5,5],\"name\":\"HSpacer03018\",\"sizing_mode\":\"stretch_width\"},\"id\":\"1766\",\"type\":\"Spacer\"},{\"attributes\":{\"coordinates\":null,\"group\":null,\"text\":\"neighbourhood: Agincourt North\",\"text_color\":\"black\",\"text_font_size\":\"12pt\"},\"id\":\"1696\",\"type\":\"Title\"},{\"attributes\":{},\"id\":\"1739\",\"type\":\"AllLabels\"},{\"attributes\":{},\"id\":\"1700\",\"type\":\"LinearScale\"}],\"root_ids\":[\"1690\",\"1802\"]},\"title\":\"Bokeh Application\",\"version\":\"2.4.1\"}};\n",
       "    var render_items = [{\"docid\":\"62288aa3-4004-4559-8d90-80659cb418a8\",\"root_ids\":[\"1690\"],\"roots\":{\"1690\":\"799b2941-d7c9-4152-8ab0-687ca966e597\"}}];\n",
       "    root.Bokeh.embed.embed_items_notebook(docs_json, render_items);\n",
       "  }\n",
       "  if (root.Bokeh !== undefined && root.Bokeh.Panel !== undefined && ( root['Plotly'] !== undefined)) {\n",
       "    embed_document(root);\n",
       "  } else {\n",
       "    var attempts = 0;\n",
       "    var timer = setInterval(function(root) {\n",
       "      if (root.Bokeh !== undefined && root.Bokeh.Panel !== undefined && (root['Plotly'] !== undefined)) {\n",
       "        clearInterval(timer);\n",
       "        embed_document(root);\n",
       "      } else if (document.readyState == \"complete\") {\n",
       "        attempts++;\n",
       "        if (attempts > 200) {\n",
       "          clearInterval(timer);\n",
       "          console.log(\"Bokeh: ERROR: Unable to run BokehJS code because BokehJS library is missing\");\n",
       "        }\n",
       "      }\n",
       "    }, 25, root)\n",
       "  }\n",
       "})(window);</script>"
      ],
      "text/plain": [
       ":DynamicMap   [neighbourhood]\n",
       "   :Curve   [year]   (average_house_value)"
      ]
     },
     "execution_count": 51,
     "metadata": {
      "application/vnd.holoviews_exec.v0+json": {
       "id": "1690"
      }
     },
     "output_type": "execute_result"
    }
   ],
   "source": [
    "# Use hvplot to create an interactive line chart of the average house value per neighbourhood\n",
    "# The plot should have a dropdown selector for the neighbourhood\n",
    "\n",
    "#use hvplot()function to plot data \n",
    "mean_house_values_by_neighbourhood_df.hvplot.line(x='year', y='average_house_value', rot=90, width=1500, groupby='neighbourhood')"
   ]
  },
  {
   "cell_type": "markdown",
   "metadata": {},
   "source": [
    "## Number of Dwelling Types per Year\n",
    "\n",
    "In this section, you will use `hvplot` to create an interactive visualization of the average number of dwelling types per year with a dropdown selector for the neighbourhood."
   ]
  },
  {
   "cell_type": "code",
   "execution_count": 57,
   "metadata": {},
   "outputs": [
    {
     "data": {
      "text/html": [
       "<div>\n",
       "<style scoped>\n",
       "    .dataframe tbody tr th:only-of-type {\n",
       "        vertical-align: middle;\n",
       "    }\n",
       "\n",
       "    .dataframe tbody tr th {\n",
       "        vertical-align: top;\n",
       "    }\n",
       "\n",
       "    .dataframe thead th {\n",
       "        text-align: right;\n",
       "    }\n",
       "</style>\n",
       "<table border=\"1\" class=\"dataframe\">\n",
       "  <thead>\n",
       "    <tr style=\"text-align: right;\">\n",
       "      <th></th>\n",
       "      <th>single_detached_house</th>\n",
       "      <th>apartment_five_storeys_plus</th>\n",
       "      <th>movable_dwelling</th>\n",
       "      <th>semi_detached_house</th>\n",
       "      <th>row_house</th>\n",
       "      <th>duplex</th>\n",
       "      <th>apartment_five_storeys_less</th>\n",
       "      <th>other_house</th>\n",
       "    </tr>\n",
       "    <tr>\n",
       "      <th>year</th>\n",
       "      <th></th>\n",
       "      <th></th>\n",
       "      <th></th>\n",
       "      <th></th>\n",
       "      <th></th>\n",
       "      <th></th>\n",
       "      <th></th>\n",
       "      <th></th>\n",
       "    </tr>\n",
       "  </thead>\n",
       "  <tbody>\n",
       "    <tr>\n",
       "      <th>2001</th>\n",
       "      <td>300930</td>\n",
       "      <td>355015</td>\n",
       "      <td>75</td>\n",
       "      <td>90995</td>\n",
       "      <td>52355</td>\n",
       "      <td>23785</td>\n",
       "      <td>116900</td>\n",
       "      <td>3040</td>\n",
       "    </tr>\n",
       "    <tr>\n",
       "      <th>2006</th>\n",
       "      <td>266860</td>\n",
       "      <td>379400</td>\n",
       "      <td>165</td>\n",
       "      <td>69430</td>\n",
       "      <td>54690</td>\n",
       "      <td>44095</td>\n",
       "      <td>162850</td>\n",
       "      <td>1335</td>\n",
       "    </tr>\n",
       "    <tr>\n",
       "      <th>2011</th>\n",
       "      <td>274940</td>\n",
       "      <td>429220</td>\n",
       "      <td>100</td>\n",
       "      <td>72480</td>\n",
       "      <td>60355</td>\n",
       "      <td>44750</td>\n",
       "      <td>163895</td>\n",
       "      <td>2165</td>\n",
       "    </tr>\n",
       "    <tr>\n",
       "      <th>2016</th>\n",
       "      <td>269680</td>\n",
       "      <td>493270</td>\n",
       "      <td>95</td>\n",
       "      <td>71200</td>\n",
       "      <td>61565</td>\n",
       "      <td>48585</td>\n",
       "      <td>165575</td>\n",
       "      <td>2845</td>\n",
       "    </tr>\n",
       "  </tbody>\n",
       "</table>\n",
       "</div>"
      ],
      "text/plain": [
       "      single_detached_house  apartment_five_storeys_plus  movable_dwelling  \\\n",
       "year                                                                         \n",
       "2001                 300930                       355015                75   \n",
       "2006                 266860                       379400               165   \n",
       "2011                 274940                       429220               100   \n",
       "2016                 269680                       493270                95   \n",
       "\n",
       "      semi_detached_house  row_house  duplex  apartment_five_storeys_less  \\\n",
       "year                                                                        \n",
       "2001                90995      52355   23785                       116900   \n",
       "2006                69430      54690   44095                       162850   \n",
       "2011                72480      60355   44750                       163895   \n",
       "2016                71200      61565   48585                       165575   \n",
       "\n",
       "      other_house  \n",
       "year               \n",
       "2001         3040  \n",
       "2006         1335  \n",
       "2011         2165  \n",
       "2016         2845  "
      ]
     },
     "execution_count": 57,
     "metadata": {},
     "output_type": "execute_result"
    }
   ],
   "source": [
    "# Fetch the data of all dwelling types per year\n",
    "dwelling_totals_df"
   ]
  },
  {
   "cell_type": "code",
   "execution_count": 80,
   "metadata": {},
   "outputs": [
    {
     "data": {
      "text/html": [
       "<div>\n",
       "<style scoped>\n",
       "    .dataframe tbody tr th:only-of-type {\n",
       "        vertical-align: middle;\n",
       "    }\n",
       "\n",
       "    .dataframe tbody tr th {\n",
       "        vertical-align: top;\n",
       "    }\n",
       "\n",
       "    .dataframe thead th {\n",
       "        text-align: right;\n",
       "    }\n",
       "</style>\n",
       "<table border=\"1\" class=\"dataframe\">\n",
       "  <thead>\n",
       "    <tr style=\"text-align: right;\">\n",
       "      <th></th>\n",
       "      <th>year</th>\n",
       "      <th>neighbourhood</th>\n",
       "      <th>single_detached_house</th>\n",
       "      <th>apartment_five_storeys_plus</th>\n",
       "      <th>movable_dwelling</th>\n",
       "      <th>semi_detached_house</th>\n",
       "      <th>row_house</th>\n",
       "      <th>duplex</th>\n",
       "      <th>apartment_five_storeys_less</th>\n",
       "      <th>other_house</th>\n",
       "    </tr>\n",
       "  </thead>\n",
       "  <tbody>\n",
       "    <tr>\n",
       "      <th>0</th>\n",
       "      <td>2001</td>\n",
       "      <td>Agincourt North</td>\n",
       "      <td>3715</td>\n",
       "      <td>1480</td>\n",
       "      <td>0</td>\n",
       "      <td>1055</td>\n",
       "      <td>1295</td>\n",
       "      <td>195</td>\n",
       "      <td>185</td>\n",
       "      <td>5</td>\n",
       "    </tr>\n",
       "    <tr>\n",
       "      <th>1</th>\n",
       "      <td>2001</td>\n",
       "      <td>Agincourt South-Malvern West</td>\n",
       "      <td>3250</td>\n",
       "      <td>1835</td>\n",
       "      <td>0</td>\n",
       "      <td>545</td>\n",
       "      <td>455</td>\n",
       "      <td>105</td>\n",
       "      <td>425</td>\n",
       "      <td>0</td>\n",
       "    </tr>\n",
       "    <tr>\n",
       "      <th>2</th>\n",
       "      <td>2001</td>\n",
       "      <td>Alderwood</td>\n",
       "      <td>3175</td>\n",
       "      <td>315</td>\n",
       "      <td>0</td>\n",
       "      <td>470</td>\n",
       "      <td>50</td>\n",
       "      <td>185</td>\n",
       "      <td>370</td>\n",
       "      <td>0</td>\n",
       "    </tr>\n",
       "    <tr>\n",
       "      <th>3</th>\n",
       "      <td>2001</td>\n",
       "      <td>Annex</td>\n",
       "      <td>1060</td>\n",
       "      <td>6090</td>\n",
       "      <td>5</td>\n",
       "      <td>1980</td>\n",
       "      <td>605</td>\n",
       "      <td>275</td>\n",
       "      <td>3710</td>\n",
       "      <td>165</td>\n",
       "    </tr>\n",
       "    <tr>\n",
       "      <th>4</th>\n",
       "      <td>2001</td>\n",
       "      <td>Banbury-Don Mills</td>\n",
       "      <td>3615</td>\n",
       "      <td>4465</td>\n",
       "      <td>0</td>\n",
       "      <td>240</td>\n",
       "      <td>380</td>\n",
       "      <td>15</td>\n",
       "      <td>1360</td>\n",
       "      <td>0</td>\n",
       "    </tr>\n",
       "  </tbody>\n",
       "</table>\n",
       "</div>"
      ],
      "text/plain": [
       "   year                 neighbourhood  single_detached_house  \\\n",
       "0  2001               Agincourt North                   3715   \n",
       "1  2001  Agincourt South-Malvern West                   3250   \n",
       "2  2001                     Alderwood                   3175   \n",
       "3  2001                         Annex                   1060   \n",
       "4  2001             Banbury-Don Mills                   3615   \n",
       "\n",
       "   apartment_five_storeys_plus  movable_dwelling  semi_detached_house  \\\n",
       "0                         1480                 0                 1055   \n",
       "1                         1835                 0                  545   \n",
       "2                          315                 0                  470   \n",
       "3                         6090                 5                 1980   \n",
       "4                         4465                 0                  240   \n",
       "\n",
       "   row_house  duplex  apartment_five_storeys_less  other_house  \n",
       "0       1295     195                          185            5  \n",
       "1        455     105                          425            0  \n",
       "2         50     185                          370            0  \n",
       "3        605     275                         3710          165  \n",
       "4        380      15                         1360            0  "
      ]
     },
     "execution_count": 80,
     "metadata": {},
     "output_type": "execute_result"
    }
   ],
   "source": [
    "\n",
    "dwelling_types_df = to_data.groupby([\"neighbourhood\", \"year\"]).mean()\n",
    "dwelling_types_df = to_data.drop(['average_house_value', 'shelter_costs_owned','shelter_costs_rented'], axis=1)\n",
    "dwelling_types_df.head()"
   ]
  },
  {
   "cell_type": "code",
   "execution_count": 77,
   "metadata": {},
   "outputs": [
    {
     "data": {},
     "metadata": {},
     "output_type": "display_data"
    },
    {
     "data": {
      "application/vnd.holoviews_exec.v0+json": "",
      "text/html": [
       "<div id='2039'>\n",
       "\n",
       "\n",
       "\n",
       "\n",
       "\n",
       "  <div class=\"bk-root\" id=\"3d298644-9b6f-4330-af7a-8929ba2a3c63\" data-root-id=\"2039\"></div>\n",
       "</div>\n",
       "<script type=\"application/javascript\">(function(root) {\n",
       "  function embed_document(root) {\n",
       "    var docs_json = {\"562a9c70-0a91-4d24-af51-b171092ec30f\":{\"defs\":[{\"extends\":null,\"module\":null,\"name\":\"ReactiveHTML1\",\"overrides\":[],\"properties\":[]},{\"extends\":null,\"module\":null,\"name\":\"FlexBox1\",\"overrides\":[],\"properties\":[{\"default\":\"flex-start\",\"kind\":null,\"name\":\"align_content\"},{\"default\":\"flex-start\",\"kind\":null,\"name\":\"align_items\"},{\"default\":\"row\",\"kind\":null,\"name\":\"flex_direction\"},{\"default\":\"wrap\",\"kind\":null,\"name\":\"flex_wrap\"},{\"default\":\"flex-start\",\"kind\":null,\"name\":\"justify_content\"}]},{\"extends\":null,\"module\":null,\"name\":\"GridStack1\",\"overrides\":[],\"properties\":[{\"default\":\"warn\",\"kind\":null,\"name\":\"mode\"},{\"default\":null,\"kind\":null,\"name\":\"ncols\"},{\"default\":null,\"kind\":null,\"name\":\"nrows\"},{\"default\":true,\"kind\":null,\"name\":\"allow_resize\"},{\"default\":true,\"kind\":null,\"name\":\"allow_drag\"},{\"default\":[],\"kind\":null,\"name\":\"state\"}]},{\"extends\":null,\"module\":null,\"name\":\"click1\",\"overrides\":[],\"properties\":[{\"default\":\"\",\"kind\":null,\"name\":\"terminal_output\"},{\"default\":\"\",\"kind\":null,\"name\":\"debug_name\"},{\"default\":0,\"kind\":null,\"name\":\"clears\"}]},{\"extends\":null,\"module\":null,\"name\":\"TemplateActions1\",\"overrides\":[],\"properties\":[{\"default\":0,\"kind\":null,\"name\":\"open_modal\"},{\"default\":0,\"kind\":null,\"name\":\"close_modal\"}]},{\"extends\":null,\"module\":null,\"name\":\"MaterialTemplateActions1\",\"overrides\":[],\"properties\":[{\"default\":0,\"kind\":null,\"name\":\"open_modal\"},{\"default\":0,\"kind\":null,\"name\":\"close_modal\"}]}],\"roots\":{\"references\":[{\"attributes\":{},\"id\":\"2054\",\"type\":\"CategoricalTicker\"},{\"attributes\":{\"end\":4086.5,\"reset_end\":4086.5,\"reset_start\":0.0,\"tags\":[[[\"value\",\"value\",null]]]},\"id\":\"2042\",\"type\":\"Range1d\"},{\"attributes\":{\"tools\":[{\"id\":\"2043\"},{\"id\":\"2060\"},{\"id\":\"2061\"},{\"id\":\"2062\"},{\"id\":\"2063\"},{\"id\":\"2064\"}]},\"id\":\"2066\",\"type\":\"Toolbar\"},{\"attributes\":{},\"id\":\"2060\",\"type\":\"SaveTool\"},{\"attributes\":{\"fill_color\":{\"field\":\"Variable\",\"transform\":{\"id\":\"2073\"}},\"hatch_color\":{\"field\":\"Variable\",\"transform\":{\"id\":\"2073\"}},\"top\":{\"field\":\"value\"},\"width\":{\"value\":0.8},\"x\":{\"field\":\"xoffsets\"}},\"id\":\"2077\",\"type\":\"VBar\"},{\"attributes\":{},\"id\":\"2061\",\"type\":\"PanTool\"},{\"attributes\":{},\"id\":\"2088\",\"type\":\"AllLabels\"},{\"attributes\":{},\"id\":\"2064\",\"type\":\"ResetTool\"},{\"attributes\":{\"factors\":[\"single_detached_house\",\"apartment_five_storeys_plus\",\"movable_dwelling\",\"semi_detached_house\",\"row_house\",\"duplex\",\"apartment_five_storeys_less\",\"other_house\"],\"palette\":[\"#30a2da\",\"#fc4f30\",\"#e5ae38\",\"#6d904f\",\"#8b8b8b\",\"#17becf\",\"#9467bd\",\"#d62728\"]},\"id\":\"2073\",\"type\":\"CategoricalColorMapper\"},{\"attributes\":{},\"id\":\"2062\",\"type\":\"WheelZoomTool\"},{\"attributes\":{},\"id\":\"2057\",\"type\":\"BasicTicker\"},{\"attributes\":{},\"id\":\"2087\",\"type\":\"BasicTickFormatter\"},{\"attributes\":{},\"id\":\"2084\",\"type\":\"CategoricalTickFormatter\"},{\"attributes\":{\"children\":[{\"id\":\"2119\"}],\"css_classes\":[\"panel-widget-box\"],\"margin\":[5,5,5,5],\"name\":\"WidgetBox04473\"},\"id\":\"2118\",\"type\":\"Column\"},{\"attributes\":{\"data\":{\"Variable\":[\"single_detached_house\",\"single_detached_house\",\"single_detached_house\",\"single_detached_house\",\"apartment_five_storeys_plus\",\"apartment_five_storeys_plus\",\"apartment_five_storeys_plus\",\"apartment_five_storeys_plus\",\"movable_dwelling\",\"movable_dwelling\",\"movable_dwelling\",\"movable_dwelling\",\"semi_detached_house\",\"semi_detached_house\",\"semi_detached_house\",\"semi_detached_house\",\"row_house\",\"row_house\",\"row_house\",\"row_house\",\"duplex\",\"duplex\",\"duplex\",\"duplex\",\"apartment_five_storeys_less\",\"apartment_five_storeys_less\",\"apartment_five_storeys_less\",\"apartment_five_storeys_less\",\"other_house\",\"other_house\",\"other_house\",\"other_house\"],\"value\":[3715,3295,3385,3345,1480,2060,2130,2120,0,0,5,5,1055,775,820,805,1295,1425,1465,1440,195,600,610,645,185,565,705,735,5,0,20,15],\"xoffsets\":[[\"2001\",\"single_detached_house\"],[\"2006\",\"single_detached_house\"],[\"2011\",\"single_detached_house\"],[\"2016\",\"single_detached_house\"],[\"2001\",\"apartment_five_storeys_plus\"],[\"2006\",\"apartment_five_storeys_plus\"],[\"2011\",\"apartment_five_storeys_plus\"],[\"2016\",\"apartment_five_storeys_plus\"],[\"2001\",\"movable_dwelling\"],[\"2006\",\"movable_dwelling\"],[\"2011\",\"movable_dwelling\"],[\"2016\",\"movable_dwelling\"],[\"2001\",\"semi_detached_house\"],[\"2006\",\"semi_detached_house\"],[\"2011\",\"semi_detached_house\"],[\"2016\",\"semi_detached_house\"],[\"2001\",\"row_house\"],[\"2006\",\"row_house\"],[\"2011\",\"row_house\"],[\"2016\",\"row_house\"],[\"2001\",\"duplex\"],[\"2006\",\"duplex\"],[\"2011\",\"duplex\"],[\"2016\",\"duplex\"],[\"2001\",\"apartment_five_storeys_less\"],[\"2006\",\"apartment_five_storeys_less\"],[\"2011\",\"apartment_five_storeys_less\"],[\"2016\",\"apartment_five_storeys_less\"],[\"2001\",\"other_house\"],[\"2006\",\"other_house\"],[\"2011\",\"other_house\"],[\"2016\",\"other_house\"]],\"year\":[\"2001\",\"2006\",\"2011\",\"2016\",\"2001\",\"2006\",\"2011\",\"2016\",\"2001\",\"2006\",\"2011\",\"2016\",\"2001\",\"2006\",\"2011\",\"2016\",\"2001\",\"2006\",\"2011\",\"2016\",\"2001\",\"2006\",\"2011\",\"2016\",\"2001\",\"2006\",\"2011\",\"2016\",\"2001\",\"2006\",\"2011\",\"2016\"]},\"selected\":{\"id\":\"2075\"},\"selection_policy\":{\"id\":\"2102\"}},\"id\":\"2074\",\"type\":\"ColumnDataSource\"},{\"attributes\":{\"overlay\":{\"id\":\"2065\"}},\"id\":\"2063\",\"type\":\"BoxZoomTool\"},{\"attributes\":{\"margin\":[5,5,5,5],\"name\":\"HSpacer04481\",\"sizing_mode\":\"stretch_width\"},\"id\":\"2040\",\"type\":\"Spacer\"},{\"attributes\":{\"axis_label\":\"year, Variable\",\"coordinates\":null,\"formatter\":{\"id\":\"2084\"},\"group\":null,\"major_label_orientation\":1.5707963267948966,\"major_label_policy\":{\"id\":\"2085\"},\"ticker\":{\"id\":\"2054\"}},\"id\":\"2053\",\"type\":\"CategoricalAxis\"},{\"attributes\":{\"source\":{\"id\":\"2074\"}},\"id\":\"2081\",\"type\":\"CDSView\"},{\"attributes\":{\"coordinates\":null,\"data_source\":{\"id\":\"2074\"},\"glyph\":{\"id\":\"2077\"},\"group\":null,\"hover_glyph\":null,\"muted_glyph\":{\"id\":\"2079\"},\"nonselection_glyph\":{\"id\":\"2078\"},\"selection_glyph\":{\"id\":\"2082\"},\"view\":{\"id\":\"2081\"}},\"id\":\"2080\",\"type\":\"GlyphRenderer\"},{\"attributes\":{},\"id\":\"2051\",\"type\":\"LinearScale\"},{\"attributes\":{\"bottom\":{\"value\":0},\"fill_alpha\":{\"value\":1.0},\"fill_color\":{\"field\":\"Variable\",\"transform\":{\"id\":\"2073\"}},\"hatch_alpha\":{\"value\":1.0},\"hatch_color\":{\"field\":\"Variable\",\"transform\":{\"id\":\"2073\"}},\"hatch_scale\":{\"value\":12.0},\"hatch_weight\":{\"value\":1.0},\"line_alpha\":{\"value\":1.0},\"line_cap\":{\"value\":\"butt\"},\"line_color\":{\"value\":\"black\"},\"line_dash\":{\"value\":[]},\"line_dash_offset\":{\"value\":0},\"line_join\":{\"value\":\"bevel\"},\"line_width\":{\"value\":1},\"top\":{\"field\":\"value\"},\"width\":{\"value\":0.8},\"x\":{\"field\":\"xoffsets\"}},\"id\":\"2082\",\"type\":\"VBar\"},{\"attributes\":{\"fill_alpha\":{\"value\":0.1},\"fill_color\":{\"field\":\"Variable\",\"transform\":{\"id\":\"2073\"}},\"hatch_alpha\":{\"value\":0.1},\"hatch_color\":{\"field\":\"Variable\",\"transform\":{\"id\":\"2073\"}},\"line_alpha\":{\"value\":0.1},\"top\":{\"field\":\"value\"},\"width\":{\"value\":0.8},\"x\":{\"field\":\"xoffsets\"}},\"id\":\"2078\",\"type\":\"VBar\"},{\"attributes\":{\"factors\":[[\"2001\",\"other_house\"],[\"2001\",\"apartment_five_storeys_less\"],[\"2001\",\"duplex\"],[\"2001\",\"row_house\"],[\"2001\",\"semi_detached_house\"],[\"2001\",\"movable_dwelling\"],[\"2001\",\"apartment_five_storeys_plus\"],[\"2001\",\"single_detached_house\"],[\"2006\",\"other_house\"],[\"2006\",\"apartment_five_storeys_less\"],[\"2006\",\"duplex\"],[\"2006\",\"row_house\"],[\"2006\",\"semi_detached_house\"],[\"2006\",\"movable_dwelling\"],[\"2006\",\"apartment_five_storeys_plus\"],[\"2006\",\"single_detached_house\"],[\"2011\",\"other_house\"],[\"2011\",\"apartment_five_storeys_less\"],[\"2011\",\"duplex\"],[\"2011\",\"row_house\"],[\"2011\",\"semi_detached_house\"],[\"2011\",\"movable_dwelling\"],[\"2011\",\"apartment_five_storeys_plus\"],[\"2011\",\"single_detached_house\"],[\"2016\",\"other_house\"],[\"2016\",\"apartment_five_storeys_less\"],[\"2016\",\"duplex\"],[\"2016\",\"row_house\"],[\"2016\",\"semi_detached_house\"],[\"2016\",\"movable_dwelling\"],[\"2016\",\"apartment_five_storeys_plus\"],[\"2016\",\"single_detached_house\"]],\"tags\":[[[\"year\",\"year\",null],[\"Variable\",\"Variable\",null]]]},\"id\":\"2041\",\"type\":\"FactorRange\"},{\"attributes\":{},\"id\":\"2102\",\"type\":\"UnionRenderers\"},{\"attributes\":{\"children\":[{\"id\":\"2117\"},{\"id\":\"2118\"},{\"id\":\"2120\"}],\"margin\":[0,0,0,0],\"name\":\"Column04480\"},\"id\":\"2116\",\"type\":\"Column\"},{\"attributes\":{\"coordinates\":null,\"group\":null,\"text\":\"neighbourhood: Agincourt North\",\"text_color\":\"black\",\"text_font_size\":\"12pt\"},\"id\":\"2045\",\"type\":\"Title\"},{\"attributes\":{\"bottom_units\":\"screen\",\"coordinates\":null,\"fill_alpha\":0.5,\"fill_color\":\"lightgrey\",\"group\":null,\"left_units\":\"screen\",\"level\":\"overlay\",\"line_alpha\":1.0,\"line_color\":\"black\",\"line_dash\":[4,4],\"line_width\":2,\"right_units\":\"screen\",\"syncable\":false,\"top_units\":\"screen\"},\"id\":\"2065\",\"type\":\"BoxAnnotation\"},{\"attributes\":{\"callback\":null,\"renderers\":[{\"id\":\"2080\"}],\"tags\":[\"hv_created\"],\"tooltips\":[[\"year\",\"@{year}\"],[\"Variable\",\"@{Variable}\"],[\"value\",\"@{value}\"]]},\"id\":\"2043\",\"type\":\"HoverTool\"},{\"attributes\":{\"margin\":[20,20,20,20],\"min_width\":250,\"options\":[\"Agincourt North\",\"Agincourt South-Malvern West\",\"Alderwood\",\"Annex\",\"Banbury-Don Mills\",\"Bathurst Manor\",\"Bay Street Corridor\",\"Bayview Village\",\"Bayview Woods-Steeles\",\"Bedford Park-Nortown\",\"Beechborough-Greenbrook\",\"Bendale\",\"Birchcliffe-Cliffside\",\"Black Creek\",\"Blake-Jones\",\"Briar Hill-Belgravia\",\"Bridle Path-Sunnybrook-York Mills\",\"Broadview North\",\"Brookhaven-Amesbury\",\"Cabbagetown-South St.James Town\",\"Caledonia-Fairbank\",\"Casa Loma\",\"Centennial Scarborough\",\"Church-Yonge Corridor\",\"Clairlea-Birchmount\",\"Clanton Park\",\"Cliffcrest\",\"Corso Italia-Davenport\",\"Danforth\",\"Danforth-East York\",\"Don Valley Village\",\"Dorset Park\",\"Dovercourt-Wallace Emerson-Juncti\",\"Downsview-Roding-CFB\",\"Dufferin Grove\",\"East End-Danforth\",\"Edenbridge-Humber Valley\",\"Eglinton East\",\"Elms-Old Rexdale\",\"Englemount-Lawrence\",\"Eringate-Centennial-West Deane\",\"Etobicoke West Mall\",\"Flemingdon Park\",\"Forest Hill North\",\"Forest Hill South\",\"Glenfield-Jane Heights\",\"Greenwood-Coxwell\",\"Guildwood\",\"Henry Farm\",\"High Park North\",\"High Park-Swansea\",\"Highland Creek\",\"Hillcrest Village\",\"Humber Heights-Westmount\",\"Humber Summit\",\"Humbermede\",\"Humewood-Cedarvale\",\"Ionview\",\"Islington-City Centre West\",\"Junction Area\",\"Keelesdale-Eglinton West\",\"Kennedy Park\",\"Kensington-Chinatown\",\"Kingsview Village-The Westway\",\"Kingsway South\",\"L'Amoreaux\",\"Lambton Baby Point\",\"Lansing-Westgate\",\"Lawrence Park North\",\"Lawrence Park South\",\"Leaside-Bennington\",\"Little Portugal\",\"Long Branch\",\"Malvern\",\"Maple Leaf\",\"Markland Wood\",\"Milliken\",\"Mimico\",\"Morningside\",\"Moss Park\",\"Mount Dennis\",\"Mount Olive-Silverstone-Jamestown\",\"Mount Pleasant East\",\"Mount Pleasant West\",\"New Toronto\",\"Newtonbrook East\",\"Newtonbrook West\",\"Niagara\",\"North Riverdale\",\"North St.James Town\",\"O'Connor-Parkview\",\"Oakridge\",\"Oakwood Village\",\"Old East York\",\"Palmerston-Little Italy\",\"Parkwoods-Donalda\",\"Pelmo Park-Humberlea\",\"Playter Estates-Danforth\",\"Pleasant View\",\"Princess-Rosethorn\",\"Regent Park\",\"Rexdale-Kipling\",\"Rockcliffe-Smythe\",\"Roncesvalles\",\"Rosedale-Moore Park\",\"Rouge\",\"Runnymede-Bloor West Village\",\"Rustic\",\"Scarborough Village\",\"South Parkdale\",\"South Riverdale\",\"St.Andrew-Windfields\",\"Steeles\",\"Stonegate-Queensway\",\"Tam O'Shanter-Sullivan\",\"Taylor-Massey\",\"The Beaches\",\"Thistletown-Beaumond Heights\",\"Thorncliffe Park\",\"Trinity-Bellwoods\",\"University\",\"Victoria Village\",\"Waterfront Communities-The Island\",\"West Hill\",\"West Humber-Clairville\",\"Westminster-Branson\",\"Weston\",\"Weston-Pellam Park\",\"Wexford/Maryvale\",\"Willowdale East\",\"Willowdale West\",\"Willowridge-Martingrove-Richview\",\"Woburn\",\"Woodbine Corridor\",\"Woodbine-Lumsden\",\"Wychwood\",\"Yonge-Eglinton\",\"Yonge-St.Clair\",\"York University Heights\",\"Yorkdale-Glen Park\"],\"title\":\"neighbourhood\",\"value\":\"Agincourt North\",\"width\":250},\"id\":\"2119\",\"type\":\"panel.models.widgets.CustomSelect\"},{\"attributes\":{},\"id\":\"2075\",\"type\":\"Selection\"},{\"attributes\":{\"axis\":{\"id\":\"2056\"},\"coordinates\":null,\"dimension\":1,\"grid_line_color\":null,\"group\":null,\"ticker\":null},\"id\":\"2059\",\"type\":\"Grid\"},{\"attributes\":{\"fill_alpha\":{\"value\":0.2},\"fill_color\":{\"field\":\"Variable\",\"transform\":{\"id\":\"2073\"}},\"hatch_alpha\":{\"value\":0.2},\"hatch_color\":{\"field\":\"Variable\",\"transform\":{\"id\":\"2073\"}},\"line_alpha\":{\"value\":0.2},\"top\":{\"field\":\"value\"},\"width\":{\"value\":0.8},\"x\":{\"field\":\"xoffsets\"}},\"id\":\"2079\",\"type\":\"VBar\"},{\"attributes\":{\"axis\":{\"id\":\"2053\"},\"coordinates\":null,\"grid_line_color\":null,\"group\":null,\"ticker\":null},\"id\":\"2055\",\"type\":\"Grid\"},{\"attributes\":{\"margin\":[5,5,5,5],\"name\":\"HSpacer04482\",\"sizing_mode\":\"stretch_width\"},\"id\":\"2115\",\"type\":\"Spacer\"},{\"attributes\":{\"axis_label\":\"\",\"coordinates\":null,\"formatter\":{\"id\":\"2087\"},\"group\":null,\"major_label_policy\":{\"id\":\"2088\"},\"ticker\":{\"id\":\"2057\"}},\"id\":\"2056\",\"type\":\"LinearAxis\"},{\"attributes\":{\"below\":[{\"id\":\"2053\"}],\"center\":[{\"id\":\"2055\"},{\"id\":\"2059\"}],\"height\":300,\"left\":[{\"id\":\"2056\"}],\"margin\":[5,5,5,5],\"min_border_bottom\":10,\"min_border_left\":10,\"min_border_right\":10,\"min_border_top\":10,\"renderers\":[{\"id\":\"2080\"}],\"sizing_mode\":\"fixed\",\"title\":{\"id\":\"2045\"},\"toolbar\":{\"id\":\"2066\"},\"width\":900,\"x_range\":{\"id\":\"2041\"},\"x_scale\":{\"id\":\"2049\"},\"y_range\":{\"id\":\"2042\"},\"y_scale\":{\"id\":\"2051\"}},\"id\":\"2044\",\"subtype\":\"Figure\",\"type\":\"Plot\"},{\"attributes\":{\"margin\":[5,5,5,5],\"name\":\"VSpacer04479\",\"sizing_mode\":\"stretch_height\"},\"id\":\"2120\",\"type\":\"Spacer\"},{\"attributes\":{},\"id\":\"2085\",\"type\":\"AllLabels\"},{\"attributes\":{\"client_comm_id\":\"b5065a7386c9496e86837971c50efdb8\",\"comm_id\":\"b80957936b5440c0bbf43f4fdbae545e\",\"plot_id\":\"2039\"},\"id\":\"2151\",\"type\":\"panel.models.comm_manager.CommManager\"},{\"attributes\":{},\"id\":\"2049\",\"type\":\"CategoricalScale\"},{\"attributes\":{\"children\":[{\"id\":\"2040\"},{\"id\":\"2044\"},{\"id\":\"2115\"},{\"id\":\"2116\"}],\"margin\":[0,0,0,0],\"name\":\"Row04472\"},\"id\":\"2039\",\"type\":\"Row\"},{\"attributes\":{\"margin\":[5,5,5,5],\"name\":\"VSpacer04478\",\"sizing_mode\":\"stretch_height\"},\"id\":\"2117\",\"type\":\"Spacer\"}],\"root_ids\":[\"2039\",\"2151\"]},\"title\":\"Bokeh Application\",\"version\":\"2.4.1\"}};\n",
       "    var render_items = [{\"docid\":\"562a9c70-0a91-4d24-af51-b171092ec30f\",\"root_ids\":[\"2039\"],\"roots\":{\"2039\":\"3d298644-9b6f-4330-af7a-8929ba2a3c63\"}}];\n",
       "    root.Bokeh.embed.embed_items_notebook(docs_json, render_items);\n",
       "  }\n",
       "  if (root.Bokeh !== undefined && root.Bokeh.Panel !== undefined && ( root['Plotly'] !== undefined)) {\n",
       "    embed_document(root);\n",
       "  } else {\n",
       "    var attempts = 0;\n",
       "    var timer = setInterval(function(root) {\n",
       "      if (root.Bokeh !== undefined && root.Bokeh.Panel !== undefined && (root['Plotly'] !== undefined)) {\n",
       "        clearInterval(timer);\n",
       "        embed_document(root);\n",
       "      } else if (document.readyState == \"complete\") {\n",
       "        attempts++;\n",
       "        if (attempts > 200) {\n",
       "          clearInterval(timer);\n",
       "          console.log(\"Bokeh: ERROR: Unable to run BokehJS code because BokehJS library is missing\");\n",
       "        }\n",
       "      }\n",
       "    }, 25, root)\n",
       "  }\n",
       "})(window);</script>"
      ],
      "text/plain": [
       ":DynamicMap   [neighbourhood]\n",
       "   :Bars   [year,Variable]   (value)"
      ]
     },
     "execution_count": 77,
     "metadata": {
      "application/vnd.holoviews_exec.v0+json": {
       "id": "2039"
      }
     },
     "output_type": "execute_result"
    }
   ],
   "source": [
    "# Use hvplot to create an interactive bar chart of the number of dwelling types per neighbourhood\n",
    "# The plot should have a dropdown selector for the neighbourhood\n",
    "dwelling_types_df.hvplot.bar(x='year', y=('single_detached_house', 'apartment_five_storeys_plus','movable_dwelling', 'semi_detached_house', 'row_house', 'duplex', 'apartment_five_storeys_less', 'other_house'), rot=90, width=900, groupby='neighbourhood')"
   ]
  },
  {
   "cell_type": "markdown",
   "metadata": {},
   "source": [
    "- - - "
   ]
  },
  {
   "cell_type": "markdown",
   "metadata": {},
   "source": [
    "## The Top 10 Most Expensive Neighbourhoods\n",
    "\n",
    "In this section, you will need to calculate the house value for each neighbourhood and then sort the values to obtain the top 10 most expensive neighbourhoods on average. Plot the results as a bar chart."
   ]
  },
  {
   "cell_type": "code",
   "execution_count": 152,
   "metadata": {},
   "outputs": [
    {
     "data": {
      "text/html": [
       "<div>\n",
       "<style scoped>\n",
       "    .dataframe tbody tr th:only-of-type {\n",
       "        vertical-align: middle;\n",
       "    }\n",
       "\n",
       "    .dataframe tbody tr th {\n",
       "        vertical-align: top;\n",
       "    }\n",
       "\n",
       "    .dataframe thead th {\n",
       "        text-align: right;\n",
       "    }\n",
       "</style>\n",
       "<table border=\"1\" class=\"dataframe\">\n",
       "  <thead>\n",
       "    <tr style=\"text-align: right;\">\n",
       "      <th></th>\n",
       "      <th>year</th>\n",
       "      <th>single_detached_house</th>\n",
       "      <th>apartment_five_storeys_plus</th>\n",
       "      <th>movable_dwelling</th>\n",
       "      <th>semi_detached_house</th>\n",
       "      <th>row_house</th>\n",
       "      <th>duplex</th>\n",
       "      <th>apartment_five_storeys_less</th>\n",
       "      <th>other_house</th>\n",
       "      <th>average_house_value</th>\n",
       "      <th>shelter_costs_owned</th>\n",
       "      <th>shelter_costs_rented</th>\n",
       "    </tr>\n",
       "    <tr>\n",
       "      <th>neighbourhood</th>\n",
       "      <th></th>\n",
       "      <th></th>\n",
       "      <th></th>\n",
       "      <th></th>\n",
       "      <th></th>\n",
       "      <th></th>\n",
       "      <th></th>\n",
       "      <th></th>\n",
       "      <th></th>\n",
       "      <th></th>\n",
       "      <th></th>\n",
       "      <th></th>\n",
       "    </tr>\n",
       "  </thead>\n",
       "  <tbody>\n",
       "    <tr>\n",
       "      <th>Bridle Path-Sunnybrook-York Mills</th>\n",
       "      <td>8034</td>\n",
       "      <td>9040</td>\n",
       "      <td>1325</td>\n",
       "      <td>0</td>\n",
       "      <td>145</td>\n",
       "      <td>360</td>\n",
       "      <td>100</td>\n",
       "      <td>160</td>\n",
       "      <td>0</td>\n",
       "      <td>6105943</td>\n",
       "      <td>9443</td>\n",
       "      <td>9287</td>\n",
       "    </tr>\n",
       "    <tr>\n",
       "      <th>Forest Hill South</th>\n",
       "      <td>8034</td>\n",
       "      <td>6970</td>\n",
       "      <td>8125</td>\n",
       "      <td>5</td>\n",
       "      <td>245</td>\n",
       "      <td>180</td>\n",
       "      <td>300</td>\n",
       "      <td>4110</td>\n",
       "      <td>15</td>\n",
       "      <td>4783970</td>\n",
       "      <td>7124</td>\n",
       "      <td>5255</td>\n",
       "    </tr>\n",
       "    <tr>\n",
       "      <th>Lawrence Park South</th>\n",
       "      <td>8034</td>\n",
       "      <td>13890</td>\n",
       "      <td>3095</td>\n",
       "      <td>0</td>\n",
       "      <td>505</td>\n",
       "      <td>155</td>\n",
       "      <td>900</td>\n",
       "      <td>3865</td>\n",
       "      <td>65</td>\n",
       "      <td>4376111</td>\n",
       "      <td>7816</td>\n",
       "      <td>5491</td>\n",
       "    </tr>\n",
       "    <tr>\n",
       "      <th>Rosedale-Moore Park</th>\n",
       "      <td>8034</td>\n",
       "      <td>9995</td>\n",
       "      <td>18565</td>\n",
       "      <td>0</td>\n",
       "      <td>1945</td>\n",
       "      <td>980</td>\n",
       "      <td>1310</td>\n",
       "      <td>6475</td>\n",
       "      <td>10</td>\n",
       "      <td>4374560</td>\n",
       "      <td>7639</td>\n",
       "      <td>6149</td>\n",
       "    </tr>\n",
       "    <tr>\n",
       "      <th>St.Andrew-Windfields</th>\n",
       "      <td>8034</td>\n",
       "      <td>12900</td>\n",
       "      <td>6680</td>\n",
       "      <td>0</td>\n",
       "      <td>740</td>\n",
       "      <td>2210</td>\n",
       "      <td>390</td>\n",
       "      <td>2345</td>\n",
       "      <td>20</td>\n",
       "      <td>3996428</td>\n",
       "      <td>7521</td>\n",
       "      <td>5538</td>\n",
       "    </tr>\n",
       "    <tr>\n",
       "      <th>Casa Loma</th>\n",
       "      <td>8034</td>\n",
       "      <td>3665</td>\n",
       "      <td>9240</td>\n",
       "      <td>0</td>\n",
       "      <td>1155</td>\n",
       "      <td>805</td>\n",
       "      <td>650</td>\n",
       "      <td>4770</td>\n",
       "      <td>10</td>\n",
       "      <td>3924257</td>\n",
       "      <td>7495</td>\n",
       "      <td>6191</td>\n",
       "    </tr>\n",
       "    <tr>\n",
       "      <th>Bedford Park-Nortown</th>\n",
       "      <td>8034</td>\n",
       "      <td>19460</td>\n",
       "      <td>7925</td>\n",
       "      <td>0</td>\n",
       "      <td>175</td>\n",
       "      <td>230</td>\n",
       "      <td>1150</td>\n",
       "      <td>5100</td>\n",
       "      <td>355</td>\n",
       "      <td>3721661</td>\n",
       "      <td>7147</td>\n",
       "      <td>5020</td>\n",
       "    </tr>\n",
       "    <tr>\n",
       "      <th>Forest Hill North</th>\n",
       "      <td>8034</td>\n",
       "      <td>5955</td>\n",
       "      <td>13570</td>\n",
       "      <td>0</td>\n",
       "      <td>50</td>\n",
       "      <td>65</td>\n",
       "      <td>330</td>\n",
       "      <td>1610</td>\n",
       "      <td>5</td>\n",
       "      <td>3406722</td>\n",
       "      <td>6891</td>\n",
       "      <td>4982</td>\n",
       "    </tr>\n",
       "    <tr>\n",
       "      <th>Kingsway South</th>\n",
       "      <td>8034</td>\n",
       "      <td>9305</td>\n",
       "      <td>2305</td>\n",
       "      <td>0</td>\n",
       "      <td>265</td>\n",
       "      <td>195</td>\n",
       "      <td>80</td>\n",
       "      <td>1345</td>\n",
       "      <td>10</td>\n",
       "      <td>3372937</td>\n",
       "      <td>6947</td>\n",
       "      <td>6488</td>\n",
       "    </tr>\n",
       "    <tr>\n",
       "      <th>Yonge-St.Clair</th>\n",
       "      <td>8034</td>\n",
       "      <td>2260</td>\n",
       "      <td>15795</td>\n",
       "      <td>0</td>\n",
       "      <td>1700</td>\n",
       "      <td>850</td>\n",
       "      <td>690</td>\n",
       "      <td>5235</td>\n",
       "      <td>25</td>\n",
       "      <td>3252881</td>\n",
       "      <td>6723</td>\n",
       "      <td>5476</td>\n",
       "    </tr>\n",
       "  </tbody>\n",
       "</table>\n",
       "</div>"
      ],
      "text/plain": [
       "                                   year  single_detached_house  \\\n",
       "neighbourhood                                                    \n",
       "Bridle Path-Sunnybrook-York Mills  8034                   9040   \n",
       "Forest Hill South                  8034                   6970   \n",
       "Lawrence Park South                8034                  13890   \n",
       "Rosedale-Moore Park                8034                   9995   \n",
       "St.Andrew-Windfields               8034                  12900   \n",
       "Casa Loma                          8034                   3665   \n",
       "Bedford Park-Nortown               8034                  19460   \n",
       "Forest Hill North                  8034                   5955   \n",
       "Kingsway South                     8034                   9305   \n",
       "Yonge-St.Clair                     8034                   2260   \n",
       "\n",
       "                                   apartment_five_storeys_plus  \\\n",
       "neighbourhood                                                    \n",
       "Bridle Path-Sunnybrook-York Mills                         1325   \n",
       "Forest Hill South                                         8125   \n",
       "Lawrence Park South                                       3095   \n",
       "Rosedale-Moore Park                                      18565   \n",
       "St.Andrew-Windfields                                      6680   \n",
       "Casa Loma                                                 9240   \n",
       "Bedford Park-Nortown                                      7925   \n",
       "Forest Hill North                                        13570   \n",
       "Kingsway South                                            2305   \n",
       "Yonge-St.Clair                                           15795   \n",
       "\n",
       "                                   movable_dwelling  semi_detached_house  \\\n",
       "neighbourhood                                                              \n",
       "Bridle Path-Sunnybrook-York Mills                 0                  145   \n",
       "Forest Hill South                                 5                  245   \n",
       "Lawrence Park South                               0                  505   \n",
       "Rosedale-Moore Park                               0                 1945   \n",
       "St.Andrew-Windfields                              0                  740   \n",
       "Casa Loma                                         0                 1155   \n",
       "Bedford Park-Nortown                              0                  175   \n",
       "Forest Hill North                                 0                   50   \n",
       "Kingsway South                                    0                  265   \n",
       "Yonge-St.Clair                                    0                 1700   \n",
       "\n",
       "                                   row_house  duplex  \\\n",
       "neighbourhood                                          \n",
       "Bridle Path-Sunnybrook-York Mills        360     100   \n",
       "Forest Hill South                        180     300   \n",
       "Lawrence Park South                      155     900   \n",
       "Rosedale-Moore Park                      980    1310   \n",
       "St.Andrew-Windfields                    2210     390   \n",
       "Casa Loma                                805     650   \n",
       "Bedford Park-Nortown                     230    1150   \n",
       "Forest Hill North                         65     330   \n",
       "Kingsway South                           195      80   \n",
       "Yonge-St.Clair                           850     690   \n",
       "\n",
       "                                   apartment_five_storeys_less  other_house  \\\n",
       "neighbourhood                                                                 \n",
       "Bridle Path-Sunnybrook-York Mills                          160            0   \n",
       "Forest Hill South                                         4110           15   \n",
       "Lawrence Park South                                       3865           65   \n",
       "Rosedale-Moore Park                                       6475           10   \n",
       "St.Andrew-Windfields                                      2345           20   \n",
       "Casa Loma                                                 4770           10   \n",
       "Bedford Park-Nortown                                      5100          355   \n",
       "Forest Hill North                                         1610            5   \n",
       "Kingsway South                                            1345           10   \n",
       "Yonge-St.Clair                                            5235           25   \n",
       "\n",
       "                                   average_house_value  shelter_costs_owned  \\\n",
       "neighbourhood                                                                 \n",
       "Bridle Path-Sunnybrook-York Mills              6105943                 9443   \n",
       "Forest Hill South                              4783970                 7124   \n",
       "Lawrence Park South                            4376111                 7816   \n",
       "Rosedale-Moore Park                            4374560                 7639   \n",
       "St.Andrew-Windfields                           3996428                 7521   \n",
       "Casa Loma                                      3924257                 7495   \n",
       "Bedford Park-Nortown                           3721661                 7147   \n",
       "Forest Hill North                              3406722                 6891   \n",
       "Kingsway South                                 3372937                 6947   \n",
       "Yonge-St.Clair                                 3252881                 6723   \n",
       "\n",
       "                                   shelter_costs_rented  \n",
       "neighbourhood                                            \n",
       "Bridle Path-Sunnybrook-York Mills                  9287  \n",
       "Forest Hill South                                  5255  \n",
       "Lawrence Park South                                5491  \n",
       "Rosedale-Moore Park                                6149  \n",
       "St.Andrew-Windfields                               5538  \n",
       "Casa Loma                                          6191  \n",
       "Bedford Park-Nortown                               5020  \n",
       "Forest Hill North                                  4982  \n",
       "Kingsway South                                     6488  \n",
       "Yonge-St.Clair                                     5476  "
      ]
     },
     "execution_count": 152,
     "metadata": {},
     "output_type": "execute_result"
    }
   ],
   "source": [
    "# Getting the data from the top 10 expensive neighbourhoods\n",
    "ten_expensive_neighbourhoods_df = to_data.groupby('neighbourhood').sum()\n",
    "topten_expensive_neighbourhoods_df = ten_expensive_neighbourhoods_df.sort_values(by='average_house_value', ascending=False)\n",
    "top_10_df = topten_expensive_neighbourhoods_df.nlargest(10,['average_house_value'])\n",
    "top_10_df.head(10)"
   ]
  },
  {
   "cell_type": "code",
   "execution_count": 153,
   "metadata": {},
   "outputs": [
    {
     "data": {},
     "metadata": {},
     "output_type": "display_data"
    },
    {
     "data": {
      "application/vnd.holoviews_exec.v0+json": "",
      "text/html": [
       "<div id='3605'>\n",
       "\n",
       "\n",
       "\n",
       "\n",
       "\n",
       "  <div class=\"bk-root\" id=\"6d8f03ef-320e-42da-99c4-7934298e93c4\" data-root-id=\"3605\"></div>\n",
       "</div>\n",
       "<script type=\"application/javascript\">(function(root) {\n",
       "  function embed_document(root) {\n",
       "    var docs_json = {\"f343a9e4-dfbc-4e9f-adce-d910c297d435\":{\"defs\":[{\"extends\":null,\"module\":null,\"name\":\"ReactiveHTML1\",\"overrides\":[],\"properties\":[]},{\"extends\":null,\"module\":null,\"name\":\"FlexBox1\",\"overrides\":[],\"properties\":[{\"default\":\"flex-start\",\"kind\":null,\"name\":\"align_content\"},{\"default\":\"flex-start\",\"kind\":null,\"name\":\"align_items\"},{\"default\":\"row\",\"kind\":null,\"name\":\"flex_direction\"},{\"default\":\"wrap\",\"kind\":null,\"name\":\"flex_wrap\"},{\"default\":\"flex-start\",\"kind\":null,\"name\":\"justify_content\"}]},{\"extends\":null,\"module\":null,\"name\":\"GridStack1\",\"overrides\":[],\"properties\":[{\"default\":\"warn\",\"kind\":null,\"name\":\"mode\"},{\"default\":null,\"kind\":null,\"name\":\"ncols\"},{\"default\":null,\"kind\":null,\"name\":\"nrows\"},{\"default\":true,\"kind\":null,\"name\":\"allow_resize\"},{\"default\":true,\"kind\":null,\"name\":\"allow_drag\"},{\"default\":[],\"kind\":null,\"name\":\"state\"}]},{\"extends\":null,\"module\":null,\"name\":\"click1\",\"overrides\":[],\"properties\":[{\"default\":\"\",\"kind\":null,\"name\":\"terminal_output\"},{\"default\":\"\",\"kind\":null,\"name\":\"debug_name\"},{\"default\":0,\"kind\":null,\"name\":\"clears\"}]},{\"extends\":null,\"module\":null,\"name\":\"TemplateActions1\",\"overrides\":[],\"properties\":[{\"default\":0,\"kind\":null,\"name\":\"open_modal\"},{\"default\":0,\"kind\":null,\"name\":\"close_modal\"}]},{\"extends\":null,\"module\":null,\"name\":\"MaterialTemplateActions1\",\"overrides\":[],\"properties\":[{\"default\":0,\"kind\":null,\"name\":\"open_modal\"},{\"default\":0,\"kind\":null,\"name\":\"close_modal\"}]}],\"roots\":{\"references\":[{\"attributes\":{},\"id\":\"3615\",\"type\":\"CategoricalScale\"},{\"attributes\":{},\"id\":\"3653\",\"type\":\"AllLabels\"},{\"attributes\":{\"bottom\":{\"value\":0},\"fill_alpha\":{\"value\":1.0},\"fill_color\":{\"value\":\"#30a2da\"},\"hatch_alpha\":{\"value\":1.0},\"hatch_color\":{\"value\":\"#30a2da\"},\"hatch_scale\":{\"value\":12.0},\"hatch_weight\":{\"value\":1.0},\"line_alpha\":{\"value\":1.0},\"line_cap\":{\"value\":\"butt\"},\"line_color\":{\"value\":\"black\"},\"line_dash\":{\"value\":[]},\"line_dash_offset\":{\"value\":0},\"line_join\":{\"value\":\"bevel\"},\"line_width\":{\"value\":1},\"top\":{\"field\":\"average_house_value\"},\"width\":{\"value\":0.8},\"x\":{\"field\":\"neighbourhood\"}},\"id\":\"3647\",\"type\":\"VBar\"},{\"attributes\":{},\"id\":\"3617\",\"type\":\"LinearScale\"},{\"attributes\":{\"tools\":[{\"id\":\"3609\"},{\"id\":\"3626\"},{\"id\":\"3627\"},{\"id\":\"3628\"},{\"id\":\"3629\"},{\"id\":\"3630\"}]},\"id\":\"3632\",\"type\":\"Toolbar\"},{\"attributes\":{},\"id\":\"3623\",\"type\":\"BasicTicker\"},{\"attributes\":{},\"id\":\"3620\",\"type\":\"CategoricalTicker\"},{\"attributes\":{\"bottom_units\":\"screen\",\"coordinates\":null,\"fill_alpha\":0.5,\"fill_color\":\"lightgrey\",\"group\":null,\"left_units\":\"screen\",\"level\":\"overlay\",\"line_alpha\":1.0,\"line_color\":\"black\",\"line_dash\":[4,4],\"line_width\":2,\"right_units\":\"screen\",\"syncable\":false,\"top_units\":\"screen\"},\"id\":\"3631\",\"type\":\"BoxAnnotation\"},{\"attributes\":{\"below\":[{\"id\":\"3619\"}],\"center\":[{\"id\":\"3621\"},{\"id\":\"3625\"}],\"height\":300,\"left\":[{\"id\":\"3622\"}],\"margin\":[5,5,5,5],\"min_border_bottom\":10,\"min_border_left\":10,\"min_border_right\":10,\"min_border_top\":10,\"renderers\":[{\"id\":\"3645\"}],\"sizing_mode\":\"fixed\",\"title\":{\"id\":\"3611\"},\"toolbar\":{\"id\":\"3632\"},\"width\":1000,\"x_range\":{\"id\":\"3607\"},\"x_scale\":{\"id\":\"3615\"},\"y_range\":{\"id\":\"3608\"},\"y_scale\":{\"id\":\"3617\"}},\"id\":\"3610\",\"subtype\":\"Figure\",\"type\":\"Plot\"},{\"attributes\":{},\"id\":\"3661\",\"type\":\"UnionRenderers\"},{\"attributes\":{\"axis_label\":\"average_house_value\",\"coordinates\":null,\"formatter\":{\"id\":\"3652\"},\"group\":null,\"major_label_policy\":{\"id\":\"3653\"},\"ticker\":{\"id\":\"3623\"}},\"id\":\"3622\",\"type\":\"LinearAxis\"},{\"attributes\":{\"axis\":{\"id\":\"3622\"},\"coordinates\":null,\"dimension\":1,\"grid_line_color\":null,\"group\":null,\"ticker\":null},\"id\":\"3625\",\"type\":\"Grid\"},{\"attributes\":{\"source\":{\"id\":\"3639\"}},\"id\":\"3646\",\"type\":\"CDSView\"},{\"attributes\":{\"margin\":[5,5,5,5],\"name\":\"HSpacer09588\",\"sizing_mode\":\"stretch_width\"},\"id\":\"3606\",\"type\":\"Spacer\"},{\"attributes\":{\"axis\":{\"id\":\"3619\"},\"coordinates\":null,\"grid_line_color\":null,\"group\":null,\"ticker\":null},\"id\":\"3621\",\"type\":\"Grid\"},{\"attributes\":{\"data\":{\"average_house_value\":[6105943,4783970,4376111,4374560,3996428,3924257,3721661,3406722,3372937,3252881],\"neighbourhood\":[\"Bridle Path-Sunnybrook-York Mills\",\"Forest Hill South\",\"Lawrence Park South\",\"Rosedale-Moore Park\",\"St.Andrew-Windfields\",\"Casa Loma\",\"Bedford Park-Nortown\",\"Forest Hill North\",\"Kingsway South\",\"Yonge-St.Clair\"]},\"selected\":{\"id\":\"3640\"},\"selection_policy\":{\"id\":\"3661\"}},\"id\":\"3639\",\"type\":\"ColumnDataSource\"},{\"attributes\":{\"fill_alpha\":{\"value\":0.1},\"fill_color\":{\"value\":\"#30a2da\"},\"hatch_alpha\":{\"value\":0.1},\"hatch_color\":{\"value\":\"#30a2da\"},\"line_alpha\":{\"value\":0.1},\"top\":{\"field\":\"average_house_value\"},\"width\":{\"value\":0.8},\"x\":{\"field\":\"neighbourhood\"}},\"id\":\"3643\",\"type\":\"VBar\"},{\"attributes\":{\"fill_alpha\":{\"value\":0.2},\"fill_color\":{\"value\":\"#30a2da\"},\"hatch_alpha\":{\"value\":0.2},\"hatch_color\":{\"value\":\"#30a2da\"},\"line_alpha\":{\"value\":0.2},\"top\":{\"field\":\"average_house_value\"},\"width\":{\"value\":0.8},\"x\":{\"field\":\"neighbourhood\"}},\"id\":\"3644\",\"type\":\"VBar\"},{\"attributes\":{\"callback\":null,\"renderers\":[{\"id\":\"3645\"}],\"tags\":[\"hv_created\"],\"tooltips\":[[\"neighbourhood\",\"@{neighbourhood}\"],[\"average_house_value\",\"@{average_house_value}\"]]},\"id\":\"3609\",\"type\":\"HoverTool\"},{\"attributes\":{},\"id\":\"3649\",\"type\":\"CategoricalTickFormatter\"},{\"attributes\":{\"axis_label\":\"neighbourhood\",\"coordinates\":null,\"formatter\":{\"id\":\"3649\"},\"group\":null,\"major_label_orientation\":1.5707963267948966,\"major_label_policy\":{\"id\":\"3650\"},\"ticker\":{\"id\":\"3620\"}},\"id\":\"3619\",\"type\":\"CategoricalAxis\"},{\"attributes\":{\"margin\":[5,5,5,5],\"name\":\"HSpacer09589\",\"sizing_mode\":\"stretch_width\"},\"id\":\"3674\",\"type\":\"Spacer\"},{\"attributes\":{\"end\":6391249.2,\"reset_end\":6391249.2,\"reset_start\":0.0,\"tags\":[[[\"average_house_value\",\"average_house_value\",null]]]},\"id\":\"3608\",\"type\":\"Range1d\"},{\"attributes\":{},\"id\":\"3626\",\"type\":\"SaveTool\"},{\"attributes\":{},\"id\":\"3627\",\"type\":\"PanTool\"},{\"attributes\":{},\"id\":\"3652\",\"type\":\"BasicTickFormatter\"},{\"attributes\":{\"children\":[{\"id\":\"3606\"},{\"id\":\"3610\"},{\"id\":\"3674\"}],\"margin\":[0,0,0,0],\"name\":\"Row09584\",\"tags\":[\"embedded\"]},\"id\":\"3605\",\"type\":\"Row\"},{\"attributes\":{},\"id\":\"3628\",\"type\":\"WheelZoomTool\"},{\"attributes\":{\"factors\":[\"Bridle Path-Sunnybrook-York Mills\",\"Forest Hill South\",\"Lawrence Park South\",\"Rosedale-Moore Park\",\"St.Andrew-Windfields\",\"Casa Loma\",\"Bedford Park-Nortown\",\"Forest Hill North\",\"Kingsway South\",\"Yonge-St.Clair\"],\"tags\":[[[\"neighbourhood\",\"neighbourhood\",null]]]},\"id\":\"3607\",\"type\":\"FactorRange\"},{\"attributes\":{\"fill_color\":{\"value\":\"#30a2da\"},\"hatch_color\":{\"value\":\"#30a2da\"},\"top\":{\"field\":\"average_house_value\"},\"width\":{\"value\":0.8},\"x\":{\"field\":\"neighbourhood\"}},\"id\":\"3642\",\"type\":\"VBar\"},{\"attributes\":{\"overlay\":{\"id\":\"3631\"}},\"id\":\"3629\",\"type\":\"BoxZoomTool\"},{\"attributes\":{},\"id\":\"3640\",\"type\":\"Selection\"},{\"attributes\":{\"coordinates\":null,\"data_source\":{\"id\":\"3639\"},\"glyph\":{\"id\":\"3642\"},\"group\":null,\"hover_glyph\":null,\"muted_glyph\":{\"id\":\"3644\"},\"nonselection_glyph\":{\"id\":\"3643\"},\"selection_glyph\":{\"id\":\"3647\"},\"view\":{\"id\":\"3646\"}},\"id\":\"3645\",\"type\":\"GlyphRenderer\"},{\"attributes\":{},\"id\":\"3650\",\"type\":\"AllLabels\"},{\"attributes\":{},\"id\":\"3630\",\"type\":\"ResetTool\"},{\"attributes\":{\"coordinates\":null,\"group\":null,\"text_color\":\"black\",\"text_font_size\":\"12pt\"},\"id\":\"3611\",\"type\":\"Title\"}],\"root_ids\":[\"3605\"]},\"title\":\"Bokeh Application\",\"version\":\"2.4.1\"}};\n",
       "    var render_items = [{\"docid\":\"f343a9e4-dfbc-4e9f-adce-d910c297d435\",\"root_ids\":[\"3605\"],\"roots\":{\"3605\":\"6d8f03ef-320e-42da-99c4-7934298e93c4\"}}];\n",
       "    root.Bokeh.embed.embed_items_notebook(docs_json, render_items);\n",
       "  }\n",
       "  if (root.Bokeh !== undefined && root.Bokeh.Panel !== undefined && ( root['Plotly'] !== undefined)) {\n",
       "    embed_document(root);\n",
       "  } else {\n",
       "    var attempts = 0;\n",
       "    var timer = setInterval(function(root) {\n",
       "      if (root.Bokeh !== undefined && root.Bokeh.Panel !== undefined && (root['Plotly'] !== undefined)) {\n",
       "        clearInterval(timer);\n",
       "        embed_document(root);\n",
       "      } else if (document.readyState == \"complete\") {\n",
       "        attempts++;\n",
       "        if (attempts > 200) {\n",
       "          clearInterval(timer);\n",
       "          console.log(\"Bokeh: ERROR: Unable to run BokehJS code because BokehJS library is missing\");\n",
       "        }\n",
       "      }\n",
       "    }, 25, root)\n",
       "  }\n",
       "})(window);</script>"
      ],
      "text/plain": [
       ":Bars   [neighbourhood]   (average_house_value)"
      ]
     },
     "execution_count": 153,
     "metadata": {
      "application/vnd.holoviews_exec.v0+json": {
       "id": "3605"
      }
     },
     "output_type": "execute_result"
    }
   ],
   "source": [
    "# Plotting the data from the top 10 expensive neighbourhoods\n",
    "top_10_df.hvplot.bar(x='neighbourhood', y='average_house_value', rot=90, width=1000)\n"
   ]
  },
  {
   "cell_type": "markdown",
   "metadata": {},
   "source": [
    "- - - "
   ]
  },
  {
   "cell_type": "markdown",
   "metadata": {},
   "source": [
    "## Neighbourhood Map\n",
    "\n",
    "In this section, you will read in neighbourhoods location data and build an interactive map with the average house value per neighbourhood. Use a `scatter_mapbox` from Plotly express to create the visualization. Remember, you will need your Mapbox API key for this."
   ]
  },
  {
   "cell_type": "markdown",
   "metadata": {},
   "source": [
    "### Load Location Data"
   ]
  },
  {
   "cell_type": "code",
   "execution_count": 146,
   "metadata": {},
   "outputs": [
    {
     "data": {
      "text/html": [
       "<div>\n",
       "<style scoped>\n",
       "    .dataframe tbody tr th:only-of-type {\n",
       "        vertical-align: middle;\n",
       "    }\n",
       "\n",
       "    .dataframe tbody tr th {\n",
       "        vertical-align: top;\n",
       "    }\n",
       "\n",
       "    .dataframe thead th {\n",
       "        text-align: right;\n",
       "    }\n",
       "</style>\n",
       "<table border=\"1\" class=\"dataframe\">\n",
       "  <thead>\n",
       "    <tr style=\"text-align: right;\">\n",
       "      <th></th>\n",
       "      <th>neighbourhood</th>\n",
       "      <th>lat</th>\n",
       "      <th>lon</th>\n",
       "    </tr>\n",
       "  </thead>\n",
       "  <tbody>\n",
       "    <tr>\n",
       "      <th>0</th>\n",
       "      <td>Agincourt North</td>\n",
       "      <td>43.805441</td>\n",
       "      <td>-79.266712</td>\n",
       "    </tr>\n",
       "    <tr>\n",
       "      <th>1</th>\n",
       "      <td>Agincourt South-Malvern West</td>\n",
       "      <td>43.788658</td>\n",
       "      <td>-79.265612</td>\n",
       "    </tr>\n",
       "    <tr>\n",
       "      <th>2</th>\n",
       "      <td>Alderwood</td>\n",
       "      <td>43.604937</td>\n",
       "      <td>-79.541611</td>\n",
       "    </tr>\n",
       "    <tr>\n",
       "      <th>3</th>\n",
       "      <td>Annex</td>\n",
       "      <td>43.671585</td>\n",
       "      <td>-79.404001</td>\n",
       "    </tr>\n",
       "    <tr>\n",
       "      <th>4</th>\n",
       "      <td>Banbury-Don Mills</td>\n",
       "      <td>43.737657</td>\n",
       "      <td>-79.349718</td>\n",
       "    </tr>\n",
       "  </tbody>\n",
       "</table>\n",
       "</div>"
      ],
      "text/plain": [
       "                  neighbourhood        lat        lon\n",
       "0               Agincourt North  43.805441 -79.266712\n",
       "1  Agincourt South-Malvern West  43.788658 -79.265612\n",
       "2                     Alderwood  43.604937 -79.541611\n",
       "3                         Annex  43.671585 -79.404001\n",
       "4             Banbury-Don Mills  43.737657 -79.349718"
      ]
     },
     "execution_count": 146,
     "metadata": {},
     "output_type": "execute_result"
    }
   ],
   "source": [
    "# Load neighbourhoods coordinates data\n",
    "file_path = Path(\"toronto_neighbourhoods_coordinates.csv\")\n",
    "neighbourhood_locations_df = pd.read_csv(file_path)\n",
    "neighbourhood_locations_df.head()"
   ]
  },
  {
   "cell_type": "markdown",
   "metadata": {},
   "source": [
    "### Data Preparation\n",
    "\n",
    "You will need to join the location data with the mean values per neighbourhood.\n",
    "\n",
    "1. Calculate the mean values for each neighbourhood.\n",
    "\n",
    "2. Join the average values with the neighbourhood locations."
   ]
  },
  {
   "cell_type": "code",
   "execution_count": 206,
   "metadata": {},
   "outputs": [
    {
     "data": {
      "text/html": [
       "<div>\n",
       "<style scoped>\n",
       "    .dataframe tbody tr th:only-of-type {\n",
       "        vertical-align: middle;\n",
       "    }\n",
       "\n",
       "    .dataframe tbody tr th {\n",
       "        vertical-align: top;\n",
       "    }\n",
       "\n",
       "    .dataframe thead th {\n",
       "        text-align: right;\n",
       "    }\n",
       "</style>\n",
       "<table border=\"1\" class=\"dataframe\">\n",
       "  <thead>\n",
       "    <tr style=\"text-align: right;\">\n",
       "      <th></th>\n",
       "      <th>neighbourhood</th>\n",
       "      <th>year</th>\n",
       "      <th>single_detached_house</th>\n",
       "      <th>apartment_five_storeys_plus</th>\n",
       "      <th>movable_dwelling</th>\n",
       "      <th>semi_detached_house</th>\n",
       "      <th>row_house</th>\n",
       "      <th>duplex</th>\n",
       "      <th>apartment_five_storeys_less</th>\n",
       "      <th>other_house</th>\n",
       "      <th>average_house_value</th>\n",
       "      <th>shelter_costs_owned</th>\n",
       "      <th>shelter_costs_rented</th>\n",
       "    </tr>\n",
       "  </thead>\n",
       "  <tbody>\n",
       "    <tr>\n",
       "      <th>0</th>\n",
       "      <td>Bedford Park-Nortown</td>\n",
       "      <td>8034.0</td>\n",
       "      <td>19460.0</td>\n",
       "      <td>7925.0</td>\n",
       "      <td>0.0</td>\n",
       "      <td>175.0</td>\n",
       "      <td>230.0</td>\n",
       "      <td>1150.0</td>\n",
       "      <td>5100.0</td>\n",
       "      <td>355.0</td>\n",
       "      <td>3721661.0</td>\n",
       "      <td>7147.0</td>\n",
       "      <td>5020.0</td>\n",
       "    </tr>\n",
       "    <tr>\n",
       "      <th>1</th>\n",
       "      <td>Bridle Path-Sunnybrook-York Mills</td>\n",
       "      <td>8034.0</td>\n",
       "      <td>9040.0</td>\n",
       "      <td>1325.0</td>\n",
       "      <td>0.0</td>\n",
       "      <td>145.0</td>\n",
       "      <td>360.0</td>\n",
       "      <td>100.0</td>\n",
       "      <td>160.0</td>\n",
       "      <td>0.0</td>\n",
       "      <td>6105943.0</td>\n",
       "      <td>9443.0</td>\n",
       "      <td>9287.0</td>\n",
       "    </tr>\n",
       "    <tr>\n",
       "      <th>2</th>\n",
       "      <td>Casa Loma</td>\n",
       "      <td>8034.0</td>\n",
       "      <td>3665.0</td>\n",
       "      <td>9240.0</td>\n",
       "      <td>0.0</td>\n",
       "      <td>1155.0</td>\n",
       "      <td>805.0</td>\n",
       "      <td>650.0</td>\n",
       "      <td>4770.0</td>\n",
       "      <td>10.0</td>\n",
       "      <td>3924257.0</td>\n",
       "      <td>7495.0</td>\n",
       "      <td>6191.0</td>\n",
       "    </tr>\n",
       "    <tr>\n",
       "      <th>3</th>\n",
       "      <td>Forest Hill North</td>\n",
       "      <td>8034.0</td>\n",
       "      <td>5955.0</td>\n",
       "      <td>13570.0</td>\n",
       "      <td>0.0</td>\n",
       "      <td>50.0</td>\n",
       "      <td>65.0</td>\n",
       "      <td>330.0</td>\n",
       "      <td>1610.0</td>\n",
       "      <td>5.0</td>\n",
       "      <td>3406722.0</td>\n",
       "      <td>6891.0</td>\n",
       "      <td>4982.0</td>\n",
       "    </tr>\n",
       "    <tr>\n",
       "      <th>4</th>\n",
       "      <td>Forest Hill South</td>\n",
       "      <td>8034.0</td>\n",
       "      <td>6970.0</td>\n",
       "      <td>8125.0</td>\n",
       "      <td>5.0</td>\n",
       "      <td>245.0</td>\n",
       "      <td>180.0</td>\n",
       "      <td>300.0</td>\n",
       "      <td>4110.0</td>\n",
       "      <td>15.0</td>\n",
       "      <td>4783970.0</td>\n",
       "      <td>7124.0</td>\n",
       "      <td>5255.0</td>\n",
       "    </tr>\n",
       "  </tbody>\n",
       "</table>\n",
       "</div>"
      ],
      "text/plain": [
       "                       neighbourhood    year  single_detached_house  \\\n",
       "0               Bedford Park-Nortown  8034.0                19460.0   \n",
       "1  Bridle Path-Sunnybrook-York Mills  8034.0                 9040.0   \n",
       "2                          Casa Loma  8034.0                 3665.0   \n",
       "3                  Forest Hill North  8034.0                 5955.0   \n",
       "4                  Forest Hill South  8034.0                 6970.0   \n",
       "\n",
       "   apartment_five_storeys_plus  movable_dwelling  semi_detached_house  \\\n",
       "0                       7925.0               0.0                175.0   \n",
       "1                       1325.0               0.0                145.0   \n",
       "2                       9240.0               0.0               1155.0   \n",
       "3                      13570.0               0.0                 50.0   \n",
       "4                       8125.0               5.0                245.0   \n",
       "\n",
       "   row_house  duplex  apartment_five_storeys_less  other_house  \\\n",
       "0      230.0  1150.0                       5100.0        355.0   \n",
       "1      360.0   100.0                        160.0          0.0   \n",
       "2      805.0   650.0                       4770.0         10.0   \n",
       "3       65.0   330.0                       1610.0          5.0   \n",
       "4      180.0   300.0                       4110.0         15.0   \n",
       "\n",
       "   average_house_value  shelter_costs_owned  shelter_costs_rented  \n",
       "0            3721661.0               7147.0                5020.0  \n",
       "1            6105943.0               9443.0                9287.0  \n",
       "2            3924257.0               7495.0                6191.0  \n",
       "3            3406722.0               6891.0                4982.0  \n",
       "4            4783970.0               7124.0                5255.0  "
      ]
     },
     "execution_count": 206,
     "metadata": {},
     "output_type": "execute_result"
    }
   ],
   "source": [
    "# Calculate the mean values for each neighborhood\n",
    "allNeighborhoods = top_10_df.groupby(by=\"neighbourhood\").mean()\n",
    "allNeighborhoods.reset_index(inplace=True)\n",
    "allNeighborhoods.rename(columns={\"neighbourhood\": \"neighbourhood\"}, inplace=True)\n",
    "allNeighborhoods.head()"
   ]
  },
  {
   "cell_type": "code",
   "execution_count": 207,
   "metadata": {},
   "outputs": [
    {
     "data": {
      "text/html": [
       "<div>\n",
       "<style scoped>\n",
       "    .dataframe tbody tr th:only-of-type {\n",
       "        vertical-align: middle;\n",
       "    }\n",
       "\n",
       "    .dataframe tbody tr th {\n",
       "        vertical-align: top;\n",
       "    }\n",
       "\n",
       "    .dataframe thead th {\n",
       "        text-align: right;\n",
       "    }\n",
       "</style>\n",
       "<table border=\"1\" class=\"dataframe\">\n",
       "  <thead>\n",
       "    <tr style=\"text-align: right;\">\n",
       "      <th></th>\n",
       "      <th>neighbourhood</th>\n",
       "      <th>lat</th>\n",
       "      <th>lon</th>\n",
       "      <th>year</th>\n",
       "      <th>single_detached_house</th>\n",
       "      <th>apartment_five_storeys_plus</th>\n",
       "      <th>movable_dwelling</th>\n",
       "      <th>semi_detached_house</th>\n",
       "      <th>row_house</th>\n",
       "      <th>duplex</th>\n",
       "      <th>apartment_five_storeys_less</th>\n",
       "      <th>other_house</th>\n",
       "      <th>average_house_value</th>\n",
       "      <th>shelter_costs_owned</th>\n",
       "      <th>shelter_costs_rented</th>\n",
       "    </tr>\n",
       "  </thead>\n",
       "  <tbody>\n",
       "    <tr>\n",
       "      <th>0</th>\n",
       "      <td>Bedford Park-Nortown</td>\n",
       "      <td>43.731486</td>\n",
       "      <td>-79.420227</td>\n",
       "      <td>8034.0</td>\n",
       "      <td>19460.0</td>\n",
       "      <td>7925.0</td>\n",
       "      <td>0.0</td>\n",
       "      <td>175.0</td>\n",
       "      <td>230.0</td>\n",
       "      <td>1150.0</td>\n",
       "      <td>5100.0</td>\n",
       "      <td>355.0</td>\n",
       "      <td>3721661.0</td>\n",
       "      <td>7147.0</td>\n",
       "      <td>5020.0</td>\n",
       "    </tr>\n",
       "    <tr>\n",
       "      <th>1</th>\n",
       "      <td>Bridle Path-Sunnybrook-York Mills</td>\n",
       "      <td>43.731013</td>\n",
       "      <td>-79.378904</td>\n",
       "      <td>8034.0</td>\n",
       "      <td>9040.0</td>\n",
       "      <td>1325.0</td>\n",
       "      <td>0.0</td>\n",
       "      <td>145.0</td>\n",
       "      <td>360.0</td>\n",
       "      <td>100.0</td>\n",
       "      <td>160.0</td>\n",
       "      <td>0.0</td>\n",
       "      <td>6105943.0</td>\n",
       "      <td>9443.0</td>\n",
       "      <td>9287.0</td>\n",
       "    </tr>\n",
       "    <tr>\n",
       "      <th>2</th>\n",
       "      <td>Casa Loma</td>\n",
       "      <td>43.681852</td>\n",
       "      <td>-79.408007</td>\n",
       "      <td>8034.0</td>\n",
       "      <td>3665.0</td>\n",
       "      <td>9240.0</td>\n",
       "      <td>0.0</td>\n",
       "      <td>1155.0</td>\n",
       "      <td>805.0</td>\n",
       "      <td>650.0</td>\n",
       "      <td>4770.0</td>\n",
       "      <td>10.0</td>\n",
       "      <td>3924257.0</td>\n",
       "      <td>7495.0</td>\n",
       "      <td>6191.0</td>\n",
       "    </tr>\n",
       "    <tr>\n",
       "      <th>3</th>\n",
       "      <td>Forest Hill North</td>\n",
       "      <td>43.704218</td>\n",
       "      <td>-79.428143</td>\n",
       "      <td>8034.0</td>\n",
       "      <td>5955.0</td>\n",
       "      <td>13570.0</td>\n",
       "      <td>0.0</td>\n",
       "      <td>50.0</td>\n",
       "      <td>65.0</td>\n",
       "      <td>330.0</td>\n",
       "      <td>1610.0</td>\n",
       "      <td>5.0</td>\n",
       "      <td>3406722.0</td>\n",
       "      <td>6891.0</td>\n",
       "      <td>4982.0</td>\n",
       "    </tr>\n",
       "    <tr>\n",
       "      <th>4</th>\n",
       "      <td>Forest Hill South</td>\n",
       "      <td>43.694526</td>\n",
       "      <td>-79.414318</td>\n",
       "      <td>8034.0</td>\n",
       "      <td>6970.0</td>\n",
       "      <td>8125.0</td>\n",
       "      <td>5.0</td>\n",
       "      <td>245.0</td>\n",
       "      <td>180.0</td>\n",
       "      <td>300.0</td>\n",
       "      <td>4110.0</td>\n",
       "      <td>15.0</td>\n",
       "      <td>4783970.0</td>\n",
       "      <td>7124.0</td>\n",
       "      <td>5255.0</td>\n",
       "    </tr>\n",
       "  </tbody>\n",
       "</table>\n",
       "</div>"
      ],
      "text/plain": [
       "                       neighbourhood        lat        lon    year  \\\n",
       "0               Bedford Park-Nortown  43.731486 -79.420227  8034.0   \n",
       "1  Bridle Path-Sunnybrook-York Mills  43.731013 -79.378904  8034.0   \n",
       "2                          Casa Loma  43.681852 -79.408007  8034.0   \n",
       "3                  Forest Hill North  43.704218 -79.428143  8034.0   \n",
       "4                  Forest Hill South  43.694526 -79.414318  8034.0   \n",
       "\n",
       "   single_detached_house  apartment_five_storeys_plus  movable_dwelling  \\\n",
       "0                19460.0                       7925.0               0.0   \n",
       "1                 9040.0                       1325.0               0.0   \n",
       "2                 3665.0                       9240.0               0.0   \n",
       "3                 5955.0                      13570.0               0.0   \n",
       "4                 6970.0                       8125.0               5.0   \n",
       "\n",
       "   semi_detached_house  row_house  duplex  apartment_five_storeys_less  \\\n",
       "0                175.0      230.0  1150.0                       5100.0   \n",
       "1                145.0      360.0   100.0                        160.0   \n",
       "2               1155.0      805.0   650.0                       4770.0   \n",
       "3                 50.0       65.0   330.0                       1610.0   \n",
       "4                245.0      180.0   300.0                       4110.0   \n",
       "\n",
       "   other_house  average_house_value  shelter_costs_owned  shelter_costs_rented  \n",
       "0        355.0            3721661.0               7147.0                5020.0  \n",
       "1          0.0            6105943.0               9443.0                9287.0  \n",
       "2         10.0            3924257.0               7495.0                6191.0  \n",
       "3          5.0            3406722.0               6891.0                4982.0  \n",
       "4         15.0            4783970.0               7124.0                5255.0  "
      ]
     },
     "execution_count": 207,
     "metadata": {},
     "output_type": "execute_result"
    }
   ],
   "source": [
    "# Join the average values with the neighbourhood locations\n",
    "average_value_neighbourhood_locations = pd.merge(neighbourhood_locations_df, allNeighborhoods, on=\"neighbourhood\")\n",
    "average_value_neighbourhood_locations.head()"
   ]
  },
  {
   "cell_type": "markdown",
   "metadata": {},
   "source": [
    "### Mapbox Visualization\n",
    "\n",
    "Plot the average values per neighbourhood using a Plotly express `scatter_mapbox` visualization."
   ]
  },
  {
   "cell_type": "code",
   "execution_count": 216,
   "metadata": {},
   "outputs": [
    {
     "data": {
      "application/vnd.plotly.v1+json": {
       "config": {
        "plotlyServerURL": "https://plot.ly"
       },
       "data": [
        {
         "hovertemplate": "average_house_value=%{marker.size}<br>lat=%{lat}<br>lon=%{lon}<br>other_house=%{marker.color}<extra></extra>",
         "lat": [
          43.73148623,
          43.73101314,
          43.6818521,
          43.70421756,
          43.69452576,
          43.65352043,
          43.7172117,
          43.68282043,
          43.75624583,
          43.68785887
         ],
         "legendgroup": "",
         "lon": [
          -79.42022735,
          -79.37890418,
          -79.40800665,
          -79.42814316,
          -79.41431786,
          -79.5105768,
          -79.40603941,
          -79.3796694,
          -79.37903709,
          -79.39787077
         ],
         "marker": {
          "color": [
           355,
           0,
           10,
           5,
           15,
           10,
           65,
           10,
           20,
           25
          ],
          "coloraxis": "coloraxis",
          "size": [
           3721661,
           6105943,
           3924257,
           3406722,
           4783970,
           3372937,
           4376111,
           4374560,
           3996428,
           3252881
          ],
          "sizemode": "area",
          "sizeref": 27137.524444444443
         },
         "mode": "markers",
         "name": "",
         "showlegend": false,
         "subplot": "mapbox",
         "type": "scattermapbox"
        }
       ],
       "layout": {
        "coloraxis": {
         "colorbar": {
          "title": {
           "text": "other_house"
          }
         },
         "colorscale": [
          [
           0,
           "#000000"
          ],
          [
           0.0625,
           "#001f4d"
          ],
          [
           0.125,
           "#003786"
          ],
          [
           0.1875,
           "#0e58a8"
          ],
          [
           0.25,
           "#217eb8"
          ],
          [
           0.3125,
           "#30a4ca"
          ],
          [
           0.375,
           "#54c8df"
          ],
          [
           0.4375,
           "#9be4ef"
          ],
          [
           0.5,
           "#e1e9d1"
          ],
          [
           0.5625,
           "#f3d573"
          ],
          [
           0.625,
           "#e7b000"
          ],
          [
           0.6875,
           "#da8200"
          ],
          [
           0.75,
           "#c65400"
          ],
          [
           0.8125,
           "#ac2301"
          ],
          [
           0.875,
           "#820000"
          ],
          [
           0.9375,
           "#4c0000"
          ],
          [
           1,
           "#000000"
          ]
         ]
        },
        "dragmode": "select",
        "legend": {
         "itemsizing": "constant",
         "tracegroupgap": 0
        },
        "mapbox": {
         "center": {
          "lat": 43.704075205,
          "lon": -79.41227926699999
         },
         "domain": {
          "x": [
           0,
           1
          ],
          "y": [
           0,
           1
          ]
         },
         "zoom": 11.55
        },
        "margin": {
         "t": 60
        },
        "template": {
         "data": {
          "bar": [
           {
            "error_x": {
             "color": "#2a3f5f"
            },
            "error_y": {
             "color": "#2a3f5f"
            },
            "marker": {
             "line": {
              "color": "#E5ECF6",
              "width": 0.5
             },
             "pattern": {
              "fillmode": "overlay",
              "size": 10,
              "solidity": 0.2
             }
            },
            "type": "bar"
           }
          ],
          "barpolar": [
           {
            "marker": {
             "line": {
              "color": "#E5ECF6",
              "width": 0.5
             },
             "pattern": {
              "fillmode": "overlay",
              "size": 10,
              "solidity": 0.2
             }
            },
            "type": "barpolar"
           }
          ],
          "carpet": [
           {
            "aaxis": {
             "endlinecolor": "#2a3f5f",
             "gridcolor": "white",
             "linecolor": "white",
             "minorgridcolor": "white",
             "startlinecolor": "#2a3f5f"
            },
            "baxis": {
             "endlinecolor": "#2a3f5f",
             "gridcolor": "white",
             "linecolor": "white",
             "minorgridcolor": "white",
             "startlinecolor": "#2a3f5f"
            },
            "type": "carpet"
           }
          ],
          "choropleth": [
           {
            "colorbar": {
             "outlinewidth": 0,
             "ticks": ""
            },
            "type": "choropleth"
           }
          ],
          "contour": [
           {
            "colorbar": {
             "outlinewidth": 0,
             "ticks": ""
            },
            "colorscale": [
             [
              0,
              "#0d0887"
             ],
             [
              0.1111111111111111,
              "#46039f"
             ],
             [
              0.2222222222222222,
              "#7201a8"
             ],
             [
              0.3333333333333333,
              "#9c179e"
             ],
             [
              0.4444444444444444,
              "#bd3786"
             ],
             [
              0.5555555555555556,
              "#d8576b"
             ],
             [
              0.6666666666666666,
              "#ed7953"
             ],
             [
              0.7777777777777778,
              "#fb9f3a"
             ],
             [
              0.8888888888888888,
              "#fdca26"
             ],
             [
              1,
              "#f0f921"
             ]
            ],
            "type": "contour"
           }
          ],
          "contourcarpet": [
           {
            "colorbar": {
             "outlinewidth": 0,
             "ticks": ""
            },
            "type": "contourcarpet"
           }
          ],
          "heatmap": [
           {
            "colorbar": {
             "outlinewidth": 0,
             "ticks": ""
            },
            "colorscale": [
             [
              0,
              "#0d0887"
             ],
             [
              0.1111111111111111,
              "#46039f"
             ],
             [
              0.2222222222222222,
              "#7201a8"
             ],
             [
              0.3333333333333333,
              "#9c179e"
             ],
             [
              0.4444444444444444,
              "#bd3786"
             ],
             [
              0.5555555555555556,
              "#d8576b"
             ],
             [
              0.6666666666666666,
              "#ed7953"
             ],
             [
              0.7777777777777778,
              "#fb9f3a"
             ],
             [
              0.8888888888888888,
              "#fdca26"
             ],
             [
              1,
              "#f0f921"
             ]
            ],
            "type": "heatmap"
           }
          ],
          "heatmapgl": [
           {
            "colorbar": {
             "outlinewidth": 0,
             "ticks": ""
            },
            "colorscale": [
             [
              0,
              "#0d0887"
             ],
             [
              0.1111111111111111,
              "#46039f"
             ],
             [
              0.2222222222222222,
              "#7201a8"
             ],
             [
              0.3333333333333333,
              "#9c179e"
             ],
             [
              0.4444444444444444,
              "#bd3786"
             ],
             [
              0.5555555555555556,
              "#d8576b"
             ],
             [
              0.6666666666666666,
              "#ed7953"
             ],
             [
              0.7777777777777778,
              "#fb9f3a"
             ],
             [
              0.8888888888888888,
              "#fdca26"
             ],
             [
              1,
              "#f0f921"
             ]
            ],
            "type": "heatmapgl"
           }
          ],
          "histogram": [
           {
            "marker": {
             "pattern": {
              "fillmode": "overlay",
              "size": 10,
              "solidity": 0.2
             }
            },
            "type": "histogram"
           }
          ],
          "histogram2d": [
           {
            "colorbar": {
             "outlinewidth": 0,
             "ticks": ""
            },
            "colorscale": [
             [
              0,
              "#0d0887"
             ],
             [
              0.1111111111111111,
              "#46039f"
             ],
             [
              0.2222222222222222,
              "#7201a8"
             ],
             [
              0.3333333333333333,
              "#9c179e"
             ],
             [
              0.4444444444444444,
              "#bd3786"
             ],
             [
              0.5555555555555556,
              "#d8576b"
             ],
             [
              0.6666666666666666,
              "#ed7953"
             ],
             [
              0.7777777777777778,
              "#fb9f3a"
             ],
             [
              0.8888888888888888,
              "#fdca26"
             ],
             [
              1,
              "#f0f921"
             ]
            ],
            "type": "histogram2d"
           }
          ],
          "histogram2dcontour": [
           {
            "colorbar": {
             "outlinewidth": 0,
             "ticks": ""
            },
            "colorscale": [
             [
              0,
              "#0d0887"
             ],
             [
              0.1111111111111111,
              "#46039f"
             ],
             [
              0.2222222222222222,
              "#7201a8"
             ],
             [
              0.3333333333333333,
              "#9c179e"
             ],
             [
              0.4444444444444444,
              "#bd3786"
             ],
             [
              0.5555555555555556,
              "#d8576b"
             ],
             [
              0.6666666666666666,
              "#ed7953"
             ],
             [
              0.7777777777777778,
              "#fb9f3a"
             ],
             [
              0.8888888888888888,
              "#fdca26"
             ],
             [
              1,
              "#f0f921"
             ]
            ],
            "type": "histogram2dcontour"
           }
          ],
          "mesh3d": [
           {
            "colorbar": {
             "outlinewidth": 0,
             "ticks": ""
            },
            "type": "mesh3d"
           }
          ],
          "parcoords": [
           {
            "line": {
             "colorbar": {
              "outlinewidth": 0,
              "ticks": ""
             }
            },
            "type": "parcoords"
           }
          ],
          "pie": [
           {
            "automargin": true,
            "type": "pie"
           }
          ],
          "scatter": [
           {
            "fillpattern": {
             "fillmode": "overlay",
             "size": 10,
             "solidity": 0.2
            },
            "type": "scatter"
           }
          ],
          "scatter3d": [
           {
            "line": {
             "colorbar": {
              "outlinewidth": 0,
              "ticks": ""
             }
            },
            "marker": {
             "colorbar": {
              "outlinewidth": 0,
              "ticks": ""
             }
            },
            "type": "scatter3d"
           }
          ],
          "scattercarpet": [
           {
            "marker": {
             "colorbar": {
              "outlinewidth": 0,
              "ticks": ""
             }
            },
            "type": "scattercarpet"
           }
          ],
          "scattergeo": [
           {
            "marker": {
             "colorbar": {
              "outlinewidth": 0,
              "ticks": ""
             }
            },
            "type": "scattergeo"
           }
          ],
          "scattergl": [
           {
            "marker": {
             "colorbar": {
              "outlinewidth": 0,
              "ticks": ""
             }
            },
            "type": "scattergl"
           }
          ],
          "scattermapbox": [
           {
            "marker": {
             "colorbar": {
              "outlinewidth": 0,
              "ticks": ""
             }
            },
            "type": "scattermapbox"
           }
          ],
          "scatterpolar": [
           {
            "marker": {
             "colorbar": {
              "outlinewidth": 0,
              "ticks": ""
             }
            },
            "type": "scatterpolar"
           }
          ],
          "scatterpolargl": [
           {
            "marker": {
             "colorbar": {
              "outlinewidth": 0,
              "ticks": ""
             }
            },
            "type": "scatterpolargl"
           }
          ],
          "scatterternary": [
           {
            "marker": {
             "colorbar": {
              "outlinewidth": 0,
              "ticks": ""
             }
            },
            "type": "scatterternary"
           }
          ],
          "surface": [
           {
            "colorbar": {
             "outlinewidth": 0,
             "ticks": ""
            },
            "colorscale": [
             [
              0,
              "#0d0887"
             ],
             [
              0.1111111111111111,
              "#46039f"
             ],
             [
              0.2222222222222222,
              "#7201a8"
             ],
             [
              0.3333333333333333,
              "#9c179e"
             ],
             [
              0.4444444444444444,
              "#bd3786"
             ],
             [
              0.5555555555555556,
              "#d8576b"
             ],
             [
              0.6666666666666666,
              "#ed7953"
             ],
             [
              0.7777777777777778,
              "#fb9f3a"
             ],
             [
              0.8888888888888888,
              "#fdca26"
             ],
             [
              1,
              "#f0f921"
             ]
            ],
            "type": "surface"
           }
          ],
          "table": [
           {
            "cells": {
             "fill": {
              "color": "#EBF0F8"
             },
             "line": {
              "color": "white"
             }
            },
            "header": {
             "fill": {
              "color": "#C8D4E3"
             },
             "line": {
              "color": "white"
             }
            },
            "type": "table"
           }
          ]
         },
         "layout": {
          "annotationdefaults": {
           "arrowcolor": "#2a3f5f",
           "arrowhead": 0,
           "arrowwidth": 1
          },
          "autotypenumbers": "strict",
          "coloraxis": {
           "colorbar": {
            "outlinewidth": 0,
            "ticks": ""
           }
          },
          "colorscale": {
           "diverging": [
            [
             0,
             "#8e0152"
            ],
            [
             0.1,
             "#c51b7d"
            ],
            [
             0.2,
             "#de77ae"
            ],
            [
             0.3,
             "#f1b6da"
            ],
            [
             0.4,
             "#fde0ef"
            ],
            [
             0.5,
             "#f7f7f7"
            ],
            [
             0.6,
             "#e6f5d0"
            ],
            [
             0.7,
             "#b8e186"
            ],
            [
             0.8,
             "#7fbc41"
            ],
            [
             0.9,
             "#4d9221"
            ],
            [
             1,
             "#276419"
            ]
           ],
           "sequential": [
            [
             0,
             "#0d0887"
            ],
            [
             0.1111111111111111,
             "#46039f"
            ],
            [
             0.2222222222222222,
             "#7201a8"
            ],
            [
             0.3333333333333333,
             "#9c179e"
            ],
            [
             0.4444444444444444,
             "#bd3786"
            ],
            [
             0.5555555555555556,
             "#d8576b"
            ],
            [
             0.6666666666666666,
             "#ed7953"
            ],
            [
             0.7777777777777778,
             "#fb9f3a"
            ],
            [
             0.8888888888888888,
             "#fdca26"
            ],
            [
             1,
             "#f0f921"
            ]
           ],
           "sequentialminus": [
            [
             0,
             "#0d0887"
            ],
            [
             0.1111111111111111,
             "#46039f"
            ],
            [
             0.2222222222222222,
             "#7201a8"
            ],
            [
             0.3333333333333333,
             "#9c179e"
            ],
            [
             0.4444444444444444,
             "#bd3786"
            ],
            [
             0.5555555555555556,
             "#d8576b"
            ],
            [
             0.6666666666666666,
             "#ed7953"
            ],
            [
             0.7777777777777778,
             "#fb9f3a"
            ],
            [
             0.8888888888888888,
             "#fdca26"
            ],
            [
             1,
             "#f0f921"
            ]
           ]
          },
          "colorway": [
           "#636efa",
           "#EF553B",
           "#00cc96",
           "#ab63fa",
           "#FFA15A",
           "#19d3f3",
           "#FF6692",
           "#B6E880",
           "#FF97FF",
           "#FECB52"
          ],
          "font": {
           "color": "#2a3f5f"
          },
          "geo": {
           "bgcolor": "white",
           "lakecolor": "white",
           "landcolor": "#E5ECF6",
           "showlakes": true,
           "showland": true,
           "subunitcolor": "white"
          },
          "hoverlabel": {
           "align": "left"
          },
          "hovermode": "closest",
          "mapbox": {
           "style": "light"
          },
          "paper_bgcolor": "white",
          "plot_bgcolor": "#E5ECF6",
          "polar": {
           "angularaxis": {
            "gridcolor": "white",
            "linecolor": "white",
            "ticks": ""
           },
           "bgcolor": "#E5ECF6",
           "radialaxis": {
            "gridcolor": "white",
            "linecolor": "white",
            "ticks": ""
           }
          },
          "scene": {
           "xaxis": {
            "backgroundcolor": "#E5ECF6",
            "gridcolor": "white",
            "gridwidth": 2,
            "linecolor": "white",
            "showbackground": true,
            "ticks": "",
            "zerolinecolor": "white"
           },
           "yaxis": {
            "backgroundcolor": "#E5ECF6",
            "gridcolor": "white",
            "gridwidth": 2,
            "linecolor": "white",
            "showbackground": true,
            "ticks": "",
            "zerolinecolor": "white"
           },
           "zaxis": {
            "backgroundcolor": "#E5ECF6",
            "gridcolor": "white",
            "gridwidth": 2,
            "linecolor": "white",
            "showbackground": true,
            "ticks": "",
            "zerolinecolor": "white"
           }
          },
          "shapedefaults": {
           "line": {
            "color": "#2a3f5f"
           }
          },
          "ternary": {
           "aaxis": {
            "gridcolor": "white",
            "linecolor": "white",
            "ticks": ""
           },
           "baxis": {
            "gridcolor": "white",
            "linecolor": "white",
            "ticks": ""
           },
           "bgcolor": "#E5ECF6",
           "caxis": {
            "gridcolor": "white",
            "linecolor": "white",
            "ticks": ""
           }
          },
          "title": {
           "x": 0.05
          },
          "xaxis": {
           "automargin": true,
           "gridcolor": "white",
           "linecolor": "white",
           "ticks": "",
           "title": {
            "standoff": 15
           },
           "zerolinecolor": "white",
           "zerolinewidth": 2
          },
          "yaxis": {
           "automargin": true,
           "gridcolor": "white",
           "linecolor": "white",
           "ticks": "",
           "title": {
            "standoff": 15
           },
           "zerolinecolor": "white",
           "zerolinewidth": 2
          }
         }
        }
       }
      },
      "text/html": [
       "<div>                            <div id=\"e510bf8e-066e-4540-83a9-25a2e4c22d67\" class=\"plotly-graph-div\" style=\"height:525px; width:100%;\"></div>            <script type=\"text/javascript\">                require([\"plotly\"], function(Plotly) {                    window.PLOTLYENV=window.PLOTLYENV || {};                                    if (document.getElementById(\"e510bf8e-066e-4540-83a9-25a2e4c22d67\")) {                    Plotly.newPlot(                        \"e510bf8e-066e-4540-83a9-25a2e4c22d67\",                        [{\"hovertemplate\":\"average_house_value=%{marker.size}<br>lat=%{lat}<br>lon=%{lon}<br>other_house=%{marker.color}<extra></extra>\",\"lat\":[43.73148623,43.73101314,43.6818521,43.70421756,43.69452576,43.65352043,43.7172117,43.68282043,43.75624583,43.68785887],\"legendgroup\":\"\",\"lon\":[-79.42022735,-79.37890418,-79.40800665,-79.42814316,-79.41431786,-79.5105768,-79.40603941,-79.3796694,-79.37903709,-79.39787077],\"marker\":{\"color\":[355.0,0.0,10.0,5.0,15.0,10.0,65.0,10.0,20.0,25.0],\"coloraxis\":\"coloraxis\",\"size\":[3721661.0,6105943.0,3924257.0,3406722.0,4783970.0,3372937.0,4376111.0,4374560.0,3996428.0,3252881.0],\"sizemode\":\"area\",\"sizeref\":27137.524444444443},\"mode\":\"markers\",\"name\":\"\",\"showlegend\":false,\"subplot\":\"mapbox\",\"type\":\"scattermapbox\"}],                        {\"template\":{\"data\":{\"histogram2dcontour\":[{\"type\":\"histogram2dcontour\",\"colorbar\":{\"outlinewidth\":0,\"ticks\":\"\"},\"colorscale\":[[0.0,\"#0d0887\"],[0.1111111111111111,\"#46039f\"],[0.2222222222222222,\"#7201a8\"],[0.3333333333333333,\"#9c179e\"],[0.4444444444444444,\"#bd3786\"],[0.5555555555555556,\"#d8576b\"],[0.6666666666666666,\"#ed7953\"],[0.7777777777777778,\"#fb9f3a\"],[0.8888888888888888,\"#fdca26\"],[1.0,\"#f0f921\"]]}],\"choropleth\":[{\"type\":\"choropleth\",\"colorbar\":{\"outlinewidth\":0,\"ticks\":\"\"}}],\"histogram2d\":[{\"type\":\"histogram2d\",\"colorbar\":{\"outlinewidth\":0,\"ticks\":\"\"},\"colorscale\":[[0.0,\"#0d0887\"],[0.1111111111111111,\"#46039f\"],[0.2222222222222222,\"#7201a8\"],[0.3333333333333333,\"#9c179e\"],[0.4444444444444444,\"#bd3786\"],[0.5555555555555556,\"#d8576b\"],[0.6666666666666666,\"#ed7953\"],[0.7777777777777778,\"#fb9f3a\"],[0.8888888888888888,\"#fdca26\"],[1.0,\"#f0f921\"]]}],\"heatmap\":[{\"type\":\"heatmap\",\"colorbar\":{\"outlinewidth\":0,\"ticks\":\"\"},\"colorscale\":[[0.0,\"#0d0887\"],[0.1111111111111111,\"#46039f\"],[0.2222222222222222,\"#7201a8\"],[0.3333333333333333,\"#9c179e\"],[0.4444444444444444,\"#bd3786\"],[0.5555555555555556,\"#d8576b\"],[0.6666666666666666,\"#ed7953\"],[0.7777777777777778,\"#fb9f3a\"],[0.8888888888888888,\"#fdca26\"],[1.0,\"#f0f921\"]]}],\"heatmapgl\":[{\"type\":\"heatmapgl\",\"colorbar\":{\"outlinewidth\":0,\"ticks\":\"\"},\"colorscale\":[[0.0,\"#0d0887\"],[0.1111111111111111,\"#46039f\"],[0.2222222222222222,\"#7201a8\"],[0.3333333333333333,\"#9c179e\"],[0.4444444444444444,\"#bd3786\"],[0.5555555555555556,\"#d8576b\"],[0.6666666666666666,\"#ed7953\"],[0.7777777777777778,\"#fb9f3a\"],[0.8888888888888888,\"#fdca26\"],[1.0,\"#f0f921\"]]}],\"contourcarpet\":[{\"type\":\"contourcarpet\",\"colorbar\":{\"outlinewidth\":0,\"ticks\":\"\"}}],\"contour\":[{\"type\":\"contour\",\"colorbar\":{\"outlinewidth\":0,\"ticks\":\"\"},\"colorscale\":[[0.0,\"#0d0887\"],[0.1111111111111111,\"#46039f\"],[0.2222222222222222,\"#7201a8\"],[0.3333333333333333,\"#9c179e\"],[0.4444444444444444,\"#bd3786\"],[0.5555555555555556,\"#d8576b\"],[0.6666666666666666,\"#ed7953\"],[0.7777777777777778,\"#fb9f3a\"],[0.8888888888888888,\"#fdca26\"],[1.0,\"#f0f921\"]]}],\"surface\":[{\"type\":\"surface\",\"colorbar\":{\"outlinewidth\":0,\"ticks\":\"\"},\"colorscale\":[[0.0,\"#0d0887\"],[0.1111111111111111,\"#46039f\"],[0.2222222222222222,\"#7201a8\"],[0.3333333333333333,\"#9c179e\"],[0.4444444444444444,\"#bd3786\"],[0.5555555555555556,\"#d8576b\"],[0.6666666666666666,\"#ed7953\"],[0.7777777777777778,\"#fb9f3a\"],[0.8888888888888888,\"#fdca26\"],[1.0,\"#f0f921\"]]}],\"mesh3d\":[{\"type\":\"mesh3d\",\"colorbar\":{\"outlinewidth\":0,\"ticks\":\"\"}}],\"scatter\":[{\"fillpattern\":{\"fillmode\":\"overlay\",\"size\":10,\"solidity\":0.2},\"type\":\"scatter\"}],\"parcoords\":[{\"type\":\"parcoords\",\"line\":{\"colorbar\":{\"outlinewidth\":0,\"ticks\":\"\"}}}],\"scatterpolargl\":[{\"type\":\"scatterpolargl\",\"marker\":{\"colorbar\":{\"outlinewidth\":0,\"ticks\":\"\"}}}],\"bar\":[{\"error_x\":{\"color\":\"#2a3f5f\"},\"error_y\":{\"color\":\"#2a3f5f\"},\"marker\":{\"line\":{\"color\":\"#E5ECF6\",\"width\":0.5},\"pattern\":{\"fillmode\":\"overlay\",\"size\":10,\"solidity\":0.2}},\"type\":\"bar\"}],\"scattergeo\":[{\"type\":\"scattergeo\",\"marker\":{\"colorbar\":{\"outlinewidth\":0,\"ticks\":\"\"}}}],\"scatterpolar\":[{\"type\":\"scatterpolar\",\"marker\":{\"colorbar\":{\"outlinewidth\":0,\"ticks\":\"\"}}}],\"histogram\":[{\"marker\":{\"pattern\":{\"fillmode\":\"overlay\",\"size\":10,\"solidity\":0.2}},\"type\":\"histogram\"}],\"scattergl\":[{\"type\":\"scattergl\",\"marker\":{\"colorbar\":{\"outlinewidth\":0,\"ticks\":\"\"}}}],\"scatter3d\":[{\"type\":\"scatter3d\",\"line\":{\"colorbar\":{\"outlinewidth\":0,\"ticks\":\"\"}},\"marker\":{\"colorbar\":{\"outlinewidth\":0,\"ticks\":\"\"}}}],\"scattermapbox\":[{\"type\":\"scattermapbox\",\"marker\":{\"colorbar\":{\"outlinewidth\":0,\"ticks\":\"\"}}}],\"scatterternary\":[{\"type\":\"scatterternary\",\"marker\":{\"colorbar\":{\"outlinewidth\":0,\"ticks\":\"\"}}}],\"scattercarpet\":[{\"type\":\"scattercarpet\",\"marker\":{\"colorbar\":{\"outlinewidth\":0,\"ticks\":\"\"}}}],\"carpet\":[{\"aaxis\":{\"endlinecolor\":\"#2a3f5f\",\"gridcolor\":\"white\",\"linecolor\":\"white\",\"minorgridcolor\":\"white\",\"startlinecolor\":\"#2a3f5f\"},\"baxis\":{\"endlinecolor\":\"#2a3f5f\",\"gridcolor\":\"white\",\"linecolor\":\"white\",\"minorgridcolor\":\"white\",\"startlinecolor\":\"#2a3f5f\"},\"type\":\"carpet\"}],\"table\":[{\"cells\":{\"fill\":{\"color\":\"#EBF0F8\"},\"line\":{\"color\":\"white\"}},\"header\":{\"fill\":{\"color\":\"#C8D4E3\"},\"line\":{\"color\":\"white\"}},\"type\":\"table\"}],\"barpolar\":[{\"marker\":{\"line\":{\"color\":\"#E5ECF6\",\"width\":0.5},\"pattern\":{\"fillmode\":\"overlay\",\"size\":10,\"solidity\":0.2}},\"type\":\"barpolar\"}],\"pie\":[{\"automargin\":true,\"type\":\"pie\"}]},\"layout\":{\"autotypenumbers\":\"strict\",\"colorway\":[\"#636efa\",\"#EF553B\",\"#00cc96\",\"#ab63fa\",\"#FFA15A\",\"#19d3f3\",\"#FF6692\",\"#B6E880\",\"#FF97FF\",\"#FECB52\"],\"font\":{\"color\":\"#2a3f5f\"},\"hovermode\":\"closest\",\"hoverlabel\":{\"align\":\"left\"},\"paper_bgcolor\":\"white\",\"plot_bgcolor\":\"#E5ECF6\",\"polar\":{\"bgcolor\":\"#E5ECF6\",\"angularaxis\":{\"gridcolor\":\"white\",\"linecolor\":\"white\",\"ticks\":\"\"},\"radialaxis\":{\"gridcolor\":\"white\",\"linecolor\":\"white\",\"ticks\":\"\"}},\"ternary\":{\"bgcolor\":\"#E5ECF6\",\"aaxis\":{\"gridcolor\":\"white\",\"linecolor\":\"white\",\"ticks\":\"\"},\"baxis\":{\"gridcolor\":\"white\",\"linecolor\":\"white\",\"ticks\":\"\"},\"caxis\":{\"gridcolor\":\"white\",\"linecolor\":\"white\",\"ticks\":\"\"}},\"coloraxis\":{\"colorbar\":{\"outlinewidth\":0,\"ticks\":\"\"}},\"colorscale\":{\"sequential\":[[0.0,\"#0d0887\"],[0.1111111111111111,\"#46039f\"],[0.2222222222222222,\"#7201a8\"],[0.3333333333333333,\"#9c179e\"],[0.4444444444444444,\"#bd3786\"],[0.5555555555555556,\"#d8576b\"],[0.6666666666666666,\"#ed7953\"],[0.7777777777777778,\"#fb9f3a\"],[0.8888888888888888,\"#fdca26\"],[1.0,\"#f0f921\"]],\"sequentialminus\":[[0.0,\"#0d0887\"],[0.1111111111111111,\"#46039f\"],[0.2222222222222222,\"#7201a8\"],[0.3333333333333333,\"#9c179e\"],[0.4444444444444444,\"#bd3786\"],[0.5555555555555556,\"#d8576b\"],[0.6666666666666666,\"#ed7953\"],[0.7777777777777778,\"#fb9f3a\"],[0.8888888888888888,\"#fdca26\"],[1.0,\"#f0f921\"]],\"diverging\":[[0,\"#8e0152\"],[0.1,\"#c51b7d\"],[0.2,\"#de77ae\"],[0.3,\"#f1b6da\"],[0.4,\"#fde0ef\"],[0.5,\"#f7f7f7\"],[0.6,\"#e6f5d0\"],[0.7,\"#b8e186\"],[0.8,\"#7fbc41\"],[0.9,\"#4d9221\"],[1,\"#276419\"]]},\"xaxis\":{\"gridcolor\":\"white\",\"linecolor\":\"white\",\"ticks\":\"\",\"title\":{\"standoff\":15},\"zerolinecolor\":\"white\",\"automargin\":true,\"zerolinewidth\":2},\"yaxis\":{\"gridcolor\":\"white\",\"linecolor\":\"white\",\"ticks\":\"\",\"title\":{\"standoff\":15},\"zerolinecolor\":\"white\",\"automargin\":true,\"zerolinewidth\":2},\"scene\":{\"xaxis\":{\"backgroundcolor\":\"#E5ECF6\",\"gridcolor\":\"white\",\"linecolor\":\"white\",\"showbackground\":true,\"ticks\":\"\",\"zerolinecolor\":\"white\",\"gridwidth\":2},\"yaxis\":{\"backgroundcolor\":\"#E5ECF6\",\"gridcolor\":\"white\",\"linecolor\":\"white\",\"showbackground\":true,\"ticks\":\"\",\"zerolinecolor\":\"white\",\"gridwidth\":2},\"zaxis\":{\"backgroundcolor\":\"#E5ECF6\",\"gridcolor\":\"white\",\"linecolor\":\"white\",\"showbackground\":true,\"ticks\":\"\",\"zerolinecolor\":\"white\",\"gridwidth\":2}},\"shapedefaults\":{\"line\":{\"color\":\"#2a3f5f\"}},\"annotationdefaults\":{\"arrowcolor\":\"#2a3f5f\",\"arrowhead\":0,\"arrowwidth\":1},\"geo\":{\"bgcolor\":\"white\",\"landcolor\":\"#E5ECF6\",\"subunitcolor\":\"white\",\"showland\":true,\"showlakes\":true,\"lakecolor\":\"white\"},\"title\":{\"x\":0.05},\"mapbox\":{\"style\":\"light\"}}},\"mapbox\":{\"domain\":{\"x\":[0.0,1.0],\"y\":[0.0,1.0]},\"center\":{\"lat\":43.704075205,\"lon\":-79.41227926699999},\"zoom\":11},\"coloraxis\":{\"colorbar\":{\"title\":{\"text\":\"other_house\"}},\"colorscale\":[[0.0,\"#000000\"],[0.0625,\"#001f4d\"],[0.125,\"#003786\"],[0.1875,\"#0e58a8\"],[0.25,\"#217eb8\"],[0.3125,\"#30a4ca\"],[0.375,\"#54c8df\"],[0.4375,\"#9be4ef\"],[0.5,\"#e1e9d1\"],[0.5625,\"#f3d573\"],[0.625,\"#e7b000\"],[0.6875,\"#da8200\"],[0.75,\"#c65400\"],[0.8125,\"#ac2301\"],[0.875,\"#820000\"],[0.9375,\"#4c0000\"],[1.0,\"#000000\"]]},\"legend\":{\"tracegroupgap\":0,\"itemsizing\":\"constant\"},\"margin\":{\"t\":60}},                        {\"responsive\": true}                    ).then(function(){\n",
       "                            \n",
       "var gd = document.getElementById('e510bf8e-066e-4540-83a9-25a2e4c22d67');\n",
       "var x = new MutationObserver(function (mutations, observer) {{\n",
       "        var display = window.getComputedStyle(gd).display;\n",
       "        if (!display || display === 'none') {{\n",
       "            console.log([gd, 'removed!']);\n",
       "            Plotly.purge(gd);\n",
       "            observer.disconnect();\n",
       "        }}\n",
       "}});\n",
       "\n",
       "// Listen for the removal of the full notebook cells\n",
       "var notebookContainer = gd.closest('#notebook-container');\n",
       "if (notebookContainer) {{\n",
       "    x.observe(notebookContainer, {childList: true});\n",
       "}}\n",
       "\n",
       "// Listen for the clearing of the current output cell\n",
       "var outputEl = gd.closest('.output');\n",
       "if (outputEl) {{\n",
       "    x.observe(outputEl, {childList: true});\n",
       "}}\n",
       "\n",
       "                        })                };                });            </script>        </div>"
      ]
     },
     "metadata": {},
     "output_type": "display_data"
    }
   ],
   "source": [
    "# Create a scatter mapbox to analyze neighbourhood info\n",
    " # Plot Data\n",
    "\n",
    "map = px.scatter_mapbox(\n",
    "    average_value_neighbourhood_locations,\n",
    "    lat=\"lat\",\n",
    "    lon=\"lon\",\n",
    "    size=\"average_house_value\",\n",
    "    color=\"other_house\",\n",
    "    color_continuous_scale=px.colors.cyclical.IceFire,\n",
    "    size_max=15,\n",
    "    zoom=11\n",
    ")\n",
    "map.show()\n",
    "    \n",
    "\n"
   ]
  },
  {
   "cell_type": "markdown",
   "metadata": {},
   "source": [
    "- - -"
   ]
  },
  {
   "cell_type": "markdown",
   "metadata": {},
   "source": [
    "## Cost Analysis - Optional Challenge\n",
    "\n",
    "In this section, you will use Plotly express to a couple of plots that investors can interactively filter and explore various factors related to the house value of the Toronto's neighbourhoods. \n",
    "\n",
    "### Create a bar chart row facet to plot the average house values for all Toronto's neighbourhoods per year"
   ]
  },
  {
   "cell_type": "code",
   "execution_count": 23,
   "metadata": {},
   "outputs": [
    {
     "data": {
      "application/vnd.plotly.v1+json": {
       "config": {
        "plotlyServerURL": "https://plotly.com"
       },
       "data": [
        {
         "alignmentgroup": "True",
         "hovertemplate": "year=2001<br>Neighbourhoods=%{x}<br>Avg. House Value=%{marker.color}<extra></extra>",
         "legendgroup": "",
         "marker": {
          "color": [
           200388,
           203047,
           259998,
           453850,
           371864,
           304749,
           257404,
           327644,
           343535,
           565304,
           225369,
           182957,
           265705,
           158483,
           310740,
           222086,
           927466,
           269386,
           213227,
           300213,
           219771,
           596077,
           249025,
           246750,
           215421,
           335119,
           253618,
           255142,
           283706,
           256205,
           241824,
           159187,
           264116,
           231741,
           278023,
           290457,
           483734,
           163419,
           163039,
           345676,
           241685,
           187993,
           126255,
           517466,
           726664,
           199043,
           235168,
           224425,
           224780,
           323536,
           354207,
           260555,
           240009,
           272896,
           213919,
           194295,
           423537,
           174793,
           274436,
           263247,
           196112,
           174518,
           267631,
           205572,
           512334,
           395115,
           204523,
           372579,
           461393,
           664712,
           489998,
           328211,
           234424,
           156076,
           275374,
           269751,
           209609,
           239078,
           173169,
           248778,
           159374,
           153829,
           411558,
           284459,
           247779,
           339987,
           279833,
           224801,
           427169,
           249993,
           181251,
           256556,
           268067,
           269410,
           378033,
           276239,
           246333,
           394235,
           226856,
           465254,
           238524,
           219337,
           210017,
           309221,
           664476,
           228625,
           335435,
           261923,
           200402,
           271880,
           276462,
           607040,
           228460,
           334433,
           215039,
           145464,
           404836,
           228368,
           155094,
           324732,
           375678,
           213950,
           228975,
           172947,
           208555,
           212241,
           187140,
           213749,
           211633,
           284984,
           283215,
           282087,
           181367,
           270607,
           224756,
           343877,
           491987,
           494098,
           185859,
           261784
          ],
          "coloraxis": "coloraxis"
         },
         "name": "",
         "offsetgroup": "",
         "orientation": "v",
         "showlegend": false,
         "textposition": "auto",
         "type": "bar",
         "x": [
          "Agincourt North",
          "Agincourt South-Malvern West",
          "Alderwood",
          "Annex",
          "Banbury-Don Mills",
          "Bathurst Manor",
          "Bay Street Corridor",
          "Bayview Village",
          "Bayview Woods-Steeles",
          "Bedford Park-Nortown",
          "Beechborough-Greenbrook",
          "Bendale",
          "Birchcliffe-Cliffside",
          "Black Creek",
          "Blake-Jones",
          "Briar Hill-Belgravia",
          "Bridle Path-Sunnybrook-York Mills",
          "Broadview North",
          "Brookhaven-Amesbury",
          "Cabbagetown-South St.James Town",
          "Caledonia-Fairbank",
          "Casa Loma",
          "Centennial Scarborough",
          "Church-Yonge Corridor",
          "Clairlea-Birchmount",
          "Clanton Park",
          "Cliffcrest",
          "Corso Italia-Davenport",
          "Danforth",
          "Danforth-East York",
          "Don Valley Village",
          "Dorset Park",
          "Dovercourt-Wallace Emerson-Juncti",
          "Downsview-Roding-CFB",
          "Dufferin Grove",
          "East End-Danforth",
          "Edenbridge-Humber Valley",
          "Eglinton East",
          "Elms-Old Rexdale",
          "Englemount-Lawrence",
          "Eringate-Centennial-West Deane",
          "Etobicoke West Mall",
          "Flemingdon Park",
          "Forest Hill North",
          "Forest Hill South",
          "Glenfield-Jane Heights",
          "Greenwood-Coxwell",
          "Guildwood",
          "Henry Farm",
          "High Park North",
          "High Park-Swansea",
          "Highland Creek",
          "Hillcrest Village",
          "Humber Heights-Westmount",
          "Humber Summit",
          "Humbermede",
          "Humewood-Cedarvale",
          "Ionview",
          "Islington-City Centre West",
          "Junction Area",
          "Keelesdale-Eglinton West",
          "Kennedy Park",
          "Kensington-Chinatown",
          "Kingsview Village-The Westway",
          "Kingsway South",
          "L'Amoreaux",
          "Lambton Baby Point",
          "Lansing-Westgate",
          "Lawrence Park North",
          "Lawrence Park South",
          "Leaside-Bennington",
          "Little Portugal",
          "Long Branch",
          "Malvern",
          "Maple Leaf",
          "Markland Wood",
          "Milliken",
          "Mimico",
          "Morningside",
          "Moss Park",
          "Mount Dennis",
          "Mount Olive-Silverstone-Jamestown",
          "Mount Pleasant East",
          "Mount Pleasant West",
          "New Toronto",
          "Newtonbrook East",
          "Newtonbrook West",
          "Niagara",
          "North Riverdale",
          "North St.James Town",
          "O'Connor-Parkview",
          "Oakridge",
          "Oakwood Village",
          "Old East York",
          "Palmerston-Little Italy",
          "Parkwoods-Donalda",
          "Pelmo Park-Humberlea",
          "Playter Estates-Danforth",
          "Pleasant View",
          "Princess-Rosethorn",
          "Regent Park",
          "Rexdale-Kipling",
          "Rockcliffe-Smythe",
          "Roncesvalles",
          "Rosedale-Moore Park",
          "Rouge",
          "Runnymede-Bloor West Village",
          "Rustic",
          "Scarborough Village",
          "South Parkdale",
          "South Riverdale",
          "St.Andrew-Windfields",
          "Steeles",
          "Stonegate-Queensway",
          "Tam O'Shanter-Sullivan",
          "Taylor-Massey",
          "The Beaches",
          "Thistletown-Beaumond Heights",
          "Thorncliffe Park",
          "Trinity-Bellwoods",
          "University",
          "Victoria Village",
          "Waterfront Communities-The Island",
          "West Hill",
          "West Humber-Clairville",
          "Westminster-Branson",
          "Weston",
          "Weston-Pellam Park",
          "Wexford/Maryvale",
          "Willowdale East",
          "Willowdale West",
          "Willowridge-Martingrove-Richview",
          "Woburn",
          "Woodbine Corridor",
          "Woodbine-Lumsden",
          "Wychwood",
          "Yonge-Eglinton",
          "Yonge-St.Clair",
          "York University Heights",
          "Yorkdale-Glen Park"
         ],
         "xaxis": "x4",
         "y": [
          200388,
          203047,
          259998,
          453850,
          371864,
          304749,
          257404,
          327644,
          343535,
          565304,
          225369,
          182957,
          265705,
          158483,
          310740,
          222086,
          927466,
          269386,
          213227,
          300213,
          219771,
          596077,
          249025,
          246750,
          215421,
          335119,
          253618,
          255142,
          283706,
          256205,
          241824,
          159187,
          264116,
          231741,
          278023,
          290457,
          483734,
          163419,
          163039,
          345676,
          241685,
          187993,
          126255,
          517466,
          726664,
          199043,
          235168,
          224425,
          224780,
          323536,
          354207,
          260555,
          240009,
          272896,
          213919,
          194295,
          423537,
          174793,
          274436,
          263247,
          196112,
          174518,
          267631,
          205572,
          512334,
          395115,
          204523,
          372579,
          461393,
          664712,
          489998,
          328211,
          234424,
          156076,
          275374,
          269751,
          209609,
          239078,
          173169,
          248778,
          159374,
          153829,
          411558,
          284459,
          247779,
          339987,
          279833,
          224801,
          427169,
          249993,
          181251,
          256556,
          268067,
          269410,
          378033,
          276239,
          246333,
          394235,
          226856,
          465254,
          238524,
          219337,
          210017,
          309221,
          664476,
          228625,
          335435,
          261923,
          200402,
          271880,
          276462,
          607040,
          228460,
          334433,
          215039,
          145464,
          404836,
          228368,
          155094,
          324732,
          375678,
          213950,
          228975,
          172947,
          208555,
          212241,
          187140,
          213749,
          211633,
          284984,
          283215,
          282087,
          181367,
          270607,
          224756,
          343877,
          491987,
          494098,
          185859,
          261784
         ],
         "yaxis": "y4"
        },
        {
         "alignmentgroup": "True",
         "hovertemplate": "year=2006<br>Neighbourhoods=%{x}<br>Avg. House Value=%{marker.color}<extra></extra>",
         "legendgroup": "",
         "marker": {
          "color": [
           293140,
           297031,
           380342,
           663921,
           543987,
           445807,
           376548,
           479299,
           502546,
           826963,
           329685,
           267642,
           388690,
           231839,
           454571,
           324882,
           1356757,
           394075,
           311922,
           439171,
           321496,
           871981,
           364291,
           360962,
           315133,
           490234,
           371009,
           373239,
           415024,
           374793,
           353756,
           232869,
           386366,
           339006,
           406710,
           424900,
           707638,
           239060,
           238505,
           505677,
           353553,
           275009,
           184694,
           756983,
           1063011,
           291172,
           344019,
           328303,
           328823,
           473289,
           518157,
           381156,
           351101,
           399210,
           312935,
           284227,
           619577,
           255698,
           401463,
           385094,
           286886,
           255296,
           391509,
           300725,
           749476,
           578001,
           299190,
           545034,
           674957,
           972384,
           716801,
           480129,
           342930,
           228318,
           402835,
           394610,
           306629,
           349739,
           253323,
           363929,
           233143,
           225031,
           602054,
           416125,
           362468,
           497355,
           409358,
           328854,
           624890,
           365706,
           265146,
           375307,
           392146,
           394111,
           553011,
           404100,
           360352,
           576713,
           331860,
           680604,
           348928,
           320860,
           307227,
           452349,
           972039,
           334448,
           490697,
           383158,
           293162,
           397724,
           404427,
           888017,
           334206,
           489230,
           314574,
           212794,
           592220,
           334072,
           226882,
           475039,
           549567,
           312980,
           334960,
           252998,
           305088,
           310480,
           273761,
           312685,
           309590,
           416893,
           414306,
           412655,
           265315,
           395861,
           328788,
           503046,
           719711,
           722799,
           271887,
           382954
          ],
          "coloraxis": "coloraxis"
         },
         "name": "",
         "offsetgroup": "",
         "orientation": "v",
         "showlegend": false,
         "textposition": "auto",
         "type": "bar",
         "x": [
          "Agincourt North",
          "Agincourt South-Malvern West",
          "Alderwood",
          "Annex",
          "Banbury-Don Mills",
          "Bathurst Manor",
          "Bay Street Corridor",
          "Bayview Village",
          "Bayview Woods-Steeles",
          "Bedford Park-Nortown",
          "Beechborough-Greenbrook",
          "Bendale",
          "Birchcliffe-Cliffside",
          "Black Creek",
          "Blake-Jones",
          "Briar Hill-Belgravia",
          "Bridle Path-Sunnybrook-York Mills",
          "Broadview North",
          "Brookhaven-Amesbury",
          "Cabbagetown-South St.James Town",
          "Caledonia-Fairbank",
          "Casa Loma",
          "Centennial Scarborough",
          "Church-Yonge Corridor",
          "Clairlea-Birchmount",
          "Clanton Park",
          "Cliffcrest",
          "Corso Italia-Davenport",
          "Danforth",
          "Danforth-East York",
          "Don Valley Village",
          "Dorset Park",
          "Dovercourt-Wallace Emerson-Juncti",
          "Downsview-Roding-CFB",
          "Dufferin Grove",
          "East End-Danforth",
          "Edenbridge-Humber Valley",
          "Eglinton East",
          "Elms-Old Rexdale",
          "Englemount-Lawrence",
          "Eringate-Centennial-West Deane",
          "Etobicoke West Mall",
          "Flemingdon Park",
          "Forest Hill North",
          "Forest Hill South",
          "Glenfield-Jane Heights",
          "Greenwood-Coxwell",
          "Guildwood",
          "Henry Farm",
          "High Park North",
          "High Park-Swansea",
          "Highland Creek",
          "Hillcrest Village",
          "Humber Heights-Westmount",
          "Humber Summit",
          "Humbermede",
          "Humewood-Cedarvale",
          "Ionview",
          "Islington-City Centre West",
          "Junction Area",
          "Keelesdale-Eglinton West",
          "Kennedy Park",
          "Kensington-Chinatown",
          "Kingsview Village-The Westway",
          "Kingsway South",
          "L'Amoreaux",
          "Lambton Baby Point",
          "Lansing-Westgate",
          "Lawrence Park North",
          "Lawrence Park South",
          "Leaside-Bennington",
          "Little Portugal",
          "Long Branch",
          "Malvern",
          "Maple Leaf",
          "Markland Wood",
          "Milliken",
          "Mimico",
          "Morningside",
          "Moss Park",
          "Mount Dennis",
          "Mount Olive-Silverstone-Jamestown",
          "Mount Pleasant East",
          "Mount Pleasant West",
          "New Toronto",
          "Newtonbrook East",
          "Newtonbrook West",
          "Niagara",
          "North Riverdale",
          "North St.James Town",
          "O'Connor-Parkview",
          "Oakridge",
          "Oakwood Village",
          "Old East York",
          "Palmerston-Little Italy",
          "Parkwoods-Donalda",
          "Pelmo Park-Humberlea",
          "Playter Estates-Danforth",
          "Pleasant View",
          "Princess-Rosethorn",
          "Regent Park",
          "Rexdale-Kipling",
          "Rockcliffe-Smythe",
          "Roncesvalles",
          "Rosedale-Moore Park",
          "Rouge",
          "Runnymede-Bloor West Village",
          "Rustic",
          "Scarborough Village",
          "South Parkdale",
          "South Riverdale",
          "St.Andrew-Windfields",
          "Steeles",
          "Stonegate-Queensway",
          "Tam O'Shanter-Sullivan",
          "Taylor-Massey",
          "The Beaches",
          "Thistletown-Beaumond Heights",
          "Thorncliffe Park",
          "Trinity-Bellwoods",
          "University",
          "Victoria Village",
          "Waterfront Communities-The Island",
          "West Hill",
          "West Humber-Clairville",
          "Westminster-Branson",
          "Weston",
          "Weston-Pellam Park",
          "Wexford/Maryvale",
          "Willowdale East",
          "Willowdale West",
          "Willowridge-Martingrove-Richview",
          "Woburn",
          "Woodbine Corridor",
          "Woodbine-Lumsden",
          "Wychwood",
          "Yonge-Eglinton",
          "Yonge-St.Clair",
          "York University Heights",
          "Yorkdale-Glen Park"
         ],
         "xaxis": "x3",
         "y": [
          293140,
          297031,
          380342,
          663921,
          543987,
          445807,
          376548,
          479299,
          502546,
          826963,
          329685,
          267642,
          388690,
          231839,
          454571,
          324882,
          1356757,
          394075,
          311922,
          439171,
          321496,
          871981,
          364291,
          360962,
          315133,
          490234,
          371009,
          373239,
          415024,
          374793,
          353756,
          232869,
          386366,
          339006,
          406710,
          424900,
          707638,
          239060,
          238505,
          505677,
          353553,
          275009,
          184694,
          756983,
          1063011,
          291172,
          344019,
          328303,
          328823,
          473289,
          518157,
          381156,
          351101,
          399210,
          312935,
          284227,
          619577,
          255698,
          401463,
          385094,
          286886,
          255296,
          391509,
          300725,
          749476,
          578001,
          299190,
          545034,
          674957,
          972384,
          716801,
          480129,
          342930,
          228318,
          402835,
          394610,
          306629,
          349739,
          253323,
          363929,
          233143,
          225031,
          602054,
          416125,
          362468,
          497355,
          409358,
          328854,
          624890,
          365706,
          265146,
          375307,
          392146,
          394111,
          553011,
          404100,
          360352,
          576713,
          331860,
          680604,
          348928,
          320860,
          307227,
          452349,
          972039,
          334448,
          490697,
          383158,
          293162,
          397724,
          404427,
          888017,
          334206,
          489230,
          314574,
          212794,
          592220,
          334072,
          226882,
          475039,
          549567,
          312980,
          334960,
          252998,
          305088,
          310480,
          273761,
          312685,
          309590,
          416893,
          414306,
          412655,
          265315,
          395861,
          328788,
          503046,
          719711,
          722799,
          271887,
          382954
         ],
         "yaxis": "y3"
        },
        {
         "alignmentgroup": "True",
         "hovertemplate": "year=2011<br>Neighbourhoods=%{x}<br>Avg. House Value=%{marker.color}<extra></extra>",
         "legendgroup": "",
         "marker": {
          "color": [
           366667,
           371534,
           475742,
           830450,
           680433,
           557627,
           470996,
           599520,
           628597,
           1034387,
           412378,
           334773,
           486184,
           289990,
           568589,
           406371,
           1697067,
           492919,
           390160,
           549326,
           402135,
           1090696,
           455664,
           451500,
           394176,
           613197,
           464068,
           466857,
           519123,
           468801,
           442487,
           291278,
           483276,
           424038,
           508723,
           531476,
           885132,
           299023,
           298328,
           632514,
           442233,
           343988,
           231020,
           946854,
           1329642,
           364206,
           430308,
           410650,
           411300,
           592002,
           648124,
           476760,
           439166,
           499342,
           391427,
           355519,
           774983,
           319834,
           502160,
           481686,
           358844,
           319331,
           489709,
           376154,
           937464,
           722978,
           374234,
           681742,
           844253,
           1216283,
           896593,
           600558,
           428946,
           285586,
           503876,
           493588,
           383540,
           437462,
           316863,
           455212,
           291621,
           281475,
           753065,
           520500,
           453384,
           622104,
           512036,
           411339,
           781629,
           457435,
           331652,
           469444,
           490506,
           492964,
           691720,
           505459,
           450737,
           721368,
           415099,
           851317,
           436448,
           401340,
           384287,
           565810,
           1215852,
           418336,
           613776,
           479264,
           366694,
           497483,
           505868,
           1110755,
           418033,
           611942,
           393477,
           266168,
           740764,
           417866,
           283790,
           594191,
           687412,
           391483,
           418977,
           316456,
           381612,
           388356,
           342427,
           391115,
           387243,
           521460,
           518224,
           516160,
           331863,
           495153,
           411256,
           629223,
           900233,
           904096,
           340083,
           479009
          ],
          "coloraxis": "coloraxis"
         },
         "name": "",
         "offsetgroup": "",
         "orientation": "v",
         "showlegend": false,
         "textposition": "auto",
         "type": "bar",
         "x": [
          "Agincourt North",
          "Agincourt South-Malvern West",
          "Alderwood",
          "Annex",
          "Banbury-Don Mills",
          "Bathurst Manor",
          "Bay Street Corridor",
          "Bayview Village",
          "Bayview Woods-Steeles",
          "Bedford Park-Nortown",
          "Beechborough-Greenbrook",
          "Bendale",
          "Birchcliffe-Cliffside",
          "Black Creek",
          "Blake-Jones",
          "Briar Hill-Belgravia",
          "Bridle Path-Sunnybrook-York Mills",
          "Broadview North",
          "Brookhaven-Amesbury",
          "Cabbagetown-South St.James Town",
          "Caledonia-Fairbank",
          "Casa Loma",
          "Centennial Scarborough",
          "Church-Yonge Corridor",
          "Clairlea-Birchmount",
          "Clanton Park",
          "Cliffcrest",
          "Corso Italia-Davenport",
          "Danforth",
          "Danforth-East York",
          "Don Valley Village",
          "Dorset Park",
          "Dovercourt-Wallace Emerson-Juncti",
          "Downsview-Roding-CFB",
          "Dufferin Grove",
          "East End-Danforth",
          "Edenbridge-Humber Valley",
          "Eglinton East",
          "Elms-Old Rexdale",
          "Englemount-Lawrence",
          "Eringate-Centennial-West Deane",
          "Etobicoke West Mall",
          "Flemingdon Park",
          "Forest Hill North",
          "Forest Hill South",
          "Glenfield-Jane Heights",
          "Greenwood-Coxwell",
          "Guildwood",
          "Henry Farm",
          "High Park North",
          "High Park-Swansea",
          "Highland Creek",
          "Hillcrest Village",
          "Humber Heights-Westmount",
          "Humber Summit",
          "Humbermede",
          "Humewood-Cedarvale",
          "Ionview",
          "Islington-City Centre West",
          "Junction Area",
          "Keelesdale-Eglinton West",
          "Kennedy Park",
          "Kensington-Chinatown",
          "Kingsview Village-The Westway",
          "Kingsway South",
          "L'Amoreaux",
          "Lambton Baby Point",
          "Lansing-Westgate",
          "Lawrence Park North",
          "Lawrence Park South",
          "Leaside-Bennington",
          "Little Portugal",
          "Long Branch",
          "Malvern",
          "Maple Leaf",
          "Markland Wood",
          "Milliken",
          "Mimico",
          "Morningside",
          "Moss Park",
          "Mount Dennis",
          "Mount Olive-Silverstone-Jamestown",
          "Mount Pleasant East",
          "Mount Pleasant West",
          "New Toronto",
          "Newtonbrook East",
          "Newtonbrook West",
          "Niagara",
          "North Riverdale",
          "North St.James Town",
          "O'Connor-Parkview",
          "Oakridge",
          "Oakwood Village",
          "Old East York",
          "Palmerston-Little Italy",
          "Parkwoods-Donalda",
          "Pelmo Park-Humberlea",
          "Playter Estates-Danforth",
          "Pleasant View",
          "Princess-Rosethorn",
          "Regent Park",
          "Rexdale-Kipling",
          "Rockcliffe-Smythe",
          "Roncesvalles",
          "Rosedale-Moore Park",
          "Rouge",
          "Runnymede-Bloor West Village",
          "Rustic",
          "Scarborough Village",
          "South Parkdale",
          "South Riverdale",
          "St.Andrew-Windfields",
          "Steeles",
          "Stonegate-Queensway",
          "Tam O'Shanter-Sullivan",
          "Taylor-Massey",
          "The Beaches",
          "Thistletown-Beaumond Heights",
          "Thorncliffe Park",
          "Trinity-Bellwoods",
          "University",
          "Victoria Village",
          "Waterfront Communities-The Island",
          "West Hill",
          "West Humber-Clairville",
          "Westminster-Branson",
          "Weston",
          "Weston-Pellam Park",
          "Wexford/Maryvale",
          "Willowdale East",
          "Willowdale West",
          "Willowridge-Martingrove-Richview",
          "Woburn",
          "Woodbine Corridor",
          "Woodbine-Lumsden",
          "Wychwood",
          "Yonge-Eglinton",
          "Yonge-St.Clair",
          "York University Heights",
          "Yorkdale-Glen Park"
         ],
         "xaxis": "x2",
         "y": [
          366667,
          371534,
          475742,
          830450,
          680433,
          557627,
          470996,
          599520,
          628597,
          1034387,
          412378,
          334773,
          486184,
          289990,
          568589,
          406371,
          1697067,
          492919,
          390160,
          549326,
          402135,
          1090696,
          455664,
          451500,
          394176,
          613197,
          464068,
          466857,
          519123,
          468801,
          442487,
          291278,
          483276,
          424038,
          508723,
          531476,
          885132,
          299023,
          298328,
          632514,
          442233,
          343988,
          231020,
          946854,
          1329642,
          364206,
          430308,
          410650,
          411300,
          592002,
          648124,
          476760,
          439166,
          499342,
          391427,
          355519,
          774983,
          319834,
          502160,
          481686,
          358844,
          319331,
          489709,
          376154,
          937464,
          722978,
          374234,
          681742,
          844253,
          1216283,
          896593,
          600558,
          428946,
          285586,
          503876,
          493588,
          383540,
          437462,
          316863,
          455212,
          291621,
          281475,
          753065,
          520500,
          453384,
          622104,
          512036,
          411339,
          781629,
          457435,
          331652,
          469444,
          490506,
          492964,
          691720,
          505459,
          450737,
          721368,
          415099,
          851317,
          436448,
          401340,
          384287,
          565810,
          1215852,
          418336,
          613776,
          479264,
          366694,
          497483,
          505868,
          1110755,
          418033,
          611942,
          393477,
          266168,
          740764,
          417866,
          283790,
          594191,
          687412,
          391483,
          418977,
          316456,
          381612,
          388356,
          342427,
          391115,
          387243,
          521460,
          518224,
          516160,
          331863,
          495153,
          411256,
          629223,
          900233,
          904096,
          340083,
          479009
         ],
         "yaxis": "y2"
        },
        {
         "alignmentgroup": "True",
         "hovertemplate": "year=2016<br>Neighbourhoods=%{x}<br>Avg. House Value=%{marker.color}<extra></extra>",
         "legendgroup": "",
         "marker": {
          "color": [
           459051,
           465144,
           595608,
           1039687,
           851872,
           698124,
           589666,
           750572,
           786976,
           1295007,
           516279,
           419121,
           608681,
           363055,
           711848,
           508759,
           2124653,
           617113,
           488463,
           687732,
           503455,
           1365503,
           570471,
           565258,
           493491,
           767695,
           580993,
           584484,
           649919,
           586918,
           553974,
           364667,
           605040,
           530877,
           636899,
           665384,
           1108146,
           374364,
           373493,
           791880,
           553656,
           430658,
           289227,
           1185419,
           1664653,
           455970,
           538727,
           514116,
           514929,
           741161,
           811423,
           596883,
           549816,
           625154,
           490049,
           445094,
           970245,
           400418,
           628682,
           603050,
           449257,
           399789,
           613094,
           470928,
           1173663,
           905137,
           468524,
           853511,
           1056967,
           1522732,
           1122495,
           751872,
           537021,
           357541,
           630831,
           617950,
           480175,
           547683,
           396699,
           569905,
           365097,
           352394,
           942804,
           651643,
           567617,
           778847,
           641047,
           514978,
           978565,
           572689,
           415214,
           587723,
           614092,
           617169,
           866003,
           632812,
           564303,
           903121,
           519686,
           1065811,
           546413,
           502460,
           481110,
           708369,
           1522193,
           523738,
           768420,
           600017,
           459085,
           622827,
           633325,
           1390616,
           523359,
           766124,
           492616,
           333230,
           927404,
           523150,
           355293,
           743901,
           860610,
           490119,
           524540,
           396189,
           477762,
           486204,
           428703,
           489659,
           484811,
           652845,
           648794,
           646210,
           415478,
           619910,
           514874,
           787760,
           1127052,
           1131888,
           425769,
           599698
          ],
          "coloraxis": "coloraxis"
         },
         "name": "",
         "offsetgroup": "",
         "orientation": "v",
         "showlegend": false,
         "textposition": "auto",
         "type": "bar",
         "x": [
          "Agincourt North",
          "Agincourt South-Malvern West",
          "Alderwood",
          "Annex",
          "Banbury-Don Mills",
          "Bathurst Manor",
          "Bay Street Corridor",
          "Bayview Village",
          "Bayview Woods-Steeles",
          "Bedford Park-Nortown",
          "Beechborough-Greenbrook",
          "Bendale",
          "Birchcliffe-Cliffside",
          "Black Creek",
          "Blake-Jones",
          "Briar Hill-Belgravia",
          "Bridle Path-Sunnybrook-York Mills",
          "Broadview North",
          "Brookhaven-Amesbury",
          "Cabbagetown-South St.James Town",
          "Caledonia-Fairbank",
          "Casa Loma",
          "Centennial Scarborough",
          "Church-Yonge Corridor",
          "Clairlea-Birchmount",
          "Clanton Park",
          "Cliffcrest",
          "Corso Italia-Davenport",
          "Danforth",
          "Danforth-East York",
          "Don Valley Village",
          "Dorset Park",
          "Dovercourt-Wallace Emerson-Juncti",
          "Downsview-Roding-CFB",
          "Dufferin Grove",
          "East End-Danforth",
          "Edenbridge-Humber Valley",
          "Eglinton East",
          "Elms-Old Rexdale",
          "Englemount-Lawrence",
          "Eringate-Centennial-West Deane",
          "Etobicoke West Mall",
          "Flemingdon Park",
          "Forest Hill North",
          "Forest Hill South",
          "Glenfield-Jane Heights",
          "Greenwood-Coxwell",
          "Guildwood",
          "Henry Farm",
          "High Park North",
          "High Park-Swansea",
          "Highland Creek",
          "Hillcrest Village",
          "Humber Heights-Westmount",
          "Humber Summit",
          "Humbermede",
          "Humewood-Cedarvale",
          "Ionview",
          "Islington-City Centre West",
          "Junction Area",
          "Keelesdale-Eglinton West",
          "Kennedy Park",
          "Kensington-Chinatown",
          "Kingsview Village-The Westway",
          "Kingsway South",
          "L'Amoreaux",
          "Lambton Baby Point",
          "Lansing-Westgate",
          "Lawrence Park North",
          "Lawrence Park South",
          "Leaside-Bennington",
          "Little Portugal",
          "Long Branch",
          "Malvern",
          "Maple Leaf",
          "Markland Wood",
          "Milliken",
          "Mimico",
          "Morningside",
          "Moss Park",
          "Mount Dennis",
          "Mount Olive-Silverstone-Jamestown",
          "Mount Pleasant East",
          "Mount Pleasant West",
          "New Toronto",
          "Newtonbrook East",
          "Newtonbrook West",
          "Niagara",
          "North Riverdale",
          "North St.James Town",
          "O'Connor-Parkview",
          "Oakridge",
          "Oakwood Village",
          "Old East York",
          "Palmerston-Little Italy",
          "Parkwoods-Donalda",
          "Pelmo Park-Humberlea",
          "Playter Estates-Danforth",
          "Pleasant View",
          "Princess-Rosethorn",
          "Regent Park",
          "Rexdale-Kipling",
          "Rockcliffe-Smythe",
          "Roncesvalles",
          "Rosedale-Moore Park",
          "Rouge",
          "Runnymede-Bloor West Village",
          "Rustic",
          "Scarborough Village",
          "South Parkdale",
          "South Riverdale",
          "St.Andrew-Windfields",
          "Steeles",
          "Stonegate-Queensway",
          "Tam O'Shanter-Sullivan",
          "Taylor-Massey",
          "The Beaches",
          "Thistletown-Beaumond Heights",
          "Thorncliffe Park",
          "Trinity-Bellwoods",
          "University",
          "Victoria Village",
          "Waterfront Communities-The Island",
          "West Hill",
          "West Humber-Clairville",
          "Westminster-Branson",
          "Weston",
          "Weston-Pellam Park",
          "Wexford/Maryvale",
          "Willowdale East",
          "Willowdale West",
          "Willowridge-Martingrove-Richview",
          "Woburn",
          "Woodbine Corridor",
          "Woodbine-Lumsden",
          "Wychwood",
          "Yonge-Eglinton",
          "Yonge-St.Clair",
          "York University Heights",
          "Yorkdale-Glen Park"
         ],
         "xaxis": "x",
         "y": [
          459051,
          465144,
          595608,
          1039687,
          851872,
          698124,
          589666,
          750572,
          786976,
          1295007,
          516279,
          419121,
          608681,
          363055,
          711848,
          508759,
          2124653,
          617113,
          488463,
          687732,
          503455,
          1365503,
          570471,
          565258,
          493491,
          767695,
          580993,
          584484,
          649919,
          586918,
          553974,
          364667,
          605040,
          530877,
          636899,
          665384,
          1108146,
          374364,
          373493,
          791880,
          553656,
          430658,
          289227,
          1185419,
          1664653,
          455970,
          538727,
          514116,
          514929,
          741161,
          811423,
          596883,
          549816,
          625154,
          490049,
          445094,
          970245,
          400418,
          628682,
          603050,
          449257,
          399789,
          613094,
          470928,
          1173663,
          905137,
          468524,
          853511,
          1056967,
          1522732,
          1122495,
          751872,
          537021,
          357541,
          630831,
          617950,
          480175,
          547683,
          396699,
          569905,
          365097,
          352394,
          942804,
          651643,
          567617,
          778847,
          641047,
          514978,
          978565,
          572689,
          415214,
          587723,
          614092,
          617169,
          866003,
          632812,
          564303,
          903121,
          519686,
          1065811,
          546413,
          502460,
          481110,
          708369,
          1522193,
          523738,
          768420,
          600017,
          459085,
          622827,
          633325,
          1390616,
          523359,
          766124,
          492616,
          333230,
          927404,
          523150,
          355293,
          743901,
          860610,
          490119,
          524540,
          396189,
          477762,
          486204,
          428703,
          489659,
          484811,
          652845,
          648794,
          646210,
          415478,
          619910,
          514874,
          787760,
          1127052,
          1131888,
          425769,
          599698
         ],
         "yaxis": "y"
        }
       ],
       "layout": {
        "annotations": [
         {
          "font": {},
          "showarrow": false,
          "text": "year=2016",
          "textangle": 90,
          "x": 0.98,
          "xanchor": "left",
          "xref": "paper",
          "y": 0.11375,
          "yanchor": "middle",
          "yref": "paper"
         },
         {
          "font": {},
          "showarrow": false,
          "text": "year=2011",
          "textangle": 90,
          "x": 0.98,
          "xanchor": "left",
          "xref": "paper",
          "y": 0.37124999999999997,
          "yanchor": "middle",
          "yref": "paper"
         },
         {
          "font": {},
          "showarrow": false,
          "text": "year=2006",
          "textangle": 90,
          "x": 0.98,
          "xanchor": "left",
          "xref": "paper",
          "y": 0.62875,
          "yanchor": "middle",
          "yref": "paper"
         },
         {
          "font": {},
          "showarrow": false,
          "text": "year=2001",
          "textangle": 90,
          "x": 0.98,
          "xanchor": "left",
          "xref": "paper",
          "y": 0.88625,
          "yanchor": "middle",
          "yref": "paper"
         }
        ],
        "autosize": true,
        "barmode": "relative",
        "coloraxis": {
         "colorbar": {
          "title": {
           "text": "Avg. House Value"
          }
         },
         "colorscale": [
          [
           0,
           "#0d0887"
          ],
          [
           0.1111111111111111,
           "#46039f"
          ],
          [
           0.2222222222222222,
           "#7201a8"
          ],
          [
           0.3333333333333333,
           "#9c179e"
          ],
          [
           0.4444444444444444,
           "#bd3786"
          ],
          [
           0.5555555555555556,
           "#d8576b"
          ],
          [
           0.6666666666666666,
           "#ed7953"
          ],
          [
           0.7777777777777778,
           "#fb9f3a"
          ],
          [
           0.8888888888888888,
           "#fdca26"
          ],
          [
           1,
           "#f0f921"
          ]
         ]
        },
        "legend": {
         "tracegroupgap": 0
        },
        "template": {
         "data": {
          "bar": [
           {
            "error_x": {
             "color": "#2a3f5f"
            },
            "error_y": {
             "color": "#2a3f5f"
            },
            "marker": {
             "line": {
              "color": "#E5ECF6",
              "width": 0.5
             }
            },
            "type": "bar"
           }
          ],
          "barpolar": [
           {
            "marker": {
             "line": {
              "color": "#E5ECF6",
              "width": 0.5
             }
            },
            "type": "barpolar"
           }
          ],
          "carpet": [
           {
            "aaxis": {
             "endlinecolor": "#2a3f5f",
             "gridcolor": "white",
             "linecolor": "white",
             "minorgridcolor": "white",
             "startlinecolor": "#2a3f5f"
            },
            "baxis": {
             "endlinecolor": "#2a3f5f",
             "gridcolor": "white",
             "linecolor": "white",
             "minorgridcolor": "white",
             "startlinecolor": "#2a3f5f"
            },
            "type": "carpet"
           }
          ],
          "choropleth": [
           {
            "colorbar": {
             "outlinewidth": 0,
             "ticks": ""
            },
            "type": "choropleth"
           }
          ],
          "contour": [
           {
            "colorbar": {
             "outlinewidth": 0,
             "ticks": ""
            },
            "colorscale": [
             [
              0,
              "#0d0887"
             ],
             [
              0.1111111111111111,
              "#46039f"
             ],
             [
              0.2222222222222222,
              "#7201a8"
             ],
             [
              0.3333333333333333,
              "#9c179e"
             ],
             [
              0.4444444444444444,
              "#bd3786"
             ],
             [
              0.5555555555555556,
              "#d8576b"
             ],
             [
              0.6666666666666666,
              "#ed7953"
             ],
             [
              0.7777777777777778,
              "#fb9f3a"
             ],
             [
              0.8888888888888888,
              "#fdca26"
             ],
             [
              1,
              "#f0f921"
             ]
            ],
            "type": "contour"
           }
          ],
          "contourcarpet": [
           {
            "colorbar": {
             "outlinewidth": 0,
             "ticks": ""
            },
            "type": "contourcarpet"
           }
          ],
          "heatmap": [
           {
            "colorbar": {
             "outlinewidth": 0,
             "ticks": ""
            },
            "colorscale": [
             [
              0,
              "#0d0887"
             ],
             [
              0.1111111111111111,
              "#46039f"
             ],
             [
              0.2222222222222222,
              "#7201a8"
             ],
             [
              0.3333333333333333,
              "#9c179e"
             ],
             [
              0.4444444444444444,
              "#bd3786"
             ],
             [
              0.5555555555555556,
              "#d8576b"
             ],
             [
              0.6666666666666666,
              "#ed7953"
             ],
             [
              0.7777777777777778,
              "#fb9f3a"
             ],
             [
              0.8888888888888888,
              "#fdca26"
             ],
             [
              1,
              "#f0f921"
             ]
            ],
            "type": "heatmap"
           }
          ],
          "heatmapgl": [
           {
            "colorbar": {
             "outlinewidth": 0,
             "ticks": ""
            },
            "colorscale": [
             [
              0,
              "#0d0887"
             ],
             [
              0.1111111111111111,
              "#46039f"
             ],
             [
              0.2222222222222222,
              "#7201a8"
             ],
             [
              0.3333333333333333,
              "#9c179e"
             ],
             [
              0.4444444444444444,
              "#bd3786"
             ],
             [
              0.5555555555555556,
              "#d8576b"
             ],
             [
              0.6666666666666666,
              "#ed7953"
             ],
             [
              0.7777777777777778,
              "#fb9f3a"
             ],
             [
              0.8888888888888888,
              "#fdca26"
             ],
             [
              1,
              "#f0f921"
             ]
            ],
            "type": "heatmapgl"
           }
          ],
          "histogram": [
           {
            "marker": {
             "colorbar": {
              "outlinewidth": 0,
              "ticks": ""
             }
            },
            "type": "histogram"
           }
          ],
          "histogram2d": [
           {
            "colorbar": {
             "outlinewidth": 0,
             "ticks": ""
            },
            "colorscale": [
             [
              0,
              "#0d0887"
             ],
             [
              0.1111111111111111,
              "#46039f"
             ],
             [
              0.2222222222222222,
              "#7201a8"
             ],
             [
              0.3333333333333333,
              "#9c179e"
             ],
             [
              0.4444444444444444,
              "#bd3786"
             ],
             [
              0.5555555555555556,
              "#d8576b"
             ],
             [
              0.6666666666666666,
              "#ed7953"
             ],
             [
              0.7777777777777778,
              "#fb9f3a"
             ],
             [
              0.8888888888888888,
              "#fdca26"
             ],
             [
              1,
              "#f0f921"
             ]
            ],
            "type": "histogram2d"
           }
          ],
          "histogram2dcontour": [
           {
            "colorbar": {
             "outlinewidth": 0,
             "ticks": ""
            },
            "colorscale": [
             [
              0,
              "#0d0887"
             ],
             [
              0.1111111111111111,
              "#46039f"
             ],
             [
              0.2222222222222222,
              "#7201a8"
             ],
             [
              0.3333333333333333,
              "#9c179e"
             ],
             [
              0.4444444444444444,
              "#bd3786"
             ],
             [
              0.5555555555555556,
              "#d8576b"
             ],
             [
              0.6666666666666666,
              "#ed7953"
             ],
             [
              0.7777777777777778,
              "#fb9f3a"
             ],
             [
              0.8888888888888888,
              "#fdca26"
             ],
             [
              1,
              "#f0f921"
             ]
            ],
            "type": "histogram2dcontour"
           }
          ],
          "mesh3d": [
           {
            "colorbar": {
             "outlinewidth": 0,
             "ticks": ""
            },
            "type": "mesh3d"
           }
          ],
          "parcoords": [
           {
            "line": {
             "colorbar": {
              "outlinewidth": 0,
              "ticks": ""
             }
            },
            "type": "parcoords"
           }
          ],
          "pie": [
           {
            "automargin": true,
            "type": "pie"
           }
          ],
          "scatter": [
           {
            "marker": {
             "colorbar": {
              "outlinewidth": 0,
              "ticks": ""
             }
            },
            "type": "scatter"
           }
          ],
          "scatter3d": [
           {
            "line": {
             "colorbar": {
              "outlinewidth": 0,
              "ticks": ""
             }
            },
            "marker": {
             "colorbar": {
              "outlinewidth": 0,
              "ticks": ""
             }
            },
            "type": "scatter3d"
           }
          ],
          "scattercarpet": [
           {
            "marker": {
             "colorbar": {
              "outlinewidth": 0,
              "ticks": ""
             }
            },
            "type": "scattercarpet"
           }
          ],
          "scattergeo": [
           {
            "marker": {
             "colorbar": {
              "outlinewidth": 0,
              "ticks": ""
             }
            },
            "type": "scattergeo"
           }
          ],
          "scattergl": [
           {
            "marker": {
             "colorbar": {
              "outlinewidth": 0,
              "ticks": ""
             }
            },
            "type": "scattergl"
           }
          ],
          "scattermapbox": [
           {
            "marker": {
             "colorbar": {
              "outlinewidth": 0,
              "ticks": ""
             }
            },
            "type": "scattermapbox"
           }
          ],
          "scatterpolar": [
           {
            "marker": {
             "colorbar": {
              "outlinewidth": 0,
              "ticks": ""
             }
            },
            "type": "scatterpolar"
           }
          ],
          "scatterpolargl": [
           {
            "marker": {
             "colorbar": {
              "outlinewidth": 0,
              "ticks": ""
             }
            },
            "type": "scatterpolargl"
           }
          ],
          "scatterternary": [
           {
            "marker": {
             "colorbar": {
              "outlinewidth": 0,
              "ticks": ""
             }
            },
            "type": "scatterternary"
           }
          ],
          "surface": [
           {
            "colorbar": {
             "outlinewidth": 0,
             "ticks": ""
            },
            "colorscale": [
             [
              0,
              "#0d0887"
             ],
             [
              0.1111111111111111,
              "#46039f"
             ],
             [
              0.2222222222222222,
              "#7201a8"
             ],
             [
              0.3333333333333333,
              "#9c179e"
             ],
             [
              0.4444444444444444,
              "#bd3786"
             ],
             [
              0.5555555555555556,
              "#d8576b"
             ],
             [
              0.6666666666666666,
              "#ed7953"
             ],
             [
              0.7777777777777778,
              "#fb9f3a"
             ],
             [
              0.8888888888888888,
              "#fdca26"
             ],
             [
              1,
              "#f0f921"
             ]
            ],
            "type": "surface"
           }
          ],
          "table": [
           {
            "cells": {
             "fill": {
              "color": "#EBF0F8"
             },
             "line": {
              "color": "white"
             }
            },
            "header": {
             "fill": {
              "color": "#C8D4E3"
             },
             "line": {
              "color": "white"
             }
            },
            "type": "table"
           }
          ]
         },
         "layout": {
          "annotationdefaults": {
           "arrowcolor": "#2a3f5f",
           "arrowhead": 0,
           "arrowwidth": 1
          },
          "coloraxis": {
           "colorbar": {
            "outlinewidth": 0,
            "ticks": ""
           }
          },
          "colorscale": {
           "diverging": [
            [
             0,
             "#8e0152"
            ],
            [
             0.1,
             "#c51b7d"
            ],
            [
             0.2,
             "#de77ae"
            ],
            [
             0.3,
             "#f1b6da"
            ],
            [
             0.4,
             "#fde0ef"
            ],
            [
             0.5,
             "#f7f7f7"
            ],
            [
             0.6,
             "#e6f5d0"
            ],
            [
             0.7,
             "#b8e186"
            ],
            [
             0.8,
             "#7fbc41"
            ],
            [
             0.9,
             "#4d9221"
            ],
            [
             1,
             "#276419"
            ]
           ],
           "sequential": [
            [
             0,
             "#0d0887"
            ],
            [
             0.1111111111111111,
             "#46039f"
            ],
            [
             0.2222222222222222,
             "#7201a8"
            ],
            [
             0.3333333333333333,
             "#9c179e"
            ],
            [
             0.4444444444444444,
             "#bd3786"
            ],
            [
             0.5555555555555556,
             "#d8576b"
            ],
            [
             0.6666666666666666,
             "#ed7953"
            ],
            [
             0.7777777777777778,
             "#fb9f3a"
            ],
            [
             0.8888888888888888,
             "#fdca26"
            ],
            [
             1,
             "#f0f921"
            ]
           ],
           "sequentialminus": [
            [
             0,
             "#0d0887"
            ],
            [
             0.1111111111111111,
             "#46039f"
            ],
            [
             0.2222222222222222,
             "#7201a8"
            ],
            [
             0.3333333333333333,
             "#9c179e"
            ],
            [
             0.4444444444444444,
             "#bd3786"
            ],
            [
             0.5555555555555556,
             "#d8576b"
            ],
            [
             0.6666666666666666,
             "#ed7953"
            ],
            [
             0.7777777777777778,
             "#fb9f3a"
            ],
            [
             0.8888888888888888,
             "#fdca26"
            ],
            [
             1,
             "#f0f921"
            ]
           ]
          },
          "colorway": [
           "#636efa",
           "#EF553B",
           "#00cc96",
           "#ab63fa",
           "#FFA15A",
           "#19d3f3",
           "#FF6692",
           "#B6E880",
           "#FF97FF",
           "#FECB52"
          ],
          "font": {
           "color": "#2a3f5f"
          },
          "geo": {
           "bgcolor": "white",
           "lakecolor": "white",
           "landcolor": "#E5ECF6",
           "showlakes": true,
           "showland": true,
           "subunitcolor": "white"
          },
          "hoverlabel": {
           "align": "left"
          },
          "hovermode": "closest",
          "mapbox": {
           "style": "light"
          },
          "paper_bgcolor": "white",
          "plot_bgcolor": "#E5ECF6",
          "polar": {
           "angularaxis": {
            "gridcolor": "white",
            "linecolor": "white",
            "ticks": ""
           },
           "bgcolor": "#E5ECF6",
           "radialaxis": {
            "gridcolor": "white",
            "linecolor": "white",
            "ticks": ""
           }
          },
          "scene": {
           "xaxis": {
            "backgroundcolor": "#E5ECF6",
            "gridcolor": "white",
            "gridwidth": 2,
            "linecolor": "white",
            "showbackground": true,
            "ticks": "",
            "zerolinecolor": "white"
           },
           "yaxis": {
            "backgroundcolor": "#E5ECF6",
            "gridcolor": "white",
            "gridwidth": 2,
            "linecolor": "white",
            "showbackground": true,
            "ticks": "",
            "zerolinecolor": "white"
           },
           "zaxis": {
            "backgroundcolor": "#E5ECF6",
            "gridcolor": "white",
            "gridwidth": 2,
            "linecolor": "white",
            "showbackground": true,
            "ticks": "",
            "zerolinecolor": "white"
           }
          },
          "shapedefaults": {
           "line": {
            "color": "#2a3f5f"
           }
          },
          "ternary": {
           "aaxis": {
            "gridcolor": "white",
            "linecolor": "white",
            "ticks": ""
           },
           "baxis": {
            "gridcolor": "white",
            "linecolor": "white",
            "ticks": ""
           },
           "bgcolor": "#E5ECF6",
           "caxis": {
            "gridcolor": "white",
            "linecolor": "white",
            "ticks": ""
           }
          },
          "title": {
           "x": 0.05
          },
          "xaxis": {
           "automargin": true,
           "gridcolor": "white",
           "linecolor": "white",
           "ticks": "",
           "title": {
            "standoff": 15
           },
           "zerolinecolor": "white",
           "zerolinewidth": 2
          },
          "yaxis": {
           "automargin": true,
           "gridcolor": "white",
           "linecolor": "white",
           "ticks": "",
           "title": {
            "standoff": 15
           },
           "zerolinecolor": "white",
           "zerolinewidth": 2
          }
         }
        },
        "title": {
         "text": "Average House Values in Toronto per Neighbourhood"
        },
        "xaxis": {
         "anchor": "y",
         "autorange": true,
         "domain": [
          0,
          0.98
         ],
         "range": [
          -0.5,
          139.5
         ],
         "title": {
          "text": "Neighbourhoods"
         },
         "type": "category"
        },
        "xaxis2": {
         "anchor": "y2",
         "autorange": true,
         "domain": [
          0,
          0.98
         ],
         "matches": "x",
         "range": [
          -0.5,
          139.5
         ],
         "showticklabels": false,
         "type": "category"
        },
        "xaxis3": {
         "anchor": "y3",
         "autorange": true,
         "domain": [
          0,
          0.98
         ],
         "matches": "x",
         "range": [
          -0.5,
          139.5
         ],
         "showticklabels": false,
         "type": "category"
        },
        "xaxis4": {
         "anchor": "y4",
         "autorange": true,
         "domain": [
          0,
          0.98
         ],
         "matches": "x",
         "range": [
          -0.5,
          139.5
         ],
         "showticklabels": false,
         "type": "category"
        },
        "yaxis": {
         "anchor": "x",
         "autorange": true,
         "domain": [
          0,
          0.2275
         ],
         "range": [
          0,
          2236476.8421052634
         ],
         "title": {
          "text": "Avg. House Value"
         },
         "type": "linear"
        },
        "yaxis2": {
         "anchor": "x2",
         "autorange": true,
         "domain": [
          0.2575,
          0.485
         ],
         "matches": "y",
         "range": [
          0,
          2236476.8421052634
         ],
         "title": {
          "text": "Avg. House Value"
         },
         "type": "linear"
        },
        "yaxis3": {
         "anchor": "x3",
         "autorange": true,
         "domain": [
          0.515,
          0.7425
         ],
         "matches": "y",
         "range": [
          0,
          2236476.8421052634
         ],
         "title": {
          "text": "Avg. House Value"
         },
         "type": "linear"
        },
        "yaxis4": {
         "anchor": "x4",
         "autorange": true,
         "domain": [
          0.7725,
          1
         ],
         "matches": "y",
         "range": [
          0,
          2236476.8421052634
         ],
         "title": {
          "text": "Avg. House Value"
         },
         "type": "linear"
        }
       }
      },
      "text/html": [
       "<div>\n",
       "        \n",
       "        \n",
       "            <div id=\"24b6f220-d63c-4d5e-866b-af04270df0c1\" class=\"plotly-graph-div\" style=\"height:1024px; width:100%;\"></div>\n",
       "            <script type=\"text/javascript\">\n",
       "                require([\"plotly\"], function(Plotly) {\n",
       "                    window.PLOTLYENV=window.PLOTLYENV || {};\n",
       "                    \n",
       "                if (document.getElementById(\"24b6f220-d63c-4d5e-866b-af04270df0c1\")) {\n",
       "                    Plotly.newPlot(\n",
       "                        '24b6f220-d63c-4d5e-866b-af04270df0c1',\n",
       "                        [{\"alignmentgroup\": \"True\", \"hovertemplate\": \"year=2001<br>Neighbourhoods=%{x}<br>Avg. House Value=%{marker.color}<extra></extra>\", \"legendgroup\": \"\", \"marker\": {\"color\": [200388, 203047, 259998, 453850, 371864, 304749, 257404, 327644, 343535, 565304, 225369, 182957, 265705, 158483, 310740, 222086, 927466, 269386, 213227, 300213, 219771, 596077, 249025, 246750, 215421, 335119, 253618, 255142, 283706, 256205, 241824, 159187, 264116, 231741, 278023, 290457, 483734, 163419, 163039, 345676, 241685, 187993, 126255, 517466, 726664, 199043, 235168, 224425, 224780, 323536, 354207, 260555, 240009, 272896, 213919, 194295, 423537, 174793, 274436, 263247, 196112, 174518, 267631, 205572, 512334, 395115, 204523, 372579, 461393, 664712, 489998, 328211, 234424, 156076, 275374, 269751, 209609, 239078, 173169, 248778, 159374, 153829, 411558, 284459, 247779, 339987, 279833, 224801, 427169, 249993, 181251, 256556, 268067, 269410, 378033, 276239, 246333, 394235, 226856, 465254, 238524, 219337, 210017, 309221, 664476, 228625, 335435, 261923, 200402, 271880, 276462, 607040, 228460, 334433, 215039, 145464, 404836, 228368, 155094, 324732, 375678, 213950, 228975, 172947, 208555, 212241, 187140, 213749, 211633, 284984, 283215, 282087, 181367, 270607, 224756, 343877, 491987, 494098, 185859, 261784], \"coloraxis\": \"coloraxis\"}, \"name\": \"\", \"offsetgroup\": \"\", \"orientation\": \"v\", \"showlegend\": false, \"textposition\": \"auto\", \"type\": \"bar\", \"x\": [\"Agincourt North\", \"Agincourt South-Malvern West\", \"Alderwood\", \"Annex\", \"Banbury-Don Mills\", \"Bathurst Manor\", \"Bay Street Corridor\", \"Bayview Village\", \"Bayview Woods-Steeles\", \"Bedford Park-Nortown\", \"Beechborough-Greenbrook\", \"Bendale\", \"Birchcliffe-Cliffside\", \"Black Creek\", \"Blake-Jones\", \"Briar Hill-Belgravia\", \"Bridle Path-Sunnybrook-York Mills\", \"Broadview North\", \"Brookhaven-Amesbury\", \"Cabbagetown-South St.James Town\", \"Caledonia-Fairbank\", \"Casa Loma\", \"Centennial Scarborough\", \"Church-Yonge Corridor\", \"Clairlea-Birchmount\", \"Clanton Park\", \"Cliffcrest\", \"Corso Italia-Davenport\", \"Danforth\", \"Danforth-East York\", \"Don Valley Village\", \"Dorset Park\", \"Dovercourt-Wallace Emerson-Juncti\", \"Downsview-Roding-CFB\", \"Dufferin Grove\", \"East End-Danforth\", \"Edenbridge-Humber Valley\", \"Eglinton East\", \"Elms-Old Rexdale\", \"Englemount-Lawrence\", \"Eringate-Centennial-West Deane\", \"Etobicoke West Mall\", \"Flemingdon Park\", \"Forest Hill North\", \"Forest Hill South\", \"Glenfield-Jane Heights\", \"Greenwood-Coxwell\", \"Guildwood\", \"Henry Farm\", \"High Park North\", \"High Park-Swansea\", \"Highland Creek\", \"Hillcrest Village\", \"Humber Heights-Westmount\", \"Humber Summit\", \"Humbermede\", \"Humewood-Cedarvale\", \"Ionview\", \"Islington-City Centre West\", \"Junction Area\", \"Keelesdale-Eglinton West\", \"Kennedy Park\", \"Kensington-Chinatown\", \"Kingsview Village-The Westway\", \"Kingsway South\", \"L'Amoreaux\", \"Lambton Baby Point\", \"Lansing-Westgate\", \"Lawrence Park North\", \"Lawrence Park South\", \"Leaside-Bennington\", \"Little Portugal\", \"Long Branch\", \"Malvern\", \"Maple Leaf\", \"Markland Wood\", \"Milliken\", \"Mimico\", \"Morningside\", \"Moss Park\", \"Mount Dennis\", \"Mount Olive-Silverstone-Jamestown\", \"Mount Pleasant East\", \"Mount Pleasant West\", \"New Toronto\", \"Newtonbrook East\", \"Newtonbrook West\", \"Niagara\", \"North Riverdale\", \"North St.James Town\", \"O'Connor-Parkview\", \"Oakridge\", \"Oakwood Village\", \"Old East York\", \"Palmerston-Little Italy\", \"Parkwoods-Donalda\", \"Pelmo Park-Humberlea\", \"Playter Estates-Danforth\", \"Pleasant View\", \"Princess-Rosethorn\", \"Regent Park\", \"Rexdale-Kipling\", \"Rockcliffe-Smythe\", \"Roncesvalles\", \"Rosedale-Moore Park\", \"Rouge\", \"Runnymede-Bloor West Village\", \"Rustic\", \"Scarborough Village\", \"South Parkdale\", \"South Riverdale\", \"St.Andrew-Windfields\", \"Steeles\", \"Stonegate-Queensway\", \"Tam O'Shanter-Sullivan\", \"Taylor-Massey\", \"The Beaches\", \"Thistletown-Beaumond Heights\", \"Thorncliffe Park\", \"Trinity-Bellwoods\", \"University\", \"Victoria Village\", \"Waterfront Communities-The Island\", \"West Hill\", \"West Humber-Clairville\", \"Westminster-Branson\", \"Weston\", \"Weston-Pellam Park\", \"Wexford/Maryvale\", \"Willowdale East\", \"Willowdale West\", \"Willowridge-Martingrove-Richview\", \"Woburn\", \"Woodbine Corridor\", \"Woodbine-Lumsden\", \"Wychwood\", \"Yonge-Eglinton\", \"Yonge-St.Clair\", \"York University Heights\", \"Yorkdale-Glen Park\"], \"xaxis\": \"x4\", \"y\": [200388, 203047, 259998, 453850, 371864, 304749, 257404, 327644, 343535, 565304, 225369, 182957, 265705, 158483, 310740, 222086, 927466, 269386, 213227, 300213, 219771, 596077, 249025, 246750, 215421, 335119, 253618, 255142, 283706, 256205, 241824, 159187, 264116, 231741, 278023, 290457, 483734, 163419, 163039, 345676, 241685, 187993, 126255, 517466, 726664, 199043, 235168, 224425, 224780, 323536, 354207, 260555, 240009, 272896, 213919, 194295, 423537, 174793, 274436, 263247, 196112, 174518, 267631, 205572, 512334, 395115, 204523, 372579, 461393, 664712, 489998, 328211, 234424, 156076, 275374, 269751, 209609, 239078, 173169, 248778, 159374, 153829, 411558, 284459, 247779, 339987, 279833, 224801, 427169, 249993, 181251, 256556, 268067, 269410, 378033, 276239, 246333, 394235, 226856, 465254, 238524, 219337, 210017, 309221, 664476, 228625, 335435, 261923, 200402, 271880, 276462, 607040, 228460, 334433, 215039, 145464, 404836, 228368, 155094, 324732, 375678, 213950, 228975, 172947, 208555, 212241, 187140, 213749, 211633, 284984, 283215, 282087, 181367, 270607, 224756, 343877, 491987, 494098, 185859, 261784], \"yaxis\": \"y4\"}, {\"alignmentgroup\": \"True\", \"hovertemplate\": \"year=2006<br>Neighbourhoods=%{x}<br>Avg. House Value=%{marker.color}<extra></extra>\", \"legendgroup\": \"\", \"marker\": {\"color\": [293140, 297031, 380342, 663921, 543987, 445807, 376548, 479299, 502546, 826963, 329685, 267642, 388690, 231839, 454571, 324882, 1356757, 394075, 311922, 439171, 321496, 871981, 364291, 360962, 315133, 490234, 371009, 373239, 415024, 374793, 353756, 232869, 386366, 339006, 406710, 424900, 707638, 239060, 238505, 505677, 353553, 275009, 184694, 756983, 1063011, 291172, 344019, 328303, 328823, 473289, 518157, 381156, 351101, 399210, 312935, 284227, 619577, 255698, 401463, 385094, 286886, 255296, 391509, 300725, 749476, 578001, 299190, 545034, 674957, 972384, 716801, 480129, 342930, 228318, 402835, 394610, 306629, 349739, 253323, 363929, 233143, 225031, 602054, 416125, 362468, 497355, 409358, 328854, 624890, 365706, 265146, 375307, 392146, 394111, 553011, 404100, 360352, 576713, 331860, 680604, 348928, 320860, 307227, 452349, 972039, 334448, 490697, 383158, 293162, 397724, 404427, 888017, 334206, 489230, 314574, 212794, 592220, 334072, 226882, 475039, 549567, 312980, 334960, 252998, 305088, 310480, 273761, 312685, 309590, 416893, 414306, 412655, 265315, 395861, 328788, 503046, 719711, 722799, 271887, 382954], \"coloraxis\": \"coloraxis\"}, \"name\": \"\", \"offsetgroup\": \"\", \"orientation\": \"v\", \"showlegend\": false, \"textposition\": \"auto\", \"type\": \"bar\", \"x\": [\"Agincourt North\", \"Agincourt South-Malvern West\", \"Alderwood\", \"Annex\", \"Banbury-Don Mills\", \"Bathurst Manor\", \"Bay Street Corridor\", \"Bayview Village\", \"Bayview Woods-Steeles\", \"Bedford Park-Nortown\", \"Beechborough-Greenbrook\", \"Bendale\", \"Birchcliffe-Cliffside\", \"Black Creek\", \"Blake-Jones\", \"Briar Hill-Belgravia\", \"Bridle Path-Sunnybrook-York Mills\", \"Broadview North\", \"Brookhaven-Amesbury\", \"Cabbagetown-South St.James Town\", \"Caledonia-Fairbank\", \"Casa Loma\", \"Centennial Scarborough\", \"Church-Yonge Corridor\", \"Clairlea-Birchmount\", \"Clanton Park\", \"Cliffcrest\", \"Corso Italia-Davenport\", \"Danforth\", \"Danforth-East York\", \"Don Valley Village\", \"Dorset Park\", \"Dovercourt-Wallace Emerson-Juncti\", \"Downsview-Roding-CFB\", \"Dufferin Grove\", \"East End-Danforth\", \"Edenbridge-Humber Valley\", \"Eglinton East\", \"Elms-Old Rexdale\", \"Englemount-Lawrence\", \"Eringate-Centennial-West Deane\", \"Etobicoke West Mall\", \"Flemingdon Park\", \"Forest Hill North\", \"Forest Hill South\", \"Glenfield-Jane Heights\", \"Greenwood-Coxwell\", \"Guildwood\", \"Henry Farm\", \"High Park North\", \"High Park-Swansea\", \"Highland Creek\", \"Hillcrest Village\", \"Humber Heights-Westmount\", \"Humber Summit\", \"Humbermede\", \"Humewood-Cedarvale\", \"Ionview\", \"Islington-City Centre West\", \"Junction Area\", \"Keelesdale-Eglinton West\", \"Kennedy Park\", \"Kensington-Chinatown\", \"Kingsview Village-The Westway\", \"Kingsway South\", \"L'Amoreaux\", \"Lambton Baby Point\", \"Lansing-Westgate\", \"Lawrence Park North\", \"Lawrence Park South\", \"Leaside-Bennington\", \"Little Portugal\", \"Long Branch\", \"Malvern\", \"Maple Leaf\", \"Markland Wood\", \"Milliken\", \"Mimico\", \"Morningside\", \"Moss Park\", \"Mount Dennis\", \"Mount Olive-Silverstone-Jamestown\", \"Mount Pleasant East\", \"Mount Pleasant West\", \"New Toronto\", \"Newtonbrook East\", \"Newtonbrook West\", \"Niagara\", \"North Riverdale\", \"North St.James Town\", \"O'Connor-Parkview\", \"Oakridge\", \"Oakwood Village\", \"Old East York\", \"Palmerston-Little Italy\", \"Parkwoods-Donalda\", \"Pelmo Park-Humberlea\", \"Playter Estates-Danforth\", \"Pleasant View\", \"Princess-Rosethorn\", \"Regent Park\", \"Rexdale-Kipling\", \"Rockcliffe-Smythe\", \"Roncesvalles\", \"Rosedale-Moore Park\", \"Rouge\", \"Runnymede-Bloor West Village\", \"Rustic\", \"Scarborough Village\", \"South Parkdale\", \"South Riverdale\", \"St.Andrew-Windfields\", \"Steeles\", \"Stonegate-Queensway\", \"Tam O'Shanter-Sullivan\", \"Taylor-Massey\", \"The Beaches\", \"Thistletown-Beaumond Heights\", \"Thorncliffe Park\", \"Trinity-Bellwoods\", \"University\", \"Victoria Village\", \"Waterfront Communities-The Island\", \"West Hill\", \"West Humber-Clairville\", \"Westminster-Branson\", \"Weston\", \"Weston-Pellam Park\", \"Wexford/Maryvale\", \"Willowdale East\", \"Willowdale West\", \"Willowridge-Martingrove-Richview\", \"Woburn\", \"Woodbine Corridor\", \"Woodbine-Lumsden\", \"Wychwood\", \"Yonge-Eglinton\", \"Yonge-St.Clair\", \"York University Heights\", \"Yorkdale-Glen Park\"], \"xaxis\": \"x3\", \"y\": [293140, 297031, 380342, 663921, 543987, 445807, 376548, 479299, 502546, 826963, 329685, 267642, 388690, 231839, 454571, 324882, 1356757, 394075, 311922, 439171, 321496, 871981, 364291, 360962, 315133, 490234, 371009, 373239, 415024, 374793, 353756, 232869, 386366, 339006, 406710, 424900, 707638, 239060, 238505, 505677, 353553, 275009, 184694, 756983, 1063011, 291172, 344019, 328303, 328823, 473289, 518157, 381156, 351101, 399210, 312935, 284227, 619577, 255698, 401463, 385094, 286886, 255296, 391509, 300725, 749476, 578001, 299190, 545034, 674957, 972384, 716801, 480129, 342930, 228318, 402835, 394610, 306629, 349739, 253323, 363929, 233143, 225031, 602054, 416125, 362468, 497355, 409358, 328854, 624890, 365706, 265146, 375307, 392146, 394111, 553011, 404100, 360352, 576713, 331860, 680604, 348928, 320860, 307227, 452349, 972039, 334448, 490697, 383158, 293162, 397724, 404427, 888017, 334206, 489230, 314574, 212794, 592220, 334072, 226882, 475039, 549567, 312980, 334960, 252998, 305088, 310480, 273761, 312685, 309590, 416893, 414306, 412655, 265315, 395861, 328788, 503046, 719711, 722799, 271887, 382954], \"yaxis\": \"y3\"}, {\"alignmentgroup\": \"True\", \"hovertemplate\": \"year=2011<br>Neighbourhoods=%{x}<br>Avg. House Value=%{marker.color}<extra></extra>\", \"legendgroup\": \"\", \"marker\": {\"color\": [366667, 371534, 475742, 830450, 680433, 557627, 470996, 599520, 628597, 1034387, 412378, 334773, 486184, 289990, 568589, 406371, 1697067, 492919, 390160, 549326, 402135, 1090696, 455664, 451500, 394176, 613197, 464068, 466857, 519123, 468801, 442487, 291278, 483276, 424038, 508723, 531476, 885132, 299023, 298328, 632514, 442233, 343988, 231020, 946854, 1329642, 364206, 430308, 410650, 411300, 592002, 648124, 476760, 439166, 499342, 391427, 355519, 774983, 319834, 502160, 481686, 358844, 319331, 489709, 376154, 937464, 722978, 374234, 681742, 844253, 1216283, 896593, 600558, 428946, 285586, 503876, 493588, 383540, 437462, 316863, 455212, 291621, 281475, 753065, 520500, 453384, 622104, 512036, 411339, 781629, 457435, 331652, 469444, 490506, 492964, 691720, 505459, 450737, 721368, 415099, 851317, 436448, 401340, 384287, 565810, 1215852, 418336, 613776, 479264, 366694, 497483, 505868, 1110755, 418033, 611942, 393477, 266168, 740764, 417866, 283790, 594191, 687412, 391483, 418977, 316456, 381612, 388356, 342427, 391115, 387243, 521460, 518224, 516160, 331863, 495153, 411256, 629223, 900233, 904096, 340083, 479009], \"coloraxis\": \"coloraxis\"}, \"name\": \"\", \"offsetgroup\": \"\", \"orientation\": \"v\", \"showlegend\": false, \"textposition\": \"auto\", \"type\": \"bar\", \"x\": [\"Agincourt North\", \"Agincourt South-Malvern West\", \"Alderwood\", \"Annex\", \"Banbury-Don Mills\", \"Bathurst Manor\", \"Bay Street Corridor\", \"Bayview Village\", \"Bayview Woods-Steeles\", \"Bedford Park-Nortown\", \"Beechborough-Greenbrook\", \"Bendale\", \"Birchcliffe-Cliffside\", \"Black Creek\", \"Blake-Jones\", \"Briar Hill-Belgravia\", \"Bridle Path-Sunnybrook-York Mills\", \"Broadview North\", \"Brookhaven-Amesbury\", \"Cabbagetown-South St.James Town\", \"Caledonia-Fairbank\", \"Casa Loma\", \"Centennial Scarborough\", \"Church-Yonge Corridor\", \"Clairlea-Birchmount\", \"Clanton Park\", \"Cliffcrest\", \"Corso Italia-Davenport\", \"Danforth\", \"Danforth-East York\", \"Don Valley Village\", \"Dorset Park\", \"Dovercourt-Wallace Emerson-Juncti\", \"Downsview-Roding-CFB\", \"Dufferin Grove\", \"East End-Danforth\", \"Edenbridge-Humber Valley\", \"Eglinton East\", \"Elms-Old Rexdale\", \"Englemount-Lawrence\", \"Eringate-Centennial-West Deane\", \"Etobicoke West Mall\", \"Flemingdon Park\", \"Forest Hill North\", \"Forest Hill South\", \"Glenfield-Jane Heights\", \"Greenwood-Coxwell\", \"Guildwood\", \"Henry Farm\", \"High Park North\", \"High Park-Swansea\", \"Highland Creek\", \"Hillcrest Village\", \"Humber Heights-Westmount\", \"Humber Summit\", \"Humbermede\", \"Humewood-Cedarvale\", \"Ionview\", \"Islington-City Centre West\", \"Junction Area\", \"Keelesdale-Eglinton West\", \"Kennedy Park\", \"Kensington-Chinatown\", \"Kingsview Village-The Westway\", \"Kingsway South\", \"L'Amoreaux\", \"Lambton Baby Point\", \"Lansing-Westgate\", \"Lawrence Park North\", \"Lawrence Park South\", \"Leaside-Bennington\", \"Little Portugal\", \"Long Branch\", \"Malvern\", \"Maple Leaf\", \"Markland Wood\", \"Milliken\", \"Mimico\", \"Morningside\", \"Moss Park\", \"Mount Dennis\", \"Mount Olive-Silverstone-Jamestown\", \"Mount Pleasant East\", \"Mount Pleasant West\", \"New Toronto\", \"Newtonbrook East\", \"Newtonbrook West\", \"Niagara\", \"North Riverdale\", \"North St.James Town\", \"O'Connor-Parkview\", \"Oakridge\", \"Oakwood Village\", \"Old East York\", \"Palmerston-Little Italy\", \"Parkwoods-Donalda\", \"Pelmo Park-Humberlea\", \"Playter Estates-Danforth\", \"Pleasant View\", \"Princess-Rosethorn\", \"Regent Park\", \"Rexdale-Kipling\", \"Rockcliffe-Smythe\", \"Roncesvalles\", \"Rosedale-Moore Park\", \"Rouge\", \"Runnymede-Bloor West Village\", \"Rustic\", \"Scarborough Village\", \"South Parkdale\", \"South Riverdale\", \"St.Andrew-Windfields\", \"Steeles\", \"Stonegate-Queensway\", \"Tam O'Shanter-Sullivan\", \"Taylor-Massey\", \"The Beaches\", \"Thistletown-Beaumond Heights\", \"Thorncliffe Park\", \"Trinity-Bellwoods\", \"University\", \"Victoria Village\", \"Waterfront Communities-The Island\", \"West Hill\", \"West Humber-Clairville\", \"Westminster-Branson\", \"Weston\", \"Weston-Pellam Park\", \"Wexford/Maryvale\", \"Willowdale East\", \"Willowdale West\", \"Willowridge-Martingrove-Richview\", \"Woburn\", \"Woodbine Corridor\", \"Woodbine-Lumsden\", \"Wychwood\", \"Yonge-Eglinton\", \"Yonge-St.Clair\", \"York University Heights\", \"Yorkdale-Glen Park\"], \"xaxis\": \"x2\", \"y\": [366667, 371534, 475742, 830450, 680433, 557627, 470996, 599520, 628597, 1034387, 412378, 334773, 486184, 289990, 568589, 406371, 1697067, 492919, 390160, 549326, 402135, 1090696, 455664, 451500, 394176, 613197, 464068, 466857, 519123, 468801, 442487, 291278, 483276, 424038, 508723, 531476, 885132, 299023, 298328, 632514, 442233, 343988, 231020, 946854, 1329642, 364206, 430308, 410650, 411300, 592002, 648124, 476760, 439166, 499342, 391427, 355519, 774983, 319834, 502160, 481686, 358844, 319331, 489709, 376154, 937464, 722978, 374234, 681742, 844253, 1216283, 896593, 600558, 428946, 285586, 503876, 493588, 383540, 437462, 316863, 455212, 291621, 281475, 753065, 520500, 453384, 622104, 512036, 411339, 781629, 457435, 331652, 469444, 490506, 492964, 691720, 505459, 450737, 721368, 415099, 851317, 436448, 401340, 384287, 565810, 1215852, 418336, 613776, 479264, 366694, 497483, 505868, 1110755, 418033, 611942, 393477, 266168, 740764, 417866, 283790, 594191, 687412, 391483, 418977, 316456, 381612, 388356, 342427, 391115, 387243, 521460, 518224, 516160, 331863, 495153, 411256, 629223, 900233, 904096, 340083, 479009], \"yaxis\": \"y2\"}, {\"alignmentgroup\": \"True\", \"hovertemplate\": \"year=2016<br>Neighbourhoods=%{x}<br>Avg. House Value=%{marker.color}<extra></extra>\", \"legendgroup\": \"\", \"marker\": {\"color\": [459051, 465144, 595608, 1039687, 851872, 698124, 589666, 750572, 786976, 1295007, 516279, 419121, 608681, 363055, 711848, 508759, 2124653, 617113, 488463, 687732, 503455, 1365503, 570471, 565258, 493491, 767695, 580993, 584484, 649919, 586918, 553974, 364667, 605040, 530877, 636899, 665384, 1108146, 374364, 373493, 791880, 553656, 430658, 289227, 1185419, 1664653, 455970, 538727, 514116, 514929, 741161, 811423, 596883, 549816, 625154, 490049, 445094, 970245, 400418, 628682, 603050, 449257, 399789, 613094, 470928, 1173663, 905137, 468524, 853511, 1056967, 1522732, 1122495, 751872, 537021, 357541, 630831, 617950, 480175, 547683, 396699, 569905, 365097, 352394, 942804, 651643, 567617, 778847, 641047, 514978, 978565, 572689, 415214, 587723, 614092, 617169, 866003, 632812, 564303, 903121, 519686, 1065811, 546413, 502460, 481110, 708369, 1522193, 523738, 768420, 600017, 459085, 622827, 633325, 1390616, 523359, 766124, 492616, 333230, 927404, 523150, 355293, 743901, 860610, 490119, 524540, 396189, 477762, 486204, 428703, 489659, 484811, 652845, 648794, 646210, 415478, 619910, 514874, 787760, 1127052, 1131888, 425769, 599698], \"coloraxis\": \"coloraxis\"}, \"name\": \"\", \"offsetgroup\": \"\", \"orientation\": \"v\", \"showlegend\": false, \"textposition\": \"auto\", \"type\": \"bar\", \"x\": [\"Agincourt North\", \"Agincourt South-Malvern West\", \"Alderwood\", \"Annex\", \"Banbury-Don Mills\", \"Bathurst Manor\", \"Bay Street Corridor\", \"Bayview Village\", \"Bayview Woods-Steeles\", \"Bedford Park-Nortown\", \"Beechborough-Greenbrook\", \"Bendale\", \"Birchcliffe-Cliffside\", \"Black Creek\", \"Blake-Jones\", \"Briar Hill-Belgravia\", \"Bridle Path-Sunnybrook-York Mills\", \"Broadview North\", \"Brookhaven-Amesbury\", \"Cabbagetown-South St.James Town\", \"Caledonia-Fairbank\", \"Casa Loma\", \"Centennial Scarborough\", \"Church-Yonge Corridor\", \"Clairlea-Birchmount\", \"Clanton Park\", \"Cliffcrest\", \"Corso Italia-Davenport\", \"Danforth\", \"Danforth-East York\", \"Don Valley Village\", \"Dorset Park\", \"Dovercourt-Wallace Emerson-Juncti\", \"Downsview-Roding-CFB\", \"Dufferin Grove\", \"East End-Danforth\", \"Edenbridge-Humber Valley\", \"Eglinton East\", \"Elms-Old Rexdale\", \"Englemount-Lawrence\", \"Eringate-Centennial-West Deane\", \"Etobicoke West Mall\", \"Flemingdon Park\", \"Forest Hill North\", \"Forest Hill South\", \"Glenfield-Jane Heights\", \"Greenwood-Coxwell\", \"Guildwood\", \"Henry Farm\", \"High Park North\", \"High Park-Swansea\", \"Highland Creek\", \"Hillcrest Village\", \"Humber Heights-Westmount\", \"Humber Summit\", \"Humbermede\", \"Humewood-Cedarvale\", \"Ionview\", \"Islington-City Centre West\", \"Junction Area\", \"Keelesdale-Eglinton West\", \"Kennedy Park\", \"Kensington-Chinatown\", \"Kingsview Village-The Westway\", \"Kingsway South\", \"L'Amoreaux\", \"Lambton Baby Point\", \"Lansing-Westgate\", \"Lawrence Park North\", \"Lawrence Park South\", \"Leaside-Bennington\", \"Little Portugal\", \"Long Branch\", \"Malvern\", \"Maple Leaf\", \"Markland Wood\", \"Milliken\", \"Mimico\", \"Morningside\", \"Moss Park\", \"Mount Dennis\", \"Mount Olive-Silverstone-Jamestown\", \"Mount Pleasant East\", \"Mount Pleasant West\", \"New Toronto\", \"Newtonbrook East\", \"Newtonbrook West\", \"Niagara\", \"North Riverdale\", \"North St.James Town\", \"O'Connor-Parkview\", \"Oakridge\", \"Oakwood Village\", \"Old East York\", \"Palmerston-Little Italy\", \"Parkwoods-Donalda\", \"Pelmo Park-Humberlea\", \"Playter Estates-Danforth\", \"Pleasant View\", \"Princess-Rosethorn\", \"Regent Park\", \"Rexdale-Kipling\", \"Rockcliffe-Smythe\", \"Roncesvalles\", \"Rosedale-Moore Park\", \"Rouge\", \"Runnymede-Bloor West Village\", \"Rustic\", \"Scarborough Village\", \"South Parkdale\", \"South Riverdale\", \"St.Andrew-Windfields\", \"Steeles\", \"Stonegate-Queensway\", \"Tam O'Shanter-Sullivan\", \"Taylor-Massey\", \"The Beaches\", \"Thistletown-Beaumond Heights\", \"Thorncliffe Park\", \"Trinity-Bellwoods\", \"University\", \"Victoria Village\", \"Waterfront Communities-The Island\", \"West Hill\", \"West Humber-Clairville\", \"Westminster-Branson\", \"Weston\", \"Weston-Pellam Park\", \"Wexford/Maryvale\", \"Willowdale East\", \"Willowdale West\", \"Willowridge-Martingrove-Richview\", \"Woburn\", \"Woodbine Corridor\", \"Woodbine-Lumsden\", \"Wychwood\", \"Yonge-Eglinton\", \"Yonge-St.Clair\", \"York University Heights\", \"Yorkdale-Glen Park\"], \"xaxis\": \"x\", \"y\": [459051, 465144, 595608, 1039687, 851872, 698124, 589666, 750572, 786976, 1295007, 516279, 419121, 608681, 363055, 711848, 508759, 2124653, 617113, 488463, 687732, 503455, 1365503, 570471, 565258, 493491, 767695, 580993, 584484, 649919, 586918, 553974, 364667, 605040, 530877, 636899, 665384, 1108146, 374364, 373493, 791880, 553656, 430658, 289227, 1185419, 1664653, 455970, 538727, 514116, 514929, 741161, 811423, 596883, 549816, 625154, 490049, 445094, 970245, 400418, 628682, 603050, 449257, 399789, 613094, 470928, 1173663, 905137, 468524, 853511, 1056967, 1522732, 1122495, 751872, 537021, 357541, 630831, 617950, 480175, 547683, 396699, 569905, 365097, 352394, 942804, 651643, 567617, 778847, 641047, 514978, 978565, 572689, 415214, 587723, 614092, 617169, 866003, 632812, 564303, 903121, 519686, 1065811, 546413, 502460, 481110, 708369, 1522193, 523738, 768420, 600017, 459085, 622827, 633325, 1390616, 523359, 766124, 492616, 333230, 927404, 523150, 355293, 743901, 860610, 490119, 524540, 396189, 477762, 486204, 428703, 489659, 484811, 652845, 648794, 646210, 415478, 619910, 514874, 787760, 1127052, 1131888, 425769, 599698], \"yaxis\": \"y\"}],\n",
       "                        {\"annotations\": [{\"font\": {}, \"showarrow\": false, \"text\": \"year=2016\", \"textangle\": 90, \"x\": 0.98, \"xanchor\": \"left\", \"xref\": \"paper\", \"y\": 0.11375, \"yanchor\": \"middle\", \"yref\": \"paper\"}, {\"font\": {}, \"showarrow\": false, \"text\": \"year=2011\", \"textangle\": 90, \"x\": 0.98, \"xanchor\": \"left\", \"xref\": \"paper\", \"y\": 0.37124999999999997, \"yanchor\": \"middle\", \"yref\": \"paper\"}, {\"font\": {}, \"showarrow\": false, \"text\": \"year=2006\", \"textangle\": 90, \"x\": 0.98, \"xanchor\": \"left\", \"xref\": \"paper\", \"y\": 0.62875, \"yanchor\": \"middle\", \"yref\": \"paper\"}, {\"font\": {}, \"showarrow\": false, \"text\": \"year=2001\", \"textangle\": 90, \"x\": 0.98, \"xanchor\": \"left\", \"xref\": \"paper\", \"y\": 0.88625, \"yanchor\": \"middle\", \"yref\": \"paper\"}], \"barmode\": \"relative\", \"coloraxis\": {\"colorbar\": {\"title\": {\"text\": \"Avg. House Value\"}}, \"colorscale\": [[0.0, \"#0d0887\"], [0.1111111111111111, \"#46039f\"], [0.2222222222222222, \"#7201a8\"], [0.3333333333333333, \"#9c179e\"], [0.4444444444444444, \"#bd3786\"], [0.5555555555555556, \"#d8576b\"], [0.6666666666666666, \"#ed7953\"], [0.7777777777777778, \"#fb9f3a\"], [0.8888888888888888, \"#fdca26\"], [1.0, \"#f0f921\"]]}, \"height\": 1024, \"legend\": {\"tracegroupgap\": 0}, \"template\": {\"data\": {\"bar\": [{\"error_x\": {\"color\": \"#2a3f5f\"}, \"error_y\": {\"color\": \"#2a3f5f\"}, \"marker\": {\"line\": {\"color\": \"#E5ECF6\", \"width\": 0.5}}, \"type\": \"bar\"}], \"barpolar\": [{\"marker\": {\"line\": {\"color\": \"#E5ECF6\", \"width\": 0.5}}, \"type\": \"barpolar\"}], \"carpet\": [{\"aaxis\": {\"endlinecolor\": \"#2a3f5f\", \"gridcolor\": \"white\", \"linecolor\": \"white\", \"minorgridcolor\": \"white\", \"startlinecolor\": \"#2a3f5f\"}, \"baxis\": {\"endlinecolor\": \"#2a3f5f\", \"gridcolor\": \"white\", \"linecolor\": \"white\", \"minorgridcolor\": \"white\", \"startlinecolor\": \"#2a3f5f\"}, \"type\": \"carpet\"}], \"choropleth\": [{\"colorbar\": {\"outlinewidth\": 0, \"ticks\": \"\"}, \"type\": \"choropleth\"}], \"contour\": [{\"colorbar\": {\"outlinewidth\": 0, \"ticks\": \"\"}, \"colorscale\": [[0.0, \"#0d0887\"], [0.1111111111111111, \"#46039f\"], [0.2222222222222222, \"#7201a8\"], [0.3333333333333333, \"#9c179e\"], [0.4444444444444444, \"#bd3786\"], [0.5555555555555556, \"#d8576b\"], [0.6666666666666666, \"#ed7953\"], [0.7777777777777778, \"#fb9f3a\"], [0.8888888888888888, \"#fdca26\"], [1.0, \"#f0f921\"]], \"type\": \"contour\"}], \"contourcarpet\": [{\"colorbar\": {\"outlinewidth\": 0, \"ticks\": \"\"}, \"type\": \"contourcarpet\"}], \"heatmap\": [{\"colorbar\": {\"outlinewidth\": 0, \"ticks\": \"\"}, \"colorscale\": [[0.0, \"#0d0887\"], [0.1111111111111111, \"#46039f\"], [0.2222222222222222, \"#7201a8\"], [0.3333333333333333, \"#9c179e\"], [0.4444444444444444, \"#bd3786\"], [0.5555555555555556, \"#d8576b\"], [0.6666666666666666, \"#ed7953\"], [0.7777777777777778, \"#fb9f3a\"], [0.8888888888888888, \"#fdca26\"], [1.0, \"#f0f921\"]], \"type\": \"heatmap\"}], \"heatmapgl\": [{\"colorbar\": {\"outlinewidth\": 0, \"ticks\": \"\"}, \"colorscale\": [[0.0, \"#0d0887\"], [0.1111111111111111, \"#46039f\"], [0.2222222222222222, \"#7201a8\"], [0.3333333333333333, \"#9c179e\"], [0.4444444444444444, \"#bd3786\"], [0.5555555555555556, \"#d8576b\"], [0.6666666666666666, \"#ed7953\"], [0.7777777777777778, \"#fb9f3a\"], [0.8888888888888888, \"#fdca26\"], [1.0, \"#f0f921\"]], \"type\": \"heatmapgl\"}], \"histogram\": [{\"marker\": {\"colorbar\": {\"outlinewidth\": 0, \"ticks\": \"\"}}, \"type\": \"histogram\"}], \"histogram2d\": [{\"colorbar\": {\"outlinewidth\": 0, \"ticks\": \"\"}, \"colorscale\": [[0.0, \"#0d0887\"], [0.1111111111111111, \"#46039f\"], [0.2222222222222222, \"#7201a8\"], [0.3333333333333333, \"#9c179e\"], [0.4444444444444444, \"#bd3786\"], [0.5555555555555556, \"#d8576b\"], [0.6666666666666666, \"#ed7953\"], [0.7777777777777778, \"#fb9f3a\"], [0.8888888888888888, \"#fdca26\"], [1.0, \"#f0f921\"]], \"type\": \"histogram2d\"}], \"histogram2dcontour\": [{\"colorbar\": {\"outlinewidth\": 0, \"ticks\": \"\"}, \"colorscale\": [[0.0, \"#0d0887\"], [0.1111111111111111, \"#46039f\"], [0.2222222222222222, \"#7201a8\"], [0.3333333333333333, \"#9c179e\"], [0.4444444444444444, \"#bd3786\"], [0.5555555555555556, \"#d8576b\"], [0.6666666666666666, \"#ed7953\"], [0.7777777777777778, \"#fb9f3a\"], [0.8888888888888888, \"#fdca26\"], [1.0, \"#f0f921\"]], \"type\": \"histogram2dcontour\"}], \"mesh3d\": [{\"colorbar\": {\"outlinewidth\": 0, \"ticks\": \"\"}, \"type\": \"mesh3d\"}], \"parcoords\": [{\"line\": {\"colorbar\": {\"outlinewidth\": 0, \"ticks\": \"\"}}, \"type\": \"parcoords\"}], \"pie\": [{\"automargin\": true, \"type\": \"pie\"}], \"scatter\": [{\"marker\": {\"colorbar\": {\"outlinewidth\": 0, \"ticks\": \"\"}}, \"type\": \"scatter\"}], \"scatter3d\": [{\"line\": {\"colorbar\": {\"outlinewidth\": 0, \"ticks\": \"\"}}, \"marker\": {\"colorbar\": {\"outlinewidth\": 0, \"ticks\": \"\"}}, \"type\": \"scatter3d\"}], \"scattercarpet\": [{\"marker\": {\"colorbar\": {\"outlinewidth\": 0, \"ticks\": \"\"}}, \"type\": \"scattercarpet\"}], \"scattergeo\": [{\"marker\": {\"colorbar\": {\"outlinewidth\": 0, \"ticks\": \"\"}}, \"type\": \"scattergeo\"}], \"scattergl\": [{\"marker\": {\"colorbar\": {\"outlinewidth\": 0, \"ticks\": \"\"}}, \"type\": \"scattergl\"}], \"scattermapbox\": [{\"marker\": {\"colorbar\": {\"outlinewidth\": 0, \"ticks\": \"\"}}, \"type\": \"scattermapbox\"}], \"scatterpolar\": [{\"marker\": {\"colorbar\": {\"outlinewidth\": 0, \"ticks\": \"\"}}, \"type\": \"scatterpolar\"}], \"scatterpolargl\": [{\"marker\": {\"colorbar\": {\"outlinewidth\": 0, \"ticks\": \"\"}}, \"type\": \"scatterpolargl\"}], \"scatterternary\": [{\"marker\": {\"colorbar\": {\"outlinewidth\": 0, \"ticks\": \"\"}}, \"type\": \"scatterternary\"}], \"surface\": [{\"colorbar\": {\"outlinewidth\": 0, \"ticks\": \"\"}, \"colorscale\": [[0.0, \"#0d0887\"], [0.1111111111111111, \"#46039f\"], [0.2222222222222222, \"#7201a8\"], [0.3333333333333333, \"#9c179e\"], [0.4444444444444444, \"#bd3786\"], [0.5555555555555556, \"#d8576b\"], [0.6666666666666666, \"#ed7953\"], [0.7777777777777778, \"#fb9f3a\"], [0.8888888888888888, \"#fdca26\"], [1.0, \"#f0f921\"]], \"type\": \"surface\"}], \"table\": [{\"cells\": {\"fill\": {\"color\": \"#EBF0F8\"}, \"line\": {\"color\": \"white\"}}, \"header\": {\"fill\": {\"color\": \"#C8D4E3\"}, \"line\": {\"color\": \"white\"}}, \"type\": \"table\"}]}, \"layout\": {\"annotationdefaults\": {\"arrowcolor\": \"#2a3f5f\", \"arrowhead\": 0, \"arrowwidth\": 1}, \"coloraxis\": {\"colorbar\": {\"outlinewidth\": 0, \"ticks\": \"\"}}, \"colorscale\": {\"diverging\": [[0, \"#8e0152\"], [0.1, \"#c51b7d\"], [0.2, \"#de77ae\"], [0.3, \"#f1b6da\"], [0.4, \"#fde0ef\"], [0.5, \"#f7f7f7\"], [0.6, \"#e6f5d0\"], [0.7, \"#b8e186\"], [0.8, \"#7fbc41\"], [0.9, \"#4d9221\"], [1, \"#276419\"]], \"sequential\": [[0.0, \"#0d0887\"], [0.1111111111111111, \"#46039f\"], [0.2222222222222222, \"#7201a8\"], [0.3333333333333333, \"#9c179e\"], [0.4444444444444444, \"#bd3786\"], [0.5555555555555556, \"#d8576b\"], [0.6666666666666666, \"#ed7953\"], [0.7777777777777778, \"#fb9f3a\"], [0.8888888888888888, \"#fdca26\"], [1.0, \"#f0f921\"]], \"sequentialminus\": [[0.0, \"#0d0887\"], [0.1111111111111111, \"#46039f\"], [0.2222222222222222, \"#7201a8\"], [0.3333333333333333, \"#9c179e\"], [0.4444444444444444, \"#bd3786\"], [0.5555555555555556, \"#d8576b\"], [0.6666666666666666, \"#ed7953\"], [0.7777777777777778, \"#fb9f3a\"], [0.8888888888888888, \"#fdca26\"], [1.0, \"#f0f921\"]]}, \"colorway\": [\"#636efa\", \"#EF553B\", \"#00cc96\", \"#ab63fa\", \"#FFA15A\", \"#19d3f3\", \"#FF6692\", \"#B6E880\", \"#FF97FF\", \"#FECB52\"], \"font\": {\"color\": \"#2a3f5f\"}, \"geo\": {\"bgcolor\": \"white\", \"lakecolor\": \"white\", \"landcolor\": \"#E5ECF6\", \"showlakes\": true, \"showland\": true, \"subunitcolor\": \"white\"}, \"hoverlabel\": {\"align\": \"left\"}, \"hovermode\": \"closest\", \"mapbox\": {\"style\": \"light\"}, \"paper_bgcolor\": \"white\", \"plot_bgcolor\": \"#E5ECF6\", \"polar\": {\"angularaxis\": {\"gridcolor\": \"white\", \"linecolor\": \"white\", \"ticks\": \"\"}, \"bgcolor\": \"#E5ECF6\", \"radialaxis\": {\"gridcolor\": \"white\", \"linecolor\": \"white\", \"ticks\": \"\"}}, \"scene\": {\"xaxis\": {\"backgroundcolor\": \"#E5ECF6\", \"gridcolor\": \"white\", \"gridwidth\": 2, \"linecolor\": \"white\", \"showbackground\": true, \"ticks\": \"\", \"zerolinecolor\": \"white\"}, \"yaxis\": {\"backgroundcolor\": \"#E5ECF6\", \"gridcolor\": \"white\", \"gridwidth\": 2, \"linecolor\": \"white\", \"showbackground\": true, \"ticks\": \"\", \"zerolinecolor\": \"white\"}, \"zaxis\": {\"backgroundcolor\": \"#E5ECF6\", \"gridcolor\": \"white\", \"gridwidth\": 2, \"linecolor\": \"white\", \"showbackground\": true, \"ticks\": \"\", \"zerolinecolor\": \"white\"}}, \"shapedefaults\": {\"line\": {\"color\": \"#2a3f5f\"}}, \"ternary\": {\"aaxis\": {\"gridcolor\": \"white\", \"linecolor\": \"white\", \"ticks\": \"\"}, \"baxis\": {\"gridcolor\": \"white\", \"linecolor\": \"white\", \"ticks\": \"\"}, \"bgcolor\": \"#E5ECF6\", \"caxis\": {\"gridcolor\": \"white\", \"linecolor\": \"white\", \"ticks\": \"\"}}, \"title\": {\"x\": 0.05}, \"xaxis\": {\"automargin\": true, \"gridcolor\": \"white\", \"linecolor\": \"white\", \"ticks\": \"\", \"title\": {\"standoff\": 15}, \"zerolinecolor\": \"white\", \"zerolinewidth\": 2}, \"yaxis\": {\"automargin\": true, \"gridcolor\": \"white\", \"linecolor\": \"white\", \"ticks\": \"\", \"title\": {\"standoff\": 15}, \"zerolinecolor\": \"white\", \"zerolinewidth\": 2}}}, \"title\": {\"text\": \"Average House Values in Toronto per Neighbourhood\"}, \"xaxis\": {\"anchor\": \"y\", \"domain\": [0.0, 0.98], \"title\": {\"text\": \"Neighbourhoods\"}}, \"xaxis2\": {\"anchor\": \"y2\", \"domain\": [0.0, 0.98], \"matches\": \"x\", \"showticklabels\": false}, \"xaxis3\": {\"anchor\": \"y3\", \"domain\": [0.0, 0.98], \"matches\": \"x\", \"showticklabels\": false}, \"xaxis4\": {\"anchor\": \"y4\", \"domain\": [0.0, 0.98], \"matches\": \"x\", \"showticklabels\": false}, \"yaxis\": {\"anchor\": \"x\", \"domain\": [0.0, 0.2275], \"title\": {\"text\": \"Avg. House Value\"}}, \"yaxis2\": {\"anchor\": \"x2\", \"domain\": [0.2575, 0.485], \"matches\": \"y\", \"title\": {\"text\": \"Avg. House Value\"}}, \"yaxis3\": {\"anchor\": \"x3\", \"domain\": [0.515, 0.7425], \"matches\": \"y\", \"title\": {\"text\": \"Avg. House Value\"}}, \"yaxis4\": {\"anchor\": \"x4\", \"domain\": [0.7725, 1.0], \"matches\": \"y\", \"title\": {\"text\": \"Avg. House Value\"}}},\n",
       "                        {\"responsive\": true}\n",
       "                    ).then(function(){\n",
       "                            \n",
       "var gd = document.getElementById('24b6f220-d63c-4d5e-866b-af04270df0c1');\n",
       "var x = new MutationObserver(function (mutations, observer) {{\n",
       "        var display = window.getComputedStyle(gd).display;\n",
       "        if (!display || display === 'none') {{\n",
       "            console.log([gd, 'removed!']);\n",
       "            Plotly.purge(gd);\n",
       "            observer.disconnect();\n",
       "        }}\n",
       "}});\n",
       "\n",
       "// Listen for the removal of the full notebook cells\n",
       "var notebookContainer = gd.closest('#notebook-container');\n",
       "if (notebookContainer) {{\n",
       "    x.observe(notebookContainer, {childList: true});\n",
       "}}\n",
       "\n",
       "// Listen for the clearing of the current output cell\n",
       "var outputEl = gd.closest('.output');\n",
       "if (outputEl) {{\n",
       "    x.observe(outputEl, {childList: true});\n",
       "}}\n",
       "\n",
       "                        })\n",
       "                };\n",
       "                });\n",
       "            </script>\n",
       "        </div>"
      ]
     },
     "metadata": {},
     "output_type": "display_data"
    }
   ],
   "source": [
    "# YOUR CODE HERE!"
   ]
  },
  {
   "cell_type": "markdown",
   "metadata": {},
   "source": [
    "### Create a sunburst chart to conduct a costs analysis of most expensive neighbourhoods in Toronto per year"
   ]
  },
  {
   "cell_type": "code",
   "execution_count": 24,
   "metadata": {},
   "outputs": [
    {
     "data": {
      "text/html": [
       "<div>\n",
       "<style scoped>\n",
       "    .dataframe tbody tr th:only-of-type {\n",
       "        vertical-align: middle;\n",
       "    }\n",
       "\n",
       "    .dataframe tbody tr th {\n",
       "        vertical-align: top;\n",
       "    }\n",
       "\n",
       "    .dataframe thead th {\n",
       "        text-align: right;\n",
       "    }\n",
       "</style>\n",
       "<table border=\"1\" class=\"dataframe\">\n",
       "  <thead>\n",
       "    <tr style=\"text-align: right;\">\n",
       "      <th></th>\n",
       "      <th>year</th>\n",
       "      <th>neighbourhood</th>\n",
       "      <th>single_detached_house</th>\n",
       "      <th>apartment_five_storeys_plus</th>\n",
       "      <th>movable_dwelling</th>\n",
       "      <th>semi_detached_house</th>\n",
       "      <th>row_house</th>\n",
       "      <th>duplex</th>\n",
       "      <th>apartment_five_storeys_less</th>\n",
       "      <th>other_house</th>\n",
       "      <th>average_house_value</th>\n",
       "      <th>shelter_costs_owned</th>\n",
       "      <th>shelter_costs_rented</th>\n",
       "    </tr>\n",
       "  </thead>\n",
       "  <tbody>\n",
       "    <tr>\n",
       "      <th>0</th>\n",
       "      <td>2001</td>\n",
       "      <td>Bedford Park-Nortown</td>\n",
       "      <td>4985</td>\n",
       "      <td>2080</td>\n",
       "      <td>0</td>\n",
       "      <td>45</td>\n",
       "      <td>40</td>\n",
       "      <td>210</td>\n",
       "      <td>1235</td>\n",
       "      <td>15</td>\n",
       "      <td>565304</td>\n",
       "      <td>933</td>\n",
       "      <td>1491</td>\n",
       "    </tr>\n",
       "    <tr>\n",
       "      <th>1</th>\n",
       "      <td>2001</td>\n",
       "      <td>Bridle Path-Sunnybrook-York Mills</td>\n",
       "      <td>2275</td>\n",
       "      <td>110</td>\n",
       "      <td>0</td>\n",
       "      <td>25</td>\n",
       "      <td>15</td>\n",
       "      <td>10</td>\n",
       "      <td>20</td>\n",
       "      <td>0</td>\n",
       "      <td>927466</td>\n",
       "      <td>1983</td>\n",
       "      <td>1790</td>\n",
       "    </tr>\n",
       "    <tr>\n",
       "      <th>2</th>\n",
       "      <td>2001</td>\n",
       "      <td>Casa Loma</td>\n",
       "      <td>1035</td>\n",
       "      <td>1700</td>\n",
       "      <td>0</td>\n",
       "      <td>415</td>\n",
       "      <td>190</td>\n",
       "      <td>185</td>\n",
       "      <td>1090</td>\n",
       "      <td>5</td>\n",
       "      <td>596077</td>\n",
       "      <td>1241</td>\n",
       "      <td>1500</td>\n",
       "    </tr>\n",
       "    <tr>\n",
       "      <th>3</th>\n",
       "      <td>2001</td>\n",
       "      <td>Forest Hill North</td>\n",
       "      <td>1565</td>\n",
       "      <td>3380</td>\n",
       "      <td>0</td>\n",
       "      <td>10</td>\n",
       "      <td>0</td>\n",
       "      <td>0</td>\n",
       "      <td>485</td>\n",
       "      <td>5</td>\n",
       "      <td>517466</td>\n",
       "      <td>940</td>\n",
       "      <td>1428</td>\n",
       "    </tr>\n",
       "    <tr>\n",
       "      <th>4</th>\n",
       "      <td>2001</td>\n",
       "      <td>Forest Hill South</td>\n",
       "      <td>1815</td>\n",
       "      <td>2440</td>\n",
       "      <td>5</td>\n",
       "      <td>65</td>\n",
       "      <td>45</td>\n",
       "      <td>85</td>\n",
       "      <td>1010</td>\n",
       "      <td>15</td>\n",
       "      <td>726664</td>\n",
       "      <td>1001</td>\n",
       "      <td>1469</td>\n",
       "    </tr>\n",
       "  </tbody>\n",
       "</table>\n",
       "</div>"
      ],
      "text/plain": [
       "   year                      neighbourhood  single_detached_house  \\\n",
       "0  2001               Bedford Park-Nortown                   4985   \n",
       "1  2001  Bridle Path-Sunnybrook-York Mills                   2275   \n",
       "2  2001                          Casa Loma                   1035   \n",
       "3  2001                  Forest Hill North                   1565   \n",
       "4  2001                  Forest Hill South                   1815   \n",
       "\n",
       "   apartment_five_storeys_plus  movable_dwelling  semi_detached_house  \\\n",
       "0                         2080                 0                   45   \n",
       "1                          110                 0                   25   \n",
       "2                         1700                 0                  415   \n",
       "3                         3380                 0                   10   \n",
       "4                         2440                 5                   65   \n",
       "\n",
       "   row_house  duplex  apartment_five_storeys_less  other_house  \\\n",
       "0         40     210                         1235           15   \n",
       "1         15      10                           20            0   \n",
       "2        190     185                         1090            5   \n",
       "3          0       0                          485            5   \n",
       "4         45      85                         1010           15   \n",
       "\n",
       "   average_house_value  shelter_costs_owned  shelter_costs_rented  \n",
       "0               565304                  933                  1491  \n",
       "1               927466                 1983                  1790  \n",
       "2               596077                 1241                  1500  \n",
       "3               517466                  940                  1428  \n",
       "4               726664                 1001                  1469  "
      ]
     },
     "execution_count": 24,
     "metadata": {},
     "output_type": "execute_result"
    }
   ],
   "source": [
    "# Fetch the data from all expensive neighbourhoods per year.\n",
    "# YOUR CODE HERE!"
   ]
  },
  {
   "cell_type": "code",
   "execution_count": 25,
   "metadata": {},
   "outputs": [
    {
     "data": {
      "application/vnd.plotly.v1+json": {
       "config": {
        "plotlyServerURL": "https://plotly.com"
       },
       "data": [
        {
         "branchvalues": "total",
         "customdata": [
          [
           933,
           1491,
           933
          ],
          [
           1808,
           1020,
           1808
          ],
          [
           1988,
           1124,
           1988
          ],
          [
           2418,
           1385,
           2418
          ],
          [
           1983,
           1790,
           1983
          ],
          [
           2170,
           2167,
           2170
          ],
          [
           2387,
           2388,
           2387
          ],
          [
           2903,
           2942,
           2903
          ],
          [
           1241,
           1500,
           1241
          ],
          [
           1819,
           1356,
           1819
          ],
          [
           2001,
           1494,
           2001
          ],
          [
           2434,
           1841,
           2434
          ],
          [
           940,
           1428,
           940
          ],
          [
           1731,
           1027,
           1731
          ],
          [
           1904,
           1132,
           1904
          ],
          [
           2316,
           1395,
           2316
          ],
          [
           1001,
           1469,
           1001
          ],
          [
           1781,
           1094,
           1781
          ],
          [
           1959,
           1206,
           1959
          ],
          [
           2383,
           1486,
           2383
          ],
          [
           1362,
           1340,
           1362
          ],
          [
           1625,
           1488,
           1625
          ],
          [
           1787,
           1640,
           1787
          ],
          [
           2173,
           2020,
           2173
          ],
          [
           1021,
           1630,
           1021
          ],
          [
           1977,
           1116,
           1977
          ],
          [
           2174,
           1230,
           2174
          ],
          [
           2644,
           1515,
           2644
          ],
          [
           1219,
           1540,
           1219
          ],
          [
           1868,
           1332,
           1868
          ],
          [
           2054,
           1468,
           2054
          ],
          [
           2498,
           1809,
           2498
          ],
          [
           1055,
           1551,
           1055
          ],
          [
           1881,
           1152,
           1881
          ],
          [
           2069,
           1270,
           2069
          ],
          [
           2516,
           1565,
           2516
          ],
          [
           1091,
           1351,
           1091
          ],
          [
           1638,
           1192,
           1638
          ],
          [
           1802,
           1314,
           1802
          ],
          [
           2192,
           1619,
           2192
          ],
          [
           "(?)",
           "(?)",
           1224.7502831983431
          ],
          [
           "(?)",
           "(?)",
           1856.058787788345
          ],
          [
           "(?)",
           "(?)",
           2041.3886794989783
          ],
          [
           "(?)",
           "(?)",
           2482.826591451349
          ]
         ],
         "domain": {
          "x": [
           0,
           1
          ],
          "y": [
           0,
           1
          ]
         },
         "hovertemplate": "labels=%{label}<br>average_house_value=%{value}<br>parent=%{parent}<br>id=%{id}<br>shelter_costs_owned=%{customdata[0]}<br>shelter_costs_rented=%{customdata[1]}<br>shelter_costs_ownedadditional_col_for_hover=%{color}<extra></extra>",
         "ids": [
          "2001/Bedford Park-Nortown",
          "2006/Bedford Park-Nortown",
          "2011/Bedford Park-Nortown",
          "2016/Bedford Park-Nortown",
          "2001/Bridle Path-Sunnybrook-York Mills",
          "2006/Bridle Path-Sunnybrook-York Mills",
          "2011/Bridle Path-Sunnybrook-York Mills",
          "2016/Bridle Path-Sunnybrook-York Mills",
          "2001/Casa Loma",
          "2006/Casa Loma",
          "2011/Casa Loma",
          "2016/Casa Loma",
          "2001/Forest Hill North",
          "2006/Forest Hill North",
          "2011/Forest Hill North",
          "2016/Forest Hill North",
          "2001/Forest Hill South",
          "2006/Forest Hill South",
          "2011/Forest Hill South",
          "2016/Forest Hill South",
          "2001/Kingsway South",
          "2006/Kingsway South",
          "2011/Kingsway South",
          "2016/Kingsway South",
          "2001/Lawrence Park South",
          "2006/Lawrence Park South",
          "2011/Lawrence Park South",
          "2016/Lawrence Park South",
          "2001/Rosedale-Moore Park",
          "2006/Rosedale-Moore Park",
          "2011/Rosedale-Moore Park",
          "2016/Rosedale-Moore Park",
          "2001/St.Andrew-Windfields",
          "2006/St.Andrew-Windfields",
          "2011/St.Andrew-Windfields",
          "2016/St.Andrew-Windfields",
          "2001/Yonge-St.Clair",
          "2006/Yonge-St.Clair",
          "2011/Yonge-St.Clair",
          "2016/Yonge-St.Clair",
          "2001",
          "2006",
          "2011",
          "2016"
         ],
         "labels": [
          "Bedford Park-Nortown",
          "Bedford Park-Nortown",
          "Bedford Park-Nortown",
          "Bedford Park-Nortown",
          "Bridle Path-Sunnybrook-York Mills",
          "Bridle Path-Sunnybrook-York Mills",
          "Bridle Path-Sunnybrook-York Mills",
          "Bridle Path-Sunnybrook-York Mills",
          "Casa Loma",
          "Casa Loma",
          "Casa Loma",
          "Casa Loma",
          "Forest Hill North",
          "Forest Hill North",
          "Forest Hill North",
          "Forest Hill North",
          "Forest Hill South",
          "Forest Hill South",
          "Forest Hill South",
          "Forest Hill South",
          "Kingsway South",
          "Kingsway South",
          "Kingsway South",
          "Kingsway South",
          "Lawrence Park South",
          "Lawrence Park South",
          "Lawrence Park South",
          "Lawrence Park South",
          "Rosedale-Moore Park",
          "Rosedale-Moore Park",
          "Rosedale-Moore Park",
          "Rosedale-Moore Park",
          "St.Andrew-Windfields",
          "St.Andrew-Windfields",
          "St.Andrew-Windfields",
          "St.Andrew-Windfields",
          "Yonge-St.Clair",
          "Yonge-St.Clair",
          "Yonge-St.Clair",
          "Yonge-St.Clair",
          "2001",
          "2006",
          "2011",
          "2016"
         ],
         "marker": {
          "coloraxis": "coloraxis",
          "colors": [
           933,
           1808,
           1988,
           2418,
           1983,
           2170,
           2387,
           2903,
           1241,
           1819,
           2001,
           2434,
           940,
           1731,
           1904,
           2316,
           1001,
           1781,
           1959,
           2383,
           1362,
           1625,
           1787,
           2173,
           1021,
           1977,
           2174,
           2644,
           1219,
           1868,
           2054,
           2498,
           1055,
           1881,
           2069,
           2516,
           1091,
           1638,
           1802,
           2192,
           1224.7502831983431,
           1856.058787788345,
           2041.3886794989783,
           2482.826591451349
          ]
         },
         "name": "",
         "parents": [
          "2001",
          "2006",
          "2011",
          "2016",
          "2001",
          "2006",
          "2011",
          "2016",
          "2001",
          "2006",
          "2011",
          "2016",
          "2001",
          "2006",
          "2011",
          "2016",
          "2001",
          "2006",
          "2011",
          "2016",
          "2001",
          "2006",
          "2011",
          "2016",
          "2001",
          "2006",
          "2011",
          "2016",
          "2001",
          "2006",
          "2011",
          "2016",
          "2001",
          "2006",
          "2011",
          "2016",
          "2001",
          "2006",
          "2011",
          "2016",
          "",
          "",
          "",
          ""
         ],
         "type": "sunburst",
         "values": [
          565304,
          826963,
          1034387,
          1295007,
          927466,
          1356757,
          1697067,
          2124653,
          596077,
          871981,
          1090696,
          1365503,
          517466,
          756983,
          946854,
          1185419,
          726664,
          1063011,
          1329642,
          1664653,
          512334,
          749476,
          937464,
          1173663,
          664712,
          972384,
          1216283,
          1522732,
          664476,
          972039,
          1215852,
          1522193,
          607040,
          888017,
          1110755,
          1390616,
          494098,
          722799,
          904096,
          1131888,
          6275637,
          9180410,
          11483096,
          14376327
         ]
        }
       ],
       "layout": {
        "autosize": true,
        "coloraxis": {
         "colorbar": {
          "title": {
           "text": "shelter_costs_ownedadditional_col_for_hover"
          }
         },
         "colorscale": [
          [
           0,
           "rgb(247,251,255)"
          ],
          [
           0.125,
           "rgb(222,235,247)"
          ],
          [
           0.25,
           "rgb(198,219,239)"
          ],
          [
           0.375,
           "rgb(158,202,225)"
          ],
          [
           0.5,
           "rgb(107,174,214)"
          ],
          [
           0.625,
           "rgb(66,146,198)"
          ],
          [
           0.75,
           "rgb(33,113,181)"
          ],
          [
           0.875,
           "rgb(8,81,156)"
          ],
          [
           1,
           "rgb(8,48,107)"
          ]
         ]
        },
        "legend": {
         "tracegroupgap": 0
        },
        "template": {
         "data": {
          "bar": [
           {
            "error_x": {
             "color": "#2a3f5f"
            },
            "error_y": {
             "color": "#2a3f5f"
            },
            "marker": {
             "line": {
              "color": "#E5ECF6",
              "width": 0.5
             }
            },
            "type": "bar"
           }
          ],
          "barpolar": [
           {
            "marker": {
             "line": {
              "color": "#E5ECF6",
              "width": 0.5
             }
            },
            "type": "barpolar"
           }
          ],
          "carpet": [
           {
            "aaxis": {
             "endlinecolor": "#2a3f5f",
             "gridcolor": "white",
             "linecolor": "white",
             "minorgridcolor": "white",
             "startlinecolor": "#2a3f5f"
            },
            "baxis": {
             "endlinecolor": "#2a3f5f",
             "gridcolor": "white",
             "linecolor": "white",
             "minorgridcolor": "white",
             "startlinecolor": "#2a3f5f"
            },
            "type": "carpet"
           }
          ],
          "choropleth": [
           {
            "colorbar": {
             "outlinewidth": 0,
             "ticks": ""
            },
            "type": "choropleth"
           }
          ],
          "contour": [
           {
            "colorbar": {
             "outlinewidth": 0,
             "ticks": ""
            },
            "colorscale": [
             [
              0,
              "#0d0887"
             ],
             [
              0.1111111111111111,
              "#46039f"
             ],
             [
              0.2222222222222222,
              "#7201a8"
             ],
             [
              0.3333333333333333,
              "#9c179e"
             ],
             [
              0.4444444444444444,
              "#bd3786"
             ],
             [
              0.5555555555555556,
              "#d8576b"
             ],
             [
              0.6666666666666666,
              "#ed7953"
             ],
             [
              0.7777777777777778,
              "#fb9f3a"
             ],
             [
              0.8888888888888888,
              "#fdca26"
             ],
             [
              1,
              "#f0f921"
             ]
            ],
            "type": "contour"
           }
          ],
          "contourcarpet": [
           {
            "colorbar": {
             "outlinewidth": 0,
             "ticks": ""
            },
            "type": "contourcarpet"
           }
          ],
          "heatmap": [
           {
            "colorbar": {
             "outlinewidth": 0,
             "ticks": ""
            },
            "colorscale": [
             [
              0,
              "#0d0887"
             ],
             [
              0.1111111111111111,
              "#46039f"
             ],
             [
              0.2222222222222222,
              "#7201a8"
             ],
             [
              0.3333333333333333,
              "#9c179e"
             ],
             [
              0.4444444444444444,
              "#bd3786"
             ],
             [
              0.5555555555555556,
              "#d8576b"
             ],
             [
              0.6666666666666666,
              "#ed7953"
             ],
             [
              0.7777777777777778,
              "#fb9f3a"
             ],
             [
              0.8888888888888888,
              "#fdca26"
             ],
             [
              1,
              "#f0f921"
             ]
            ],
            "type": "heatmap"
           }
          ],
          "heatmapgl": [
           {
            "colorbar": {
             "outlinewidth": 0,
             "ticks": ""
            },
            "colorscale": [
             [
              0,
              "#0d0887"
             ],
             [
              0.1111111111111111,
              "#46039f"
             ],
             [
              0.2222222222222222,
              "#7201a8"
             ],
             [
              0.3333333333333333,
              "#9c179e"
             ],
             [
              0.4444444444444444,
              "#bd3786"
             ],
             [
              0.5555555555555556,
              "#d8576b"
             ],
             [
              0.6666666666666666,
              "#ed7953"
             ],
             [
              0.7777777777777778,
              "#fb9f3a"
             ],
             [
              0.8888888888888888,
              "#fdca26"
             ],
             [
              1,
              "#f0f921"
             ]
            ],
            "type": "heatmapgl"
           }
          ],
          "histogram": [
           {
            "marker": {
             "colorbar": {
              "outlinewidth": 0,
              "ticks": ""
             }
            },
            "type": "histogram"
           }
          ],
          "histogram2d": [
           {
            "colorbar": {
             "outlinewidth": 0,
             "ticks": ""
            },
            "colorscale": [
             [
              0,
              "#0d0887"
             ],
             [
              0.1111111111111111,
              "#46039f"
             ],
             [
              0.2222222222222222,
              "#7201a8"
             ],
             [
              0.3333333333333333,
              "#9c179e"
             ],
             [
              0.4444444444444444,
              "#bd3786"
             ],
             [
              0.5555555555555556,
              "#d8576b"
             ],
             [
              0.6666666666666666,
              "#ed7953"
             ],
             [
              0.7777777777777778,
              "#fb9f3a"
             ],
             [
              0.8888888888888888,
              "#fdca26"
             ],
             [
              1,
              "#f0f921"
             ]
            ],
            "type": "histogram2d"
           }
          ],
          "histogram2dcontour": [
           {
            "colorbar": {
             "outlinewidth": 0,
             "ticks": ""
            },
            "colorscale": [
             [
              0,
              "#0d0887"
             ],
             [
              0.1111111111111111,
              "#46039f"
             ],
             [
              0.2222222222222222,
              "#7201a8"
             ],
             [
              0.3333333333333333,
              "#9c179e"
             ],
             [
              0.4444444444444444,
              "#bd3786"
             ],
             [
              0.5555555555555556,
              "#d8576b"
             ],
             [
              0.6666666666666666,
              "#ed7953"
             ],
             [
              0.7777777777777778,
              "#fb9f3a"
             ],
             [
              0.8888888888888888,
              "#fdca26"
             ],
             [
              1,
              "#f0f921"
             ]
            ],
            "type": "histogram2dcontour"
           }
          ],
          "mesh3d": [
           {
            "colorbar": {
             "outlinewidth": 0,
             "ticks": ""
            },
            "type": "mesh3d"
           }
          ],
          "parcoords": [
           {
            "line": {
             "colorbar": {
              "outlinewidth": 0,
              "ticks": ""
             }
            },
            "type": "parcoords"
           }
          ],
          "pie": [
           {
            "automargin": true,
            "type": "pie"
           }
          ],
          "scatter": [
           {
            "marker": {
             "colorbar": {
              "outlinewidth": 0,
              "ticks": ""
             }
            },
            "type": "scatter"
           }
          ],
          "scatter3d": [
           {
            "line": {
             "colorbar": {
              "outlinewidth": 0,
              "ticks": ""
             }
            },
            "marker": {
             "colorbar": {
              "outlinewidth": 0,
              "ticks": ""
             }
            },
            "type": "scatter3d"
           }
          ],
          "scattercarpet": [
           {
            "marker": {
             "colorbar": {
              "outlinewidth": 0,
              "ticks": ""
             }
            },
            "type": "scattercarpet"
           }
          ],
          "scattergeo": [
           {
            "marker": {
             "colorbar": {
              "outlinewidth": 0,
              "ticks": ""
             }
            },
            "type": "scattergeo"
           }
          ],
          "scattergl": [
           {
            "marker": {
             "colorbar": {
              "outlinewidth": 0,
              "ticks": ""
             }
            },
            "type": "scattergl"
           }
          ],
          "scattermapbox": [
           {
            "marker": {
             "colorbar": {
              "outlinewidth": 0,
              "ticks": ""
             }
            },
            "type": "scattermapbox"
           }
          ],
          "scatterpolar": [
           {
            "marker": {
             "colorbar": {
              "outlinewidth": 0,
              "ticks": ""
             }
            },
            "type": "scatterpolar"
           }
          ],
          "scatterpolargl": [
           {
            "marker": {
             "colorbar": {
              "outlinewidth": 0,
              "ticks": ""
             }
            },
            "type": "scatterpolargl"
           }
          ],
          "scatterternary": [
           {
            "marker": {
             "colorbar": {
              "outlinewidth": 0,
              "ticks": ""
             }
            },
            "type": "scatterternary"
           }
          ],
          "surface": [
           {
            "colorbar": {
             "outlinewidth": 0,
             "ticks": ""
            },
            "colorscale": [
             [
              0,
              "#0d0887"
             ],
             [
              0.1111111111111111,
              "#46039f"
             ],
             [
              0.2222222222222222,
              "#7201a8"
             ],
             [
              0.3333333333333333,
              "#9c179e"
             ],
             [
              0.4444444444444444,
              "#bd3786"
             ],
             [
              0.5555555555555556,
              "#d8576b"
             ],
             [
              0.6666666666666666,
              "#ed7953"
             ],
             [
              0.7777777777777778,
              "#fb9f3a"
             ],
             [
              0.8888888888888888,
              "#fdca26"
             ],
             [
              1,
              "#f0f921"
             ]
            ],
            "type": "surface"
           }
          ],
          "table": [
           {
            "cells": {
             "fill": {
              "color": "#EBF0F8"
             },
             "line": {
              "color": "white"
             }
            },
            "header": {
             "fill": {
              "color": "#C8D4E3"
             },
             "line": {
              "color": "white"
             }
            },
            "type": "table"
           }
          ]
         },
         "layout": {
          "annotationdefaults": {
           "arrowcolor": "#2a3f5f",
           "arrowhead": 0,
           "arrowwidth": 1
          },
          "coloraxis": {
           "colorbar": {
            "outlinewidth": 0,
            "ticks": ""
           }
          },
          "colorscale": {
           "diverging": [
            [
             0,
             "#8e0152"
            ],
            [
             0.1,
             "#c51b7d"
            ],
            [
             0.2,
             "#de77ae"
            ],
            [
             0.3,
             "#f1b6da"
            ],
            [
             0.4,
             "#fde0ef"
            ],
            [
             0.5,
             "#f7f7f7"
            ],
            [
             0.6,
             "#e6f5d0"
            ],
            [
             0.7,
             "#b8e186"
            ],
            [
             0.8,
             "#7fbc41"
            ],
            [
             0.9,
             "#4d9221"
            ],
            [
             1,
             "#276419"
            ]
           ],
           "sequential": [
            [
             0,
             "#0d0887"
            ],
            [
             0.1111111111111111,
             "#46039f"
            ],
            [
             0.2222222222222222,
             "#7201a8"
            ],
            [
             0.3333333333333333,
             "#9c179e"
            ],
            [
             0.4444444444444444,
             "#bd3786"
            ],
            [
             0.5555555555555556,
             "#d8576b"
            ],
            [
             0.6666666666666666,
             "#ed7953"
            ],
            [
             0.7777777777777778,
             "#fb9f3a"
            ],
            [
             0.8888888888888888,
             "#fdca26"
            ],
            [
             1,
             "#f0f921"
            ]
           ],
           "sequentialminus": [
            [
             0,
             "#0d0887"
            ],
            [
             0.1111111111111111,
             "#46039f"
            ],
            [
             0.2222222222222222,
             "#7201a8"
            ],
            [
             0.3333333333333333,
             "#9c179e"
            ],
            [
             0.4444444444444444,
             "#bd3786"
            ],
            [
             0.5555555555555556,
             "#d8576b"
            ],
            [
             0.6666666666666666,
             "#ed7953"
            ],
            [
             0.7777777777777778,
             "#fb9f3a"
            ],
            [
             0.8888888888888888,
             "#fdca26"
            ],
            [
             1,
             "#f0f921"
            ]
           ]
          },
          "colorway": [
           "#636efa",
           "#EF553B",
           "#00cc96",
           "#ab63fa",
           "#FFA15A",
           "#19d3f3",
           "#FF6692",
           "#B6E880",
           "#FF97FF",
           "#FECB52"
          ],
          "font": {
           "color": "#2a3f5f"
          },
          "geo": {
           "bgcolor": "white",
           "lakecolor": "white",
           "landcolor": "#E5ECF6",
           "showlakes": true,
           "showland": true,
           "subunitcolor": "white"
          },
          "hoverlabel": {
           "align": "left"
          },
          "hovermode": "closest",
          "mapbox": {
           "style": "light"
          },
          "paper_bgcolor": "white",
          "plot_bgcolor": "#E5ECF6",
          "polar": {
           "angularaxis": {
            "gridcolor": "white",
            "linecolor": "white",
            "ticks": ""
           },
           "bgcolor": "#E5ECF6",
           "radialaxis": {
            "gridcolor": "white",
            "linecolor": "white",
            "ticks": ""
           }
          },
          "scene": {
           "xaxis": {
            "backgroundcolor": "#E5ECF6",
            "gridcolor": "white",
            "gridwidth": 2,
            "linecolor": "white",
            "showbackground": true,
            "ticks": "",
            "zerolinecolor": "white"
           },
           "yaxis": {
            "backgroundcolor": "#E5ECF6",
            "gridcolor": "white",
            "gridwidth": 2,
            "linecolor": "white",
            "showbackground": true,
            "ticks": "",
            "zerolinecolor": "white"
           },
           "zaxis": {
            "backgroundcolor": "#E5ECF6",
            "gridcolor": "white",
            "gridwidth": 2,
            "linecolor": "white",
            "showbackground": true,
            "ticks": "",
            "zerolinecolor": "white"
           }
          },
          "shapedefaults": {
           "line": {
            "color": "#2a3f5f"
           }
          },
          "ternary": {
           "aaxis": {
            "gridcolor": "white",
            "linecolor": "white",
            "ticks": ""
           },
           "baxis": {
            "gridcolor": "white",
            "linecolor": "white",
            "ticks": ""
           },
           "bgcolor": "#E5ECF6",
           "caxis": {
            "gridcolor": "white",
            "linecolor": "white",
            "ticks": ""
           }
          },
          "title": {
           "x": 0.05
          },
          "xaxis": {
           "automargin": true,
           "gridcolor": "white",
           "linecolor": "white",
           "ticks": "",
           "title": {
            "standoff": 15
           },
           "zerolinecolor": "white",
           "zerolinewidth": 2
          },
          "yaxis": {
           "automargin": true,
           "gridcolor": "white",
           "linecolor": "white",
           "ticks": "",
           "title": {
            "standoff": 15
           },
           "zerolinecolor": "white",
           "zerolinewidth": 2
          }
         }
        },
        "title": {
         "text": "Costs Analysis of Most Expensive Neighbourhoods in Toronto per Year"
        }
       }
      },
      "text/html": [
       "<div>\n",
       "        \n",
       "        \n",
       "            <div id=\"c48d3a98-b006-44bf-84cc-dc0791db0b27\" class=\"plotly-graph-div\" style=\"height:525px; width:100%;\"></div>\n",
       "            <script type=\"text/javascript\">\n",
       "                require([\"plotly\"], function(Plotly) {\n",
       "                    window.PLOTLYENV=window.PLOTLYENV || {};\n",
       "                    \n",
       "                if (document.getElementById(\"c48d3a98-b006-44bf-84cc-dc0791db0b27\")) {\n",
       "                    Plotly.newPlot(\n",
       "                        'c48d3a98-b006-44bf-84cc-dc0791db0b27',\n",
       "                        [{\"branchvalues\": \"total\", \"customdata\": [[933, 1491, 933.0], [1808, 1020, 1808.0], [1988, 1124, 1988.0], [2418, 1385, 2418.0], [1983, 1790, 1983.0], [2170, 2167, 2170.0], [2387, 2388, 2387.0], [2903, 2942, 2903.0], [1241, 1500, 1241.0], [1819, 1356, 1819.0], [2001, 1494, 2001.0], [2434, 1841, 2434.0], [940, 1428, 940.0], [1731, 1027, 1731.0], [1904, 1132, 1904.0], [2316, 1395, 2316.0], [1001, 1469, 1001.0], [1781, 1094, 1781.0], [1959, 1206, 1959.0], [2383, 1486, 2383.0], [1362, 1340, 1362.0], [1625, 1488, 1625.0], [1787, 1640, 1787.0], [2173, 2020, 2173.0], [1021, 1630, 1021.0], [1977, 1116, 1977.0], [2174, 1230, 2174.0], [2644, 1515, 2644.0], [1219, 1540, 1219.0], [1868, 1332, 1868.0], [2054, 1468, 2054.0], [2498, 1809, 2498.0], [1055, 1551, 1055.0], [1881, 1152, 1881.0], [2069, 1270, 2069.0], [2516, 1565, 2516.0], [1091, 1351, 1091.0], [1638, 1192, 1638.0], [1802, 1314, 1802.0], [2192, 1619, 2192.0], [\"(?)\", \"(?)\", 1224.7502831983431], [\"(?)\", \"(?)\", 1856.058787788345], [\"(?)\", \"(?)\", 2041.3886794989783], [\"(?)\", \"(?)\", 2482.826591451349]], \"domain\": {\"x\": [0.0, 1.0], \"y\": [0.0, 1.0]}, \"hovertemplate\": \"labels=%{label}<br>average_house_value=%{value}<br>parent=%{parent}<br>id=%{id}<br>shelter_costs_owned=%{customdata[0]}<br>shelter_costs_rented=%{customdata[1]}<br>shelter_costs_ownedadditional_col_for_hover=%{color}<extra></extra>\", \"ids\": [\"2001/Bedford Park-Nortown\", \"2006/Bedford Park-Nortown\", \"2011/Bedford Park-Nortown\", \"2016/Bedford Park-Nortown\", \"2001/Bridle Path-Sunnybrook-York Mills\", \"2006/Bridle Path-Sunnybrook-York Mills\", \"2011/Bridle Path-Sunnybrook-York Mills\", \"2016/Bridle Path-Sunnybrook-York Mills\", \"2001/Casa Loma\", \"2006/Casa Loma\", \"2011/Casa Loma\", \"2016/Casa Loma\", \"2001/Forest Hill North\", \"2006/Forest Hill North\", \"2011/Forest Hill North\", \"2016/Forest Hill North\", \"2001/Forest Hill South\", \"2006/Forest Hill South\", \"2011/Forest Hill South\", \"2016/Forest Hill South\", \"2001/Kingsway South\", \"2006/Kingsway South\", \"2011/Kingsway South\", \"2016/Kingsway South\", \"2001/Lawrence Park South\", \"2006/Lawrence Park South\", \"2011/Lawrence Park South\", \"2016/Lawrence Park South\", \"2001/Rosedale-Moore Park\", \"2006/Rosedale-Moore Park\", \"2011/Rosedale-Moore Park\", \"2016/Rosedale-Moore Park\", \"2001/St.Andrew-Windfields\", \"2006/St.Andrew-Windfields\", \"2011/St.Andrew-Windfields\", \"2016/St.Andrew-Windfields\", \"2001/Yonge-St.Clair\", \"2006/Yonge-St.Clair\", \"2011/Yonge-St.Clair\", \"2016/Yonge-St.Clair\", \"2001\", \"2006\", \"2011\", \"2016\"], \"labels\": [\"Bedford Park-Nortown\", \"Bedford Park-Nortown\", \"Bedford Park-Nortown\", \"Bedford Park-Nortown\", \"Bridle Path-Sunnybrook-York Mills\", \"Bridle Path-Sunnybrook-York Mills\", \"Bridle Path-Sunnybrook-York Mills\", \"Bridle Path-Sunnybrook-York Mills\", \"Casa Loma\", \"Casa Loma\", \"Casa Loma\", \"Casa Loma\", \"Forest Hill North\", \"Forest Hill North\", \"Forest Hill North\", \"Forest Hill North\", \"Forest Hill South\", \"Forest Hill South\", \"Forest Hill South\", \"Forest Hill South\", \"Kingsway South\", \"Kingsway South\", \"Kingsway South\", \"Kingsway South\", \"Lawrence Park South\", \"Lawrence Park South\", \"Lawrence Park South\", \"Lawrence Park South\", \"Rosedale-Moore Park\", \"Rosedale-Moore Park\", \"Rosedale-Moore Park\", \"Rosedale-Moore Park\", \"St.Andrew-Windfields\", \"St.Andrew-Windfields\", \"St.Andrew-Windfields\", \"St.Andrew-Windfields\", \"Yonge-St.Clair\", \"Yonge-St.Clair\", \"Yonge-St.Clair\", \"Yonge-St.Clair\", \"2001\", \"2006\", \"2011\", \"2016\"], \"marker\": {\"coloraxis\": \"coloraxis\", \"colors\": [933.0, 1808.0, 1988.0, 2418.0, 1983.0, 2170.0, 2387.0, 2903.0, 1241.0, 1819.0, 2001.0, 2434.0, 940.0, 1731.0, 1904.0, 2316.0, 1001.0, 1781.0, 1959.0, 2383.0, 1362.0, 1625.0, 1787.0, 2173.0, 1021.0, 1977.0, 2174.0, 2644.0, 1219.0, 1868.0, 2054.0, 2498.0, 1055.0, 1881.0, 2069.0, 2516.0, 1091.0, 1638.0, 1802.0, 2192.0, 1224.7502831983431, 1856.058787788345, 2041.3886794989783, 2482.826591451349]}, \"name\": \"\", \"parents\": [\"2001\", \"2006\", \"2011\", \"2016\", \"2001\", \"2006\", \"2011\", \"2016\", \"2001\", \"2006\", \"2011\", \"2016\", \"2001\", \"2006\", \"2011\", \"2016\", \"2001\", \"2006\", \"2011\", \"2016\", \"2001\", \"2006\", \"2011\", \"2016\", \"2001\", \"2006\", \"2011\", \"2016\", \"2001\", \"2006\", \"2011\", \"2016\", \"2001\", \"2006\", \"2011\", \"2016\", \"2001\", \"2006\", \"2011\", \"2016\", \"\", \"\", \"\", \"\"], \"type\": \"sunburst\", \"values\": [565304, 826963, 1034387, 1295007, 927466, 1356757, 1697067, 2124653, 596077, 871981, 1090696, 1365503, 517466, 756983, 946854, 1185419, 726664, 1063011, 1329642, 1664653, 512334, 749476, 937464, 1173663, 664712, 972384, 1216283, 1522732, 664476, 972039, 1215852, 1522193, 607040, 888017, 1110755, 1390616, 494098, 722799, 904096, 1131888, 6275637, 9180410, 11483096, 14376327]}],\n",
       "                        {\"coloraxis\": {\"colorbar\": {\"title\": {\"text\": \"shelter_costs_ownedadditional_col_for_hover\"}}, \"colorscale\": [[0.0, \"rgb(247,251,255)\"], [0.125, \"rgb(222,235,247)\"], [0.25, \"rgb(198,219,239)\"], [0.375, \"rgb(158,202,225)\"], [0.5, \"rgb(107,174,214)\"], [0.625, \"rgb(66,146,198)\"], [0.75, \"rgb(33,113,181)\"], [0.875, \"rgb(8,81,156)\"], [1.0, \"rgb(8,48,107)\"]]}, \"legend\": {\"tracegroupgap\": 0}, \"template\": {\"data\": {\"bar\": [{\"error_x\": {\"color\": \"#2a3f5f\"}, \"error_y\": {\"color\": \"#2a3f5f\"}, \"marker\": {\"line\": {\"color\": \"#E5ECF6\", \"width\": 0.5}}, \"type\": \"bar\"}], \"barpolar\": [{\"marker\": {\"line\": {\"color\": \"#E5ECF6\", \"width\": 0.5}}, \"type\": \"barpolar\"}], \"carpet\": [{\"aaxis\": {\"endlinecolor\": \"#2a3f5f\", \"gridcolor\": \"white\", \"linecolor\": \"white\", \"minorgridcolor\": \"white\", \"startlinecolor\": \"#2a3f5f\"}, \"baxis\": {\"endlinecolor\": \"#2a3f5f\", \"gridcolor\": \"white\", \"linecolor\": \"white\", \"minorgridcolor\": \"white\", \"startlinecolor\": \"#2a3f5f\"}, \"type\": \"carpet\"}], \"choropleth\": [{\"colorbar\": {\"outlinewidth\": 0, \"ticks\": \"\"}, \"type\": \"choropleth\"}], \"contour\": [{\"colorbar\": {\"outlinewidth\": 0, \"ticks\": \"\"}, \"colorscale\": [[0.0, \"#0d0887\"], [0.1111111111111111, \"#46039f\"], [0.2222222222222222, \"#7201a8\"], [0.3333333333333333, \"#9c179e\"], [0.4444444444444444, \"#bd3786\"], [0.5555555555555556, \"#d8576b\"], [0.6666666666666666, \"#ed7953\"], [0.7777777777777778, \"#fb9f3a\"], [0.8888888888888888, \"#fdca26\"], [1.0, \"#f0f921\"]], \"type\": \"contour\"}], \"contourcarpet\": [{\"colorbar\": {\"outlinewidth\": 0, \"ticks\": \"\"}, \"type\": \"contourcarpet\"}], \"heatmap\": [{\"colorbar\": {\"outlinewidth\": 0, \"ticks\": \"\"}, \"colorscale\": [[0.0, \"#0d0887\"], [0.1111111111111111, \"#46039f\"], [0.2222222222222222, \"#7201a8\"], [0.3333333333333333, \"#9c179e\"], [0.4444444444444444, \"#bd3786\"], [0.5555555555555556, \"#d8576b\"], [0.6666666666666666, \"#ed7953\"], [0.7777777777777778, \"#fb9f3a\"], [0.8888888888888888, \"#fdca26\"], [1.0, \"#f0f921\"]], \"type\": \"heatmap\"}], \"heatmapgl\": [{\"colorbar\": {\"outlinewidth\": 0, \"ticks\": \"\"}, \"colorscale\": [[0.0, \"#0d0887\"], [0.1111111111111111, \"#46039f\"], [0.2222222222222222, \"#7201a8\"], [0.3333333333333333, \"#9c179e\"], [0.4444444444444444, \"#bd3786\"], [0.5555555555555556, \"#d8576b\"], [0.6666666666666666, \"#ed7953\"], [0.7777777777777778, \"#fb9f3a\"], [0.8888888888888888, \"#fdca26\"], [1.0, \"#f0f921\"]], \"type\": \"heatmapgl\"}], \"histogram\": [{\"marker\": {\"colorbar\": {\"outlinewidth\": 0, \"ticks\": \"\"}}, \"type\": \"histogram\"}], \"histogram2d\": [{\"colorbar\": {\"outlinewidth\": 0, \"ticks\": \"\"}, \"colorscale\": [[0.0, \"#0d0887\"], [0.1111111111111111, \"#46039f\"], [0.2222222222222222, \"#7201a8\"], [0.3333333333333333, \"#9c179e\"], [0.4444444444444444, \"#bd3786\"], [0.5555555555555556, \"#d8576b\"], [0.6666666666666666, \"#ed7953\"], [0.7777777777777778, \"#fb9f3a\"], [0.8888888888888888, \"#fdca26\"], [1.0, \"#f0f921\"]], \"type\": \"histogram2d\"}], \"histogram2dcontour\": [{\"colorbar\": {\"outlinewidth\": 0, \"ticks\": \"\"}, \"colorscale\": [[0.0, \"#0d0887\"], [0.1111111111111111, \"#46039f\"], [0.2222222222222222, \"#7201a8\"], [0.3333333333333333, \"#9c179e\"], [0.4444444444444444, \"#bd3786\"], [0.5555555555555556, \"#d8576b\"], [0.6666666666666666, \"#ed7953\"], [0.7777777777777778, \"#fb9f3a\"], [0.8888888888888888, \"#fdca26\"], [1.0, \"#f0f921\"]], \"type\": \"histogram2dcontour\"}], \"mesh3d\": [{\"colorbar\": {\"outlinewidth\": 0, \"ticks\": \"\"}, \"type\": \"mesh3d\"}], \"parcoords\": [{\"line\": {\"colorbar\": {\"outlinewidth\": 0, \"ticks\": \"\"}}, \"type\": \"parcoords\"}], \"pie\": [{\"automargin\": true, \"type\": \"pie\"}], \"scatter\": [{\"marker\": {\"colorbar\": {\"outlinewidth\": 0, \"ticks\": \"\"}}, \"type\": \"scatter\"}], \"scatter3d\": [{\"line\": {\"colorbar\": {\"outlinewidth\": 0, \"ticks\": \"\"}}, \"marker\": {\"colorbar\": {\"outlinewidth\": 0, \"ticks\": \"\"}}, \"type\": \"scatter3d\"}], \"scattercarpet\": [{\"marker\": {\"colorbar\": {\"outlinewidth\": 0, \"ticks\": \"\"}}, \"type\": \"scattercarpet\"}], \"scattergeo\": [{\"marker\": {\"colorbar\": {\"outlinewidth\": 0, \"ticks\": \"\"}}, \"type\": \"scattergeo\"}], \"scattergl\": [{\"marker\": {\"colorbar\": {\"outlinewidth\": 0, \"ticks\": \"\"}}, \"type\": \"scattergl\"}], \"scattermapbox\": [{\"marker\": {\"colorbar\": {\"outlinewidth\": 0, \"ticks\": \"\"}}, \"type\": \"scattermapbox\"}], \"scatterpolar\": [{\"marker\": {\"colorbar\": {\"outlinewidth\": 0, \"ticks\": \"\"}}, \"type\": \"scatterpolar\"}], \"scatterpolargl\": [{\"marker\": {\"colorbar\": {\"outlinewidth\": 0, \"ticks\": \"\"}}, \"type\": \"scatterpolargl\"}], \"scatterternary\": [{\"marker\": {\"colorbar\": {\"outlinewidth\": 0, \"ticks\": \"\"}}, \"type\": \"scatterternary\"}], \"surface\": [{\"colorbar\": {\"outlinewidth\": 0, \"ticks\": \"\"}, \"colorscale\": [[0.0, \"#0d0887\"], [0.1111111111111111, \"#46039f\"], [0.2222222222222222, \"#7201a8\"], [0.3333333333333333, \"#9c179e\"], [0.4444444444444444, \"#bd3786\"], [0.5555555555555556, \"#d8576b\"], [0.6666666666666666, \"#ed7953\"], [0.7777777777777778, \"#fb9f3a\"], [0.8888888888888888, \"#fdca26\"], [1.0, \"#f0f921\"]], \"type\": \"surface\"}], \"table\": [{\"cells\": {\"fill\": {\"color\": \"#EBF0F8\"}, \"line\": {\"color\": \"white\"}}, \"header\": {\"fill\": {\"color\": \"#C8D4E3\"}, \"line\": {\"color\": \"white\"}}, \"type\": \"table\"}]}, \"layout\": {\"annotationdefaults\": {\"arrowcolor\": \"#2a3f5f\", \"arrowhead\": 0, \"arrowwidth\": 1}, \"coloraxis\": {\"colorbar\": {\"outlinewidth\": 0, \"ticks\": \"\"}}, \"colorscale\": {\"diverging\": [[0, \"#8e0152\"], [0.1, \"#c51b7d\"], [0.2, \"#de77ae\"], [0.3, \"#f1b6da\"], [0.4, \"#fde0ef\"], [0.5, \"#f7f7f7\"], [0.6, \"#e6f5d0\"], [0.7, \"#b8e186\"], [0.8, \"#7fbc41\"], [0.9, \"#4d9221\"], [1, \"#276419\"]], \"sequential\": [[0.0, \"#0d0887\"], [0.1111111111111111, \"#46039f\"], [0.2222222222222222, \"#7201a8\"], [0.3333333333333333, \"#9c179e\"], [0.4444444444444444, \"#bd3786\"], [0.5555555555555556, \"#d8576b\"], [0.6666666666666666, \"#ed7953\"], [0.7777777777777778, \"#fb9f3a\"], [0.8888888888888888, \"#fdca26\"], [1.0, \"#f0f921\"]], \"sequentialminus\": [[0.0, \"#0d0887\"], [0.1111111111111111, \"#46039f\"], [0.2222222222222222, \"#7201a8\"], [0.3333333333333333, \"#9c179e\"], [0.4444444444444444, \"#bd3786\"], [0.5555555555555556, \"#d8576b\"], [0.6666666666666666, \"#ed7953\"], [0.7777777777777778, \"#fb9f3a\"], [0.8888888888888888, \"#fdca26\"], [1.0, \"#f0f921\"]]}, \"colorway\": [\"#636efa\", \"#EF553B\", \"#00cc96\", \"#ab63fa\", \"#FFA15A\", \"#19d3f3\", \"#FF6692\", \"#B6E880\", \"#FF97FF\", \"#FECB52\"], \"font\": {\"color\": \"#2a3f5f\"}, \"geo\": {\"bgcolor\": \"white\", \"lakecolor\": \"white\", \"landcolor\": \"#E5ECF6\", \"showlakes\": true, \"showland\": true, \"subunitcolor\": \"white\"}, \"hoverlabel\": {\"align\": \"left\"}, \"hovermode\": \"closest\", \"mapbox\": {\"style\": \"light\"}, \"paper_bgcolor\": \"white\", \"plot_bgcolor\": \"#E5ECF6\", \"polar\": {\"angularaxis\": {\"gridcolor\": \"white\", \"linecolor\": \"white\", \"ticks\": \"\"}, \"bgcolor\": \"#E5ECF6\", \"radialaxis\": {\"gridcolor\": \"white\", \"linecolor\": \"white\", \"ticks\": \"\"}}, \"scene\": {\"xaxis\": {\"backgroundcolor\": \"#E5ECF6\", \"gridcolor\": \"white\", \"gridwidth\": 2, \"linecolor\": \"white\", \"showbackground\": true, \"ticks\": \"\", \"zerolinecolor\": \"white\"}, \"yaxis\": {\"backgroundcolor\": \"#E5ECF6\", \"gridcolor\": \"white\", \"gridwidth\": 2, \"linecolor\": \"white\", \"showbackground\": true, \"ticks\": \"\", \"zerolinecolor\": \"white\"}, \"zaxis\": {\"backgroundcolor\": \"#E5ECF6\", \"gridcolor\": \"white\", \"gridwidth\": 2, \"linecolor\": \"white\", \"showbackground\": true, \"ticks\": \"\", \"zerolinecolor\": \"white\"}}, \"shapedefaults\": {\"line\": {\"color\": \"#2a3f5f\"}}, \"ternary\": {\"aaxis\": {\"gridcolor\": \"white\", \"linecolor\": \"white\", \"ticks\": \"\"}, \"baxis\": {\"gridcolor\": \"white\", \"linecolor\": \"white\", \"ticks\": \"\"}, \"bgcolor\": \"#E5ECF6\", \"caxis\": {\"gridcolor\": \"white\", \"linecolor\": \"white\", \"ticks\": \"\"}}, \"title\": {\"x\": 0.05}, \"xaxis\": {\"automargin\": true, \"gridcolor\": \"white\", \"linecolor\": \"white\", \"ticks\": \"\", \"title\": {\"standoff\": 15}, \"zerolinecolor\": \"white\", \"zerolinewidth\": 2}, \"yaxis\": {\"automargin\": true, \"gridcolor\": \"white\", \"linecolor\": \"white\", \"ticks\": \"\", \"title\": {\"standoff\": 15}, \"zerolinecolor\": \"white\", \"zerolinewidth\": 2}}}, \"title\": {\"text\": \"Costs Analysis of Most Expensive Neighbourhoods in Toronto per Year\"}},\n",
       "                        {\"responsive\": true}\n",
       "                    ).then(function(){\n",
       "                            \n",
       "var gd = document.getElementById('c48d3a98-b006-44bf-84cc-dc0791db0b27');\n",
       "var x = new MutationObserver(function (mutations, observer) {{\n",
       "        var display = window.getComputedStyle(gd).display;\n",
       "        if (!display || display === 'none') {{\n",
       "            console.log([gd, 'removed!']);\n",
       "            Plotly.purge(gd);\n",
       "            observer.disconnect();\n",
       "        }}\n",
       "}});\n",
       "\n",
       "// Listen for the removal of the full notebook cells\n",
       "var notebookContainer = gd.closest('#notebook-container');\n",
       "if (notebookContainer) {{\n",
       "    x.observe(notebookContainer, {childList: true});\n",
       "}}\n",
       "\n",
       "// Listen for the clearing of the current output cell\n",
       "var outputEl = gd.closest('.output');\n",
       "if (outputEl) {{\n",
       "    x.observe(outputEl, {childList: true});\n",
       "}}\n",
       "\n",
       "                        })\n",
       "                };\n",
       "                });\n",
       "            </script>\n",
       "        </div>"
      ]
     },
     "metadata": {},
     "output_type": "display_data"
    }
   ],
   "source": [
    "# Create the sunburst chart\n",
    "# YOUR CODE HERE!"
   ]
  }
 ],
 "metadata": {
  "file_extension": ".py",
  "kernelspec": {
   "display_name": "Python 3 (ipykernel)",
   "language": "python",
   "name": "python3"
  },
  "language_info": {
   "codemirror_mode": {
    "name": "ipython",
    "version": 3
   },
   "file_extension": ".py",
   "mimetype": "text/x-python",
   "name": "python",
   "nbconvert_exporter": "python",
   "pygments_lexer": "ipython3",
   "version": "3.7.11"
  },
  "mimetype": "text/x-python",
  "name": "python",
  "npconvert_exporter": "python",
  "pygments_lexer": "ipython3",
  "version": 3
 },
 "nbformat": 4,
 "nbformat_minor": 4
}
